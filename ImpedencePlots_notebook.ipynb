{
  "nbformat": 4,
  "nbformat_minor": 0,
  "metadata": {
    "colab": {
      "provenance": []
    },
    "kernelspec": {
      "name": "python3",
      "display_name": "Python 3"
    },
    "language_info": {
      "name": "python"
    }
  },
  "cells": [
    {
      "cell_type": "code",
      "source": [
        "# >> How to run the code Google Colab:\n",
        "#       1. Click on the cell you want to run. Press \"Shift + Enter\" to run the cell\n",
        "#       2. Alternatively, click the \"Play\" button on the left side of the cell\n",
        "#       3. To Run all Cells, go to 'Runtime' in menu and select 'Run all'\n",
        "\n",
        "# First lets install impedance library in python\n",
        "!pip install impedance\n",
        "\n",
        "import warnings\n",
        "warnings.filterwarnings(\"ignore\")"
      ],
      "metadata": {
        "colab": {
          "base_uri": "https://localhost:8080/"
        },
        "id": "pQCWapg_vV7d",
        "outputId": "f4b129a0-e93c-4d60-99b3-ec0ef720d29f",
        "collapsed": true
      },
      "execution_count": 5,
      "outputs": [
        {
          "output_type": "stream",
          "name": "stdout",
          "text": [
            "Requirement already satisfied: impedance in /usr/local/lib/python3.10/dist-packages (1.7.1)\n",
            "Requirement already satisfied: altair>=3.0 in /usr/local/lib/python3.10/dist-packages (from impedance) (4.2.2)\n",
            "Requirement already satisfied: matplotlib>=3.5 in /usr/local/lib/python3.10/dist-packages (from impedance) (3.7.1)\n",
            "Requirement already satisfied: numpy>=1.14 in /usr/local/lib/python3.10/dist-packages (from impedance) (1.26.4)\n",
            "Requirement already satisfied: scipy>=1.0 in /usr/local/lib/python3.10/dist-packages (from impedance) (1.13.1)\n",
            "Requirement already satisfied: entrypoints in /usr/local/lib/python3.10/dist-packages (from altair>=3.0->impedance) (0.4)\n",
            "Requirement already satisfied: jinja2 in /usr/local/lib/python3.10/dist-packages (from altair>=3.0->impedance) (3.1.4)\n",
            "Requirement already satisfied: jsonschema>=3.0 in /usr/local/lib/python3.10/dist-packages (from altair>=3.0->impedance) (4.23.0)\n",
            "Requirement already satisfied: pandas>=0.18 in /usr/local/lib/python3.10/dist-packages (from altair>=3.0->impedance) (2.1.4)\n",
            "Requirement already satisfied: toolz in /usr/local/lib/python3.10/dist-packages (from altair>=3.0->impedance) (0.12.1)\n",
            "Requirement already satisfied: contourpy>=1.0.1 in /usr/local/lib/python3.10/dist-packages (from matplotlib>=3.5->impedance) (1.3.0)\n",
            "Requirement already satisfied: cycler>=0.10 in /usr/local/lib/python3.10/dist-packages (from matplotlib>=3.5->impedance) (0.12.1)\n",
            "Requirement already satisfied: fonttools>=4.22.0 in /usr/local/lib/python3.10/dist-packages (from matplotlib>=3.5->impedance) (4.53.1)\n",
            "Requirement already satisfied: kiwisolver>=1.0.1 in /usr/local/lib/python3.10/dist-packages (from matplotlib>=3.5->impedance) (1.4.7)\n",
            "Requirement already satisfied: packaging>=20.0 in /usr/local/lib/python3.10/dist-packages (from matplotlib>=3.5->impedance) (24.1)\n",
            "Requirement already satisfied: pillow>=6.2.0 in /usr/local/lib/python3.10/dist-packages (from matplotlib>=3.5->impedance) (9.4.0)\n",
            "Requirement already satisfied: pyparsing>=2.3.1 in /usr/local/lib/python3.10/dist-packages (from matplotlib>=3.5->impedance) (3.1.4)\n",
            "Requirement already satisfied: python-dateutil>=2.7 in /usr/local/lib/python3.10/dist-packages (from matplotlib>=3.5->impedance) (2.8.2)\n",
            "Requirement already satisfied: attrs>=22.2.0 in /usr/local/lib/python3.10/dist-packages (from jsonschema>=3.0->altair>=3.0->impedance) (24.2.0)\n",
            "Requirement already satisfied: jsonschema-specifications>=2023.03.6 in /usr/local/lib/python3.10/dist-packages (from jsonschema>=3.0->altair>=3.0->impedance) (2023.12.1)\n",
            "Requirement already satisfied: referencing>=0.28.4 in /usr/local/lib/python3.10/dist-packages (from jsonschema>=3.0->altair>=3.0->impedance) (0.35.1)\n",
            "Requirement already satisfied: rpds-py>=0.7.1 in /usr/local/lib/python3.10/dist-packages (from jsonschema>=3.0->altair>=3.0->impedance) (0.20.0)\n",
            "Requirement already satisfied: pytz>=2020.1 in /usr/local/lib/python3.10/dist-packages (from pandas>=0.18->altair>=3.0->impedance) (2024.1)\n",
            "Requirement already satisfied: tzdata>=2022.1 in /usr/local/lib/python3.10/dist-packages (from pandas>=0.18->altair>=3.0->impedance) (2024.1)\n",
            "Requirement already satisfied: six>=1.5 in /usr/local/lib/python3.10/dist-packages (from python-dateutil>=2.7->matplotlib>=3.5->impedance) (1.16.0)\n",
            "Requirement already satisfied: MarkupSafe>=2.0 in /usr/local/lib/python3.10/dist-packages (from jinja2->altair>=3.0->impedance) (2.1.5)\n"
          ]
        }
      ]
    },
    {
      "cell_type": "code",
      "execution_count": 6,
      "metadata": {
        "colab": {
          "base_uri": "https://localhost:8080/",
          "height": 632
        },
        "id": "L-8ma8I9vO05",
        "outputId": "52cf4e8a-aee5-4228-af8a-bfa55223189c"
      },
      "outputs": [
        {
          "output_type": "stream",
          "name": "stdout",
          "text": [
            "\n",
            "Circuit string: R0-p(R1,C1)\n",
            "Fit: False\n",
            "\n",
            "Initial guesses:\n",
            "     R0 = 1.00e+01 [Ohm]\n",
            "     R1 = 1.00e+02 [Ohm]\n",
            "     C1 = 1.00e-04 [F]\n",
            "\n"
          ]
        },
        {
          "output_type": "execute_result",
          "data": {
            "text/html": [
              "\n",
              "<div id=\"altair-viz-cf48711369ac42519b10e8efb45694ac\"></div>\n",
              "<script type=\"text/javascript\">\n",
              "  var VEGA_DEBUG = (typeof VEGA_DEBUG == \"undefined\") ? {} : VEGA_DEBUG;\n",
              "  (function(spec, embedOpt){\n",
              "    let outputDiv = document.currentScript.previousElementSibling;\n",
              "    if (outputDiv.id !== \"altair-viz-cf48711369ac42519b10e8efb45694ac\") {\n",
              "      outputDiv = document.getElementById(\"altair-viz-cf48711369ac42519b10e8efb45694ac\");\n",
              "    }\n",
              "    const paths = {\n",
              "      \"vega\": \"https://cdn.jsdelivr.net/npm//vega@5?noext\",\n",
              "      \"vega-lib\": \"https://cdn.jsdelivr.net/npm//vega-lib?noext\",\n",
              "      \"vega-lite\": \"https://cdn.jsdelivr.net/npm//vega-lite@4.17.0?noext\",\n",
              "      \"vega-embed\": \"https://cdn.jsdelivr.net/npm//vega-embed@6?noext\",\n",
              "    };\n",
              "\n",
              "    function maybeLoadScript(lib, version) {\n",
              "      var key = `${lib.replace(\"-\", \"\")}_version`;\n",
              "      return (VEGA_DEBUG[key] == version) ?\n",
              "        Promise.resolve(paths[lib]) :\n",
              "        new Promise(function(resolve, reject) {\n",
              "          var s = document.createElement('script');\n",
              "          document.getElementsByTagName(\"head\")[0].appendChild(s);\n",
              "          s.async = true;\n",
              "          s.onload = () => {\n",
              "            VEGA_DEBUG[key] = version;\n",
              "            return resolve(paths[lib]);\n",
              "          };\n",
              "          s.onerror = () => reject(`Error loading script: ${paths[lib]}`);\n",
              "          s.src = paths[lib];\n",
              "        });\n",
              "    }\n",
              "\n",
              "    function showError(err) {\n",
              "      outputDiv.innerHTML = `<div class=\"error\" style=\"color:red;\">${err}</div>`;\n",
              "      throw err;\n",
              "    }\n",
              "\n",
              "    function displayChart(vegaEmbed) {\n",
              "      vegaEmbed(outputDiv, spec, embedOpt)\n",
              "        .catch(err => showError(`Javascript Error: ${err.message}<br>This usually means there's a typo in your chart specification. See the javascript console for the full traceback.`));\n",
              "    }\n",
              "\n",
              "    if(typeof define === \"function\" && define.amd) {\n",
              "      requirejs.config({paths});\n",
              "      require([\"vega-embed\"], displayChart, err => showError(`Error loading script: ${err.message}`));\n",
              "    } else {\n",
              "      maybeLoadScript(\"vega\", \"5\")\n",
              "        .then(() => maybeLoadScript(\"vega-lite\", \"4.17.0\"))\n",
              "        .then(() => maybeLoadScript(\"vega-embed\", \"6\"))\n",
              "        .catch(showError)\n",
              "        .then(() => displayChart(vegaEmbed));\n",
              "    }\n",
              "  })({\"config\": {\"view\": {\"continuousWidth\": 400, \"continuousHeight\": 300}, \"background\": \"#FFFFFF\"}, \"hconcat\": [{\"vconcat\": [{\"layer\": [{\"mark\": \"circle\", \"encoding\": {\"color\": {\"field\": \"kind\", \"type\": \"nominal\"}, \"size\": {\"condition\": {\"value\": 80, \"selection\": \"selector004\"}, \"value\": 30}, \"x\": {\"axis\": {\"title\": \"f [Hz]\"}, \"field\": \"f\", \"scale\": {\"nice\": false, \"type\": \"log\"}, \"type\": \"quantitative\"}, \"y\": {\"axis\": {\"title\": \"|Z| [\\u03a9]\"}, \"field\": \"mag\", \"type\": \"quantitative\"}}, \"height\": 175.0, \"selection\": {\"selector004\": {\"type\": \"single\", \"on\": \"mouseover\", \"nearest\": true, \"empty\": \"none\", \"fields\": [\"f\"]}, \"selector006\": {\"type\": \"interval\", \"bind\": \"scales\", \"encodings\": [\"x\", \"y\"]}}, \"transform\": [{\"calculate\": \"sqrt(pow(datum.z_real,2) + pow(datum.z_imag,2))\", \"as\": \"mag\"}, {\"calculate\": \"-(180/PI)*atan(datum.z_imag/datum.z_real)\", \"as\": \"neg_phase\"}], \"width\": 400}]}, {\"layer\": [{\"mark\": \"circle\", \"encoding\": {\"color\": {\"field\": \"kind\", \"type\": \"nominal\"}, \"size\": {\"condition\": {\"value\": 80, \"selection\": \"selector004\"}, \"value\": 30}, \"x\": {\"axis\": {\"title\": \"f [Hz]\"}, \"field\": \"f\", \"scale\": {\"nice\": false, \"type\": \"log\"}, \"type\": \"quantitative\"}, \"y\": {\"axis\": {\"title\": \"-\\u03d5 [\\u00b0]\"}, \"field\": \"neg_phase\", \"type\": \"quantitative\"}}, \"height\": 175.0, \"selection\": {\"selector004\": {\"type\": \"single\", \"on\": \"mouseover\", \"nearest\": true, \"empty\": \"none\", \"fields\": [\"f\"]}, \"selector006\": {\"type\": \"interval\", \"bind\": \"scales\", \"encodings\": [\"x\", \"y\"]}}, \"transform\": [{\"calculate\": \"sqrt(pow(datum.z_real,2) + pow(datum.z_imag,2))\", \"as\": \"mag\"}, {\"calculate\": \"-(180/PI)*atan(datum.z_imag/datum.z_real)\", \"as\": \"neg_phase\"}], \"width\": 400}]}]}, {\"layer\": [{\"mark\": \"circle\", \"encoding\": {\"color\": {\"field\": \"kind\", \"legend\": {\"title\": \"Legend\"}, \"type\": \"nominal\"}, \"size\": {\"condition\": {\"value\": 80, \"selection\": \"selector004\"}, \"value\": 30}, \"x\": {\"axis\": {\"title\": \"Z' [\\u03a9]\"}, \"field\": \"z_real\", \"scale\": {\"domain\": [10.000000025330296, 109.99999960521583], \"nice\": false, \"padding\": 5}, \"type\": \"quantitative\"}, \"y\": {\"axis\": {\"title\": \"-Z'' [\\u03a9]\"}, \"field\": \"neg_z_imag\", \"scale\": {\"domain\": [0.001591549430515809, 100.00159112931605], \"nice\": false, \"padding\": 5}, \"type\": \"quantitative\"}}, \"height\": 400, \"selection\": {\"selector004\": {\"type\": \"single\", \"on\": \"mouseover\", \"nearest\": true, \"empty\": \"none\", \"fields\": [\"f\"]}, \"selector005\": {\"type\": \"interval\", \"bind\": \"scales\", \"encodings\": [\"x\", \"y\"]}}, \"transform\": [{\"calculate\": \"-datum.z_imag\", \"as\": \"neg_z_imag\"}], \"width\": 400}]}], \"data\": {\"name\": \"data-e30a0748c5c37c74e57359880b8d92e7\"}, \"$schema\": \"https://vega.github.io/schema/vega-lite/v4.17.0.json\", \"datasets\": {\"data-e30a0748c5c37c74e57359880b8d92e7\": [{\"f\": 0.001, \"z_real\": 109.99999960521583, \"z_imag\": -0.006283185282374565, \"kind\": \"data\", \"fmt\": \"o\"}, {\"f\": 0.0012328467394420659, \"z_real\": 109.99999939996316, \"z_imag\": -0.007746204472786566, \"kind\": \"data\", \"fmt\": \"o\"}, {\"f\": 0.0015199110829529332, \"z_real\": 109.99999908799737, \"z_imag\": -0.0095498828975341, \"kind\": \"data\", \"fmt\": \"o\"}, {\"f\": 0.001873817422860383, \"z_real\": 109.99999861383708, \"z_imag\": -0.011773541936453002, \"kind\": \"data\", \"fmt\": \"o\"}, {\"f\": 0.0023101297000831605, \"z_real\": 109.99999789315564, \"z_imag\": -0.014514972683433807, \"kind\": \"data\", \"fmt\": \"o\"}, {\"f\": 0.002848035868435802, \"z_real\": 109.99999679778394, \"z_imag\": -0.01789473654984814, \"kind\": \"data\", \"fmt\": \"o\"}, {\"f\": 0.003511191734215131, \"z_real\": 109.9999951329164, \"z_imag\": -0.022061467241360815, \"kind\": \"data\", \"fmt\": \"o\"}, {\"f\": 0.004328761281083057, \"z_real\": 109.99999260246588, \"z_imag\": -0.027198407267577347, \"kind\": \"data\", \"fmt\": \"o\"}, {\"f\": 0.005336699231206312, \"z_real\": 109.99998875640632, \"z_imag\": -0.03353146642820983, \"kind\": \"data\", \"fmt\": \"o\"}, {\"f\": 0.006579332246575682, \"z_real\": 109.99998291073837, \"z_imag\": -0.041339156638179345, \"kind\": \"data\", \"fmt\": \"o\"}, {\"f\": 0.008111308307896872, \"z_real\": 109.99997402584415, \"z_imag\": -0.05096483994449095, \"kind\": \"data\", \"fmt\": \"o\"}, {\"f\": 0.01, \"z_real\": 109.99996052159798, \"z_imag\": -0.06283182826678432, \"kind\": \"data\", \"fmt\": \"o\"}, {\"f\": 0.012328467394420659, \"z_real\": 109.99993999635156, \"z_imag\": -0.07746199871261321, \"kind\": \"data\", \"fmt\": \"o\"}, {\"f\": 0.01519911082952934, \"z_real\": 109.99990879981816, \"z_imag\": -0.0954987427511864, \"kind\": \"data\", \"fmt\": \"o\"}, {\"f\": 0.01873817422860384, \"z_real\": 109.99986138389858, \"z_imag\": -0.11773525779628426, \"kind\": \"data\", \"fmt\": \"o\"}, {\"f\": 0.023101297000831605, \"z_real\": 109.99978931600299, \"z_imag\": -0.1451494240851644, \"kind\": \"data\", \"fmt\": \"o\"}, {\"f\": 0.02848035868435802, \"z_real\": 109.99967977940872, \"z_imag\": -0.17894679820243264, \"kind\": \"data\", \"fmt\": \"o\"}, {\"f\": 0.03511191734215131, \"z_real\": 109.99951329398462, \"z_imag\": -0.22061360940617547, \"kind\": \"data\", \"fmt\": \"o\"}, {\"f\": 0.04328761281083059, \"z_real\": 109.99926025200497, \"z_imag\": -0.27198208079901637, \"kind\": \"data\", \"fmt\": \"o\"}, {\"f\": 0.0533669923120631, \"z_real\": 109.99887565314803, \"z_imag\": -0.3353109318832249, \"kind\": \"data\", \"fmt\": \"o\"}, {\"f\": 0.06579332246575682, \"z_real\": 109.99829110274815, \"z_imag\": -0.4133845725890473, \"kind\": \"data\", \"fmt\": \"o\"}, {\"f\": 0.08111308307896872, \"z_real\": 109.99740265120407, \"z_imag\": -0.5096352944718087, \"kind\": \"data\", \"fmt\": \"o\"}, {\"f\": 0.1, \"z_real\": 109.99605231408795, \"z_imag\": -0.6282937266758387, \"kind\": \"data\", \"fmt\": \"o\"}, {\"f\": 0.12328467394420659, \"z_real\": 109.99399999157718, \"z_imag\": -0.7745739746343043, \"kind\": \"data\", \"fmt\": \"o\"}, {\"f\": 0.1519911082952933, \"z_real\": 109.99088080517096, \"z_imag\": -0.9549012112193968, \"kind\": \"data\", \"fmt\": \"o\"}, {\"f\": 0.1873817422860385, \"z_real\": 109.98614029182414, \"z_imag\": -1.1771910321076515, \"kind\": \"data\", \"fmt\": \"o\"}, {\"f\": 0.23101297000831605, \"z_real\": 109.97893599377053, \"z_imag\": -1.4511915554427042, \"kind\": \"data\", \"fmt\": \"o\"}, {\"f\": 0.2848035868435802, \"z_real\": 109.96798808923613, \"z_imag\": -1.7889008675597085, \"kind\": \"data\", \"fmt\": \"o\"}, {\"f\": 0.3511191734215131, \"z_real\": 109.95135283855947, \"z_imag\": -2.205073603700352, \"kind\": \"data\", \"fmt\": \"o\"}, {\"f\": 0.4328761281083057, \"z_real\": 109.92607933633325, \"z_imag\": -2.7178304034942675, \"kind\": \"data\", \"fmt\": \"o\"}, {\"f\": 0.5336699231206312, \"z_real\": 109.88769032708068, \"z_imag\": -3.349381111384729, \"kind\": \"data\", \"fmt\": \"o\"}, {\"f\": 0.6579332246575682, \"z_real\": 109.8293988991704, \"z_imag\": -4.126863863438657, \"kind\": \"data\", \"fmt\": \"o\"}, {\"f\": 0.8111308307896873, \"z_real\": 109.74093128330902, \"z_imag\": -5.083281919107882, \"kind\": \"data\", \"fmt\": \"o\"}, {\"f\": 1.0, \"z_real\": 109.60676824071724, \"z_imag\": -6.258477827057168, \"kind\": \"data\", \"fmt\": \"o\"}, {\"f\": 1.232846739442066, \"z_real\": 109.4035421224842, \"z_imag\": -7.700001672202997, \"kind\": \"data\", \"fmt\": \"o\"}, {\"f\": 1.5199110829529348, \"z_real\": 109.09623966797838, \"z_imag\": -9.463574930459728, \"kind\": \"data\", \"fmt\": \"o\"}, {\"f\": 1.873817422860385, \"z_real\": 108.6327888386486, \"z_imag\": -11.61257291798062, \"kind\": \"data\", \"fmt\": \"o\"}, {\"f\": 2.31012970008316, \"z_real\": 107.93662763648886, \"z_imag\": -14.215475048010576, \"kind\": \"data\", \"fmt\": \"o\"}, {\"f\": 2.848035868435802, \"z_real\": 106.89714398982704, \"z_imag\": -17.339489196554464, \"kind\": \"data\", \"fmt\": \"o\"}, {\"f\": 3.511191734215131, \"z_real\": 105.35880691646688, \"z_imag\": -21.03755297354414, \"kind\": \"data\", \"fmt\": \"o\"}, {\"f\": 4.328761281083062, \"z_real\": 103.11200699727746, \"z_imag\": -25.32498475155905, \"kind\": \"data\", \"fmt\": \"o\"}, {\"f\": 5.336699231206313, \"z_real\": 99.89281590276303, \"z_imag\": -30.142382774894507, \"kind\": \"data\", \"fmt\": \"o\"}, {\"f\": 6.5793322465756825, \"z_real\": 95.40492621491961, \"z_imag\": -35.30568225818753, \"kind\": \"data\", \"fmt\": \"o\"}, {\"f\": 8.111308307896872, \"z_real\": 89.38135720613415, \"z_imag\": -40.4565921541292, \"kind\": \"data\", \"fmt\": \"o\"}, {\"f\": 10.0, \"z_real\": 81.69568003248978, \"z_imag\": -45.04772433683887, \"kind\": \"data\", \"fmt\": \"o\"}, {\"f\": 12.32846739442066, \"z_real\": 72.49856079317814, \"z_imag\": -48.41266340637778, \"kind\": \"data\", \"fmt\": \"o\"}, {\"f\": 15.199110829529332, \"z_real\": 62.301182736060134, \"z_imag\": -49.94701750870875, \"kind\": \"data\", \"fmt\": \"o\"}, {\"f\": 18.73817422860383, \"z_real\": 51.908286522644744, \"z_imag\": -49.34089756986984, \"kind\": \"data\", \"fmt\": \"o\"}, {\"f\": 23.10129700083158, \"z_real\": 42.18699968278565, \"z_imag\": -46.719343100036426, \"kind\": \"data\", \"fmt\": \"o\"}, {\"f\": 28.48035868435805, \"z_real\": 33.79696713035616, \"z_imag\": -42.584047111945154, \"kind\": \"data\", \"fmt\": \"o\"}, {\"f\": 35.111917342151344, \"z_real\": 27.0442425385102, \"z_imag\": -37.60210167184089, \"kind\": \"data\", \"fmt\": \"o\"}, {\"f\": 43.287612810830616, \"z_real\": 21.90825687409852, \"z_imag\": -32.38856442682104, \"kind\": \"data\", \"fmt\": \"o\"}, {\"f\": 53.366992312063125, \"z_real\": 18.16753580280782, \"z_imag\": -27.386948336582417, \"kind\": \"data\", \"fmt\": \"o\"}, {\"f\": 65.79332246575683, \"z_real\": 15.528140720598046, \"z_imag\": -22.852871422057017, \"kind\": \"data\", \"fmt\": \"o\"}, {\"f\": 81.11308307896873, \"z_real\": 13.707251323694495, \"z_imag\": -18.893951942153734, \"kind\": \"data\", \"fmt\": \"o\"}, {\"f\": 100.0, \"z_real\": 12.470452303185764, \"z_imag\": -15.522309613464762, \"kind\": \"data\", \"fmt\": \"o\"}, {\"f\": 123.28467394420659, \"z_real\": 11.63924525042257, \"z_imag\": -12.697928967009702, \"kind\": \"data\", \"fmt\": \"o\"}, {\"f\": 151.99110829529332, \"z_real\": 11.084595580914943, \"z_imag\": -10.35776088338373, \"kind\": \"data\", \"fmt\": \"o\"}, {\"f\": 187.3817422860383, \"z_real\": 10.716248780434828, \"z_imag\": -8.432785170274911, \"kind\": \"data\", \"fmt\": \"o\"}, {\"f\": 231.01297000831627, \"z_real\": 10.472401276093013, \"z_imag\": -6.856891762573406, \"kind\": \"data\", \"fmt\": \"o\"}, {\"f\": 284.8035868435805, \"z_real\": 10.31131155190709, \"z_imag\": -5.57083838469204, \"kind\": \"data\", \"fmt\": \"o\"}, {\"f\": 351.11917342151344, \"z_real\": 10.205040559555297, \"z_imag\": -4.523495807941777, \"kind\": \"data\", \"fmt\": \"o\"}, {\"f\": 432.87612810830615, \"z_real\": 10.13499768061713, \"z_imag\": -3.6717221692198923, \"kind\": \"data\", \"fmt\": \"o\"}, {\"f\": 533.6699231206312, \"z_real\": 10.088860493525058, \"z_imag\": -2.9796229904463023, \"kind\": \"data\", \"fmt\": \"o\"}, {\"f\": 657.9332246575682, \"z_real\": 10.058482047382835, \"z_imag\": -2.4175989304302186, \"kind\": \"data\", \"fmt\": \"o\"}, {\"f\": 811.1308307896873, \"z_real\": 10.038484980849285, \"z_imag\": -1.9613813987028197, \"kind\": \"data\", \"fmt\": \"o\"}, {\"f\": 1000.0, \"z_real\": 10.025323881296517, \"z_imag\": -1.5911463888302921, \"kind\": \"data\", \"fmt\": \"o\"}, {\"f\": 1232.8467394420659, \"z_real\": 10.016662866296127, \"z_imag\": -1.2907397020698537, \"kind\": \"data\", \"fmt\": \"o\"}, {\"f\": 1519.9110829529332, \"z_real\": 10.010963678263401, \"z_imag\": -1.0470184449659838, \"kind\": \"data\", \"fmt\": \"o\"}, {\"f\": 1873.817422860383, \"z_real\": 10.007213638727766, \"z_imag\": -0.8493007925305271, \"kind\": \"data\", \"fmt\": \"o\"}, {\"f\": 2310.129700083163, \"z_real\": 10.004746209704589, \"z_imag\": -0.6889110566337978, \"kind\": \"data\", \"fmt\": \"o\"}, {\"f\": 2848.035868435805, \"z_real\": 10.003122739754165, \"z_imag\": -0.5588060700395072, \"kind\": \"data\", \"fmt\": \"o\"}, {\"f\": 3511.1917342151346, \"z_real\": 10.00205457618291, \"z_imag\": -0.4532696736024762, \"kind\": \"data\", \"fmt\": \"o\"}, {\"f\": 4328.7612810830615, \"z_real\": 10.001351783433691, \"z_imag\": -0.36766359086893446, \"kind\": \"data\", \"fmt\": \"o\"}, {\"f\": 5336.699231206313, \"z_real\": 10.000889387346096, \"z_imag\": -0.2982246529040302, \"kind\": \"data\", \"fmt\": \"o\"}, {\"f\": 6579.332246575683, \"z_real\": 10.000585159264816, \"z_imag\": -0.24189994640388413, \"kind\": \"data\", \"fmt\": \"o\"}, {\"f\": 8111.308307896872, \"z_real\": 10.000384996492661, \"z_imag\": -0.19621289724124988, \"kind\": \"data\", \"fmt\": \"o\"}, {\"f\": 10000.0, \"z_real\": 10.000253302317484, \"z_imag\": -0.15915453994873607, \"kind\": \"data\", \"fmt\": \"o\"}, {\"f\": 12328.467394420659, \"z_real\": 10.000166656154956, \"z_imag\": -0.12909526606884922, \"kind\": \"data\", \"fmt\": \"o\"}, {\"f\": 15199.11082952933, \"z_real\": 10.000109648683948, \"z_imag\": -0.10471321011185976, \"kind\": \"data\", \"fmt\": \"o\"}, {\"f\": 18738.174228603868, \"z_real\": 10.000072141539267, \"z_imag\": -0.08493614496983347, \"kind\": \"data\", \"fmt\": \"o\"}, {\"f\": 23101.297000831626, \"z_real\": 10.000047464327276, \"z_imag\": -0.06889434283466545, \"kind\": \"data\", \"fmt\": \"o\"}, {\"f\": 28480.35868435805, \"z_real\": 10.000031228362971, \"z_imag\": -0.055882334613230444, \"kind\": \"data\", \"fmt\": \"o\"}, {\"f\": 35111.91734215135, \"z_real\": 10.000020546179744, \"z_imag\": -0.045327889343306095, \"kind\": \"data\", \"fmt\": \"o\"}, {\"f\": 43287.612810830615, \"z_real\": 10.000013518015244, \"z_imag\": -0.036766851125014016, \"kind\": \"data\", \"fmt\": \"o\"}, {\"f\": 53366.99231206313, \"z_real\": 10.000008893951772, \"z_imag\": -0.02982272787757535, \"kind\": \"data\", \"fmt\": \"o\"}, {\"f\": 65793.32246575682, \"z_real\": 10.000005851626547, \"z_imag\": -0.024190134775695076, \"kind\": \"data\", \"fmt\": \"o\"}, {\"f\": 81113.08307896872, \"z_real\": 10.000003849979601, \"z_imag\": -0.01962136451027451, \"kind\": \"data\", \"fmt\": \"o\"}, {\"f\": 100000.0, \"z_real\": 10.000002533029527, \"z_imag\": -0.015915493906045363, \"kind\": \"data\", \"fmt\": \"o\"}, {\"f\": 123284.67394420685, \"z_real\": 10.0000016665643, \"z_imag\": -0.012909547906295497, \"kind\": \"data\", \"fmt\": \"o\"}, {\"f\": 151991.10829529332, \"z_real\": 10.00000109648803, \"z_imag\": -0.010471332378047338, \"kind\": \"data\", \"fmt\": \"o\"}, {\"f\": 187381.74228603867, \"z_real\": 10.000000721415908, \"z_imag\": -0.008493620563137676, \"kind\": \"data\", \"fmt\": \"o\"}, {\"f\": 231012.9700083158, \"z_real\": 10.000000474643496, \"z_imag\": -0.006889437520791479, \"kind\": \"data\", \"fmt\": \"o\"}, {\"f\": 284803.5868435805, \"z_real\": 10.000000312283726, \"z_imag\": -0.00558823518898627, \"kind\": \"data\", \"fmt\": \"o\"}, {\"f\": 351119.17342151277, \"z_real\": 10.00000020546184, \"z_imag\": -0.004532789856332618, \"kind\": \"data\", \"fmt\": \"o\"}, {\"f\": 432876.12810830615, \"z_real\": 10.000000135180171, \"z_imag\": -0.0036766856045461725, \"kind\": \"data\", \"fmt\": \"o\"}, {\"f\": 533669.9231206302, \"z_real\": 10.000000088939526, \"z_imag\": -0.002982273050347049, \"kind\": \"data\", \"fmt\": \"o\"}, {\"f\": 657933.2246575683, \"z_real\": 10.00000005851627, \"z_imag\": -0.0024190136177056343, \"kind\": \"data\", \"fmt\": \"o\"}, {\"f\": 811130.8307896889, \"z_real\": 10.000000038499797, \"z_imag\": -0.001962136525813885, \"kind\": \"data\", \"fmt\": \"o\"}, {\"f\": 1000000.0, \"z_real\": 10.000000025330296, \"z_imag\": -0.001591549430515809, \"kind\": \"data\", \"fmt\": \"o\"}]}}, {\"mode\": \"vega-lite\"});\n",
              "</script>"
            ],
            "text/plain": [
              "alt.HConcatChart(...)"
            ]
          },
          "metadata": {},
          "execution_count": 6
        }
      ],
      "source": [
        "from impedance.models.circuits import CustomCircuit\n",
        "import numpy as np\n",
        "\n",
        "# Simple Randles Circuit and defining parameters\n",
        "circuit = 'R0-p(R1,C1)'\n",
        "initial_guess = [10, 100, 0.0001]\n",
        "\n",
        "# Creating the circuit\n",
        "circuit = CustomCircuit(circuit, initial_guess=initial_guess)\n",
        "\n",
        "# Defining 100 frequency points between 1mHz to 1MHz\n",
        "frequencies = np.logspace(-3,6,100)\n",
        "\n",
        "# Calculating total Impedance of circuit for all frequencies\n",
        "Z_fit = circuit.predict(frequencies)\n",
        "\n",
        "# Showing the circuit, plots\n",
        "print(circuit)\n",
        "circuit.plot(f_data=frequencies, Z_data=Z_fit, kind='altair')"
      ]
    },
    {
      "cell_type": "code",
      "source": [
        "# 2RC Circuit and defining parameters\n",
        "circuit = 'R0-p(R1,C1)-p(R2,C2)'\n",
        "initial_guess = [10, 10, 1e-5, 25, 1e-3]\n",
        "\n",
        "# Creating the circuit\n",
        "circuit = CustomCircuit(circuit, initial_guess=initial_guess)\n",
        "\n",
        "# Defining 100 frequency points between 1mHz to 1MHz\n",
        "frequencies = np.logspace(-3,6,100)\n",
        "\n",
        "# Calculating total Impedance of circuit for all frequencies\n",
        "Z_fit = circuit.predict(frequencies)\n",
        "\n",
        "# Showing the circuit, plots\n",
        "print(circuit)\n",
        "circuit.plot(f_data=frequencies, Z_data=Z_fit, kind='altair')"
      ],
      "metadata": {
        "colab": {
          "base_uri": "https://localhost:8080/",
          "height": 662
        },
        "id": "nJBIxPWwvS3G",
        "outputId": "8867a9a8-7c03-4668-a4d4-159f58313287"
      },
      "execution_count": 8,
      "outputs": [
        {
          "output_type": "stream",
          "name": "stdout",
          "text": [
            "\n",
            "Circuit string: R0-p(R1,C1)-p(R2,C2)\n",
            "Fit: False\n",
            "\n",
            "Initial guesses:\n",
            "     R0 = 1.00e+01 [Ohm]\n",
            "     R1 = 1.00e+01 [Ohm]\n",
            "     C1 = 1.00e-05 [F]\n",
            "     R2 = 2.50e+01 [Ohm]\n",
            "     C2 = 1.00e-03 [F]\n",
            "\n"
          ]
        },
        {
          "output_type": "execute_result",
          "data": {
            "text/html": [
              "\n",
              "<div id=\"altair-viz-c19679b76ef34a21b442cf5f1e317a32\"></div>\n",
              "<script type=\"text/javascript\">\n",
              "  var VEGA_DEBUG = (typeof VEGA_DEBUG == \"undefined\") ? {} : VEGA_DEBUG;\n",
              "  (function(spec, embedOpt){\n",
              "    let outputDiv = document.currentScript.previousElementSibling;\n",
              "    if (outputDiv.id !== \"altair-viz-c19679b76ef34a21b442cf5f1e317a32\") {\n",
              "      outputDiv = document.getElementById(\"altair-viz-c19679b76ef34a21b442cf5f1e317a32\");\n",
              "    }\n",
              "    const paths = {\n",
              "      \"vega\": \"https://cdn.jsdelivr.net/npm//vega@5?noext\",\n",
              "      \"vega-lib\": \"https://cdn.jsdelivr.net/npm//vega-lib?noext\",\n",
              "      \"vega-lite\": \"https://cdn.jsdelivr.net/npm//vega-lite@4.17.0?noext\",\n",
              "      \"vega-embed\": \"https://cdn.jsdelivr.net/npm//vega-embed@6?noext\",\n",
              "    };\n",
              "\n",
              "    function maybeLoadScript(lib, version) {\n",
              "      var key = `${lib.replace(\"-\", \"\")}_version`;\n",
              "      return (VEGA_DEBUG[key] == version) ?\n",
              "        Promise.resolve(paths[lib]) :\n",
              "        new Promise(function(resolve, reject) {\n",
              "          var s = document.createElement('script');\n",
              "          document.getElementsByTagName(\"head\")[0].appendChild(s);\n",
              "          s.async = true;\n",
              "          s.onload = () => {\n",
              "            VEGA_DEBUG[key] = version;\n",
              "            return resolve(paths[lib]);\n",
              "          };\n",
              "          s.onerror = () => reject(`Error loading script: ${paths[lib]}`);\n",
              "          s.src = paths[lib];\n",
              "        });\n",
              "    }\n",
              "\n",
              "    function showError(err) {\n",
              "      outputDiv.innerHTML = `<div class=\"error\" style=\"color:red;\">${err}</div>`;\n",
              "      throw err;\n",
              "    }\n",
              "\n",
              "    function displayChart(vegaEmbed) {\n",
              "      vegaEmbed(outputDiv, spec, embedOpt)\n",
              "        .catch(err => showError(`Javascript Error: ${err.message}<br>This usually means there's a typo in your chart specification. See the javascript console for the full traceback.`));\n",
              "    }\n",
              "\n",
              "    if(typeof define === \"function\" && define.amd) {\n",
              "      requirejs.config({paths});\n",
              "      require([\"vega-embed\"], displayChart, err => showError(`Error loading script: ${err.message}`));\n",
              "    } else {\n",
              "      maybeLoadScript(\"vega\", \"5\")\n",
              "        .then(() => maybeLoadScript(\"vega-lite\", \"4.17.0\"))\n",
              "        .then(() => maybeLoadScript(\"vega-embed\", \"6\"))\n",
              "        .catch(showError)\n",
              "        .then(() => displayChart(vegaEmbed));\n",
              "    }\n",
              "  })({\"config\": {\"view\": {\"continuousWidth\": 400, \"continuousHeight\": 300}, \"background\": \"#FFFFFF\"}, \"hconcat\": [{\"vconcat\": [{\"layer\": [{\"mark\": \"circle\", \"encoding\": {\"color\": {\"field\": \"kind\", \"type\": \"nominal\"}, \"size\": {\"condition\": {\"value\": 80, \"selection\": \"selector007\"}, \"value\": 30}, \"x\": {\"axis\": {\"title\": \"f [Hz]\"}, \"field\": \"f\", \"scale\": {\"nice\": false, \"type\": \"log\"}, \"type\": \"quantitative\"}, \"y\": {\"axis\": {\"title\": \"|Z| [\\u03a9]\"}, \"field\": \"mag\", \"type\": \"quantitative\"}}, \"height\": 175.0, \"selection\": {\"selector007\": {\"type\": \"single\", \"on\": \"mouseover\", \"nearest\": true, \"empty\": \"none\", \"fields\": [\"f\"]}, \"selector009\": {\"type\": \"interval\", \"bind\": \"scales\", \"encodings\": [\"x\", \"y\"]}}, \"transform\": [{\"calculate\": \"sqrt(pow(datum.z_real,2) + pow(datum.z_imag,2))\", \"as\": \"mag\"}, {\"calculate\": \"-(180/PI)*atan(datum.z_imag/datum.z_real)\", \"as\": \"neg_phase\"}], \"width\": 400}]}, {\"layer\": [{\"mark\": \"circle\", \"encoding\": {\"color\": {\"field\": \"kind\", \"type\": \"nominal\"}, \"size\": {\"condition\": {\"value\": 80, \"selection\": \"selector007\"}, \"value\": 30}, \"x\": {\"axis\": {\"title\": \"f [Hz]\"}, \"field\": \"f\", \"scale\": {\"nice\": false, \"type\": \"log\"}, \"type\": \"quantitative\"}, \"y\": {\"axis\": {\"title\": \"-\\u03d5 [\\u00b0]\"}, \"field\": \"neg_phase\", \"type\": \"quantitative\"}}, \"height\": 175.0, \"selection\": {\"selector007\": {\"type\": \"single\", \"on\": \"mouseover\", \"nearest\": true, \"empty\": \"none\", \"fields\": [\"f\"]}, \"selector009\": {\"type\": \"interval\", \"bind\": \"scales\", \"encodings\": [\"x\", \"y\"]}}, \"transform\": [{\"calculate\": \"sqrt(pow(datum.z_real,2) + pow(datum.z_imag,2))\", \"as\": \"mag\"}, {\"calculate\": \"-(180/PI)*atan(datum.z_imag/datum.z_real)\", \"as\": \"neg_phase\"}], \"width\": 400}]}]}, {\"layer\": [{\"mark\": \"circle\", \"encoding\": {\"color\": {\"field\": \"kind\", \"legend\": {\"title\": \"Legend\"}, \"type\": \"nominal\"}, \"size\": {\"condition\": {\"value\": 80, \"selection\": \"selector007\"}, \"value\": 30}, \"x\": {\"axis\": {\"title\": \"Z' [\\u03a9]\"}, \"field\": \"z_real\", \"scale\": {\"domain\": [10.000025331244961, 44.99999938314579], \"nice\": false, \"padding\": 5}, \"type\": \"quantitative\"}, \"y\": {\"axis\": {\"title\": \"-Z'' [\\u03a9]\"}, \"field\": \"neg_z_imag\", \"scale\": {\"domain\": [0.0039332739053998065, 35.00390732580623], \"nice\": false, \"padding\": 5}, \"type\": \"quantitative\"}}, \"height\": 400, \"selection\": {\"selector007\": {\"type\": \"single\", \"on\": \"mouseover\", \"nearest\": true, \"empty\": \"none\", \"fields\": [\"f\"]}, \"selector008\": {\"type\": \"interval\", \"bind\": \"scales\", \"encodings\": [\"x\", \"y\"]}}, \"transform\": [{\"calculate\": \"-datum.z_imag\", \"as\": \"neg_z_imag\"}], \"width\": 400}]}], \"data\": {\"name\": \"data-9eb44510d2a512f43be91063ddc03a79\"}, \"$schema\": \"https://vega.github.io/schema/vega-lite/v4.17.0.json\", \"datasets\": {\"data-9eb44510d2a512f43be91063ddc03a79\": [{\"f\": 0.001, \"z_real\": 44.99999938314579, \"z_imag\": -0.0039332739053998065, \"kind\": \"data\", \"fmt\": \"o\"}, {\"f\": 0.0012328467394420659, \"z_real\": 44.99999906243646, \"z_imag\": -0.004849123847498106, \"kind\": \"data\", \"fmt\": \"o\"}, {\"f\": 0.0015199110829529332, \"z_real\": 44.99999857498682, \"z_imag\": -0.0059782264081623725, \"kind\": \"data\", \"fmt\": \"o\"}, {\"f\": 0.001873817422860383, \"z_real\": 44.999997834106736, \"z_imag\": -0.007370236716881254, \"kind\": \"data\", \"fmt\": \"o\"}, {\"f\": 0.0023101297000831605, \"z_real\": 44.99999670803497, \"z_imag\": -0.009086371896703332, \"kind\": \"data\", \"fmt\": \"o\"}, {\"f\": 0.002848035868435802, \"z_real\": 44.99999499650622, \"z_imag\": -0.011202103200529676, \"kind\": \"data\", \"fmt\": \"o\"}, {\"f\": 0.003511191734215131, \"z_real\": 44.99999239513514, \"z_imag\": -0.013810474970924044, \"kind\": \"data\", \"fmt\": \"o\"}, {\"f\": 0.004328761281083057, \"z_real\": 44.99998844128344, \"z_imag\": -0.01702619634960519, \"kind\": \"data\", \"fmt\": \"o\"}, {\"f\": 0.005336699231206312, \"z_real\": 44.999982431782826, \"z_imag\": -0.020990685617058514, \"kind\": \"data\", \"fmt\": \"o\"}, {\"f\": 0.006579332246575682, \"z_real\": 44.99997329788176, \"z_imag\": -0.02587828888200846, \"kind\": \"data\", \"fmt\": \"o\"}, {\"f\": 0.008111308307896872, \"z_real\": 44.99995941517708, \"z_imag\": -0.031903946382386604, \"kind\": \"data\", \"fmt\": \"o\"}, {\"f\": 0.01, \"z_real\": 44.99993831472991, \"z_imag\": -0.039332643128566186, \"kind\": \"data\", \"fmt\": \"o\"}, {\"f\": 0.012328467394420659, \"z_real\": 44.9999062439946, \"z_imag\": -0.0484910587284684, \"kind\": \"data\", \"fmt\": \"o\"}, {\"f\": 0.01519911082952934, \"z_real\": 44.999857499486154, \"z_imag\": -0.059781927270139874, \"kind\": \"data\", \"fmt\": \"o\"}, {\"f\": 0.01873817422860384, \"z_real\": 44.99978341253153, \"z_imag\": -0.07370173604747492, \"kind\": \"data\", \"fmt\": \"o\"}, {\"f\": 0.023101297000831605, \"z_real\": 44.99967080778899, \"z_imag\": -0.09086253636625484, \"kind\": \"data\", \"fmt\": \"o\"}, {\"f\": 0.02848035868435802, \"z_real\": 44.99949966053535, \"z_imag\": -0.11201881604267588, \"kind\": \"data\", \"fmt\": \"o\"}, {\"f\": 0.03511191734215131, \"z_real\": 44.999239536415175, \"z_imag\": -0.1381005974435104, \"kind\": \"data\", \"fmt\": \"o\"}, {\"f\": 0.04328761281083059, \"z_real\": 44.99884418124821, \"z_imag\": -0.17025418303245993, \"kind\": \"data\", \"fmt\": \"o\"}, {\"f\": 0.0533669923120631, \"z_real\": 44.99824330049438, \"z_imag\": -0.2098922773562805, \"kind\": \"data\", \"fmt\": \"o\"}, {\"f\": 0.06579332246575682, \"z_real\": 44.99733007049154, \"z_imag\": -0.2587555717917861, \"kind\": \"data\", \"fmt\": \"o\"}, {\"f\": 0.08111308307896872, \"z_real\": 44.995942169857685, \"z_imag\": -0.3189882795707134, \"kind\": \"data\", \"fmt\": \"o\"}, {\"f\": 0.1, \"z_real\": 44.9938329794125, \"z_imag\": -0.39323052951422593, \"kind\": \"data\", \"fmt\": \"o\"}, {\"f\": 0.12328467394420659, \"z_real\": 44.99062787903901, \"z_imag\": -0.48473090814908826, \"kind\": \"data\", \"fmt\": \"o\"}, {\"f\": 0.1519911082952933, \"z_real\": 44.98575798531033, \"z_imag\": -0.5974826530720838, \"kind\": \"data\", \"fmt\": \"o\"}, {\"f\": 0.1873817422860385, \"z_real\": 44.978359813408304, \"z_imag\": -0.736386785382296, \"kind\": \"data\", \"fmt\": \"o\"}, {\"f\": 0.23101297000831605, \"z_real\": 44.967123636015664, \"z_imag\": -0.907444317903104, \"kind\": \"data\", \"fmt\": \"o\"}, {\"f\": 0.2848035868435802, \"z_real\": 44.95006499071239, \"z_imag\": -1.1179766234993813, \"kind\": \"data\", \"fmt\": \"o\"}, {\"f\": 0.3511191734215131, \"z_real\": 44.924181959751095, \"z_imag\": -1.3768663000306591, \"kind\": \"data\", \"fmt\": \"o\"}, {\"f\": 0.4328761281083057, \"z_real\": 44.884944730893594, \"z_imag\": -1.694797170254034, \"kind\": \"data\", \"fmt\": \"o\"}, {\"f\": 0.5336699231206312, \"z_real\": 44.825543644725165, \"z_imag\": -2.0844456830988554, \"kind\": \"data\", \"fmt\": \"o\"}, {\"f\": 0.6579332246575682, \"z_real\": 44.73580037493244, \"z_imag\": -2.560527344821664, \"kind\": \"data\", \"fmt\": \"o\"}, {\"f\": 0.8111308307896873, \"z_real\": 44.600634313116586, \"z_imag\": -3.139516104828007, \"kind\": \"data\", \"fmt\": \"o\"}, {\"f\": 1.0, \"z_real\": 44.39799944792813, \"z_imag\": -3.838712594346909, \"kind\": \"data\", \"fmt\": \"o\"}, {\"f\": 1.232846739442066, \"z_real\": 44.096326058771034, \"z_imag\": -4.674124107226965, \"kind\": \"data\", \"fmt\": \"o\"}, {\"f\": 1.5199110829529348, \"z_real\": 43.65183201750926, \"z_imag\": -5.656357755135829, \"kind\": \"data\", \"fmt\": \"o\"}, {\"f\": 1.873817422860385, \"z_real\": 43.00678766663995, \"z_imag\": -6.783562185060245, \"kind\": \"data\", \"fmt\": \"o\"}, {\"f\": 2.31012970008316, \"z_real\": 42.09107282789226, \"z_imag\": -8.030805722595513, \"kind\": \"data\", \"fmt\": \"o\"}, {\"f\": 2.848035868435802, \"z_real\": 40.8308968937437, \"z_imag\": -9.33699460416059, \"kind\": \"data\", \"fmt\": \"o\"}, {\"f\": 3.511191734215131, \"z_real\": 39.16889716893789, \"z_imag\": -10.594438642767525, \"kind\": \"data\", \"fmt\": \"o\"}, {\"f\": 4.328761281083062, \"z_real\": 37.095744263467424, \"z_imag\": -11.651674743426046, \"kind\": \"data\", \"fmt\": \"o\"}, {\"f\": 5.336699231206313, \"z_real\": 34.6822377078134, \"z_imag\": -12.341550749312388, \"kind\": \"data\", \"fmt\": \"o\"}, {\"f\": 6.5793322465756825, \"z_real\": 32.08834196670298, \"z_imag\": -12.534563754622074, \"kind\": \"data\", \"fmt\": \"o\"}, {\"f\": 8.111308307896872, \"z_real\": 29.52941221648679, \"z_imag\": -12.192921826340658, \"kind\": \"data\", \"fmt\": \"o\"}, {\"f\": 10.0, \"z_real\": 27.209616209958817, \"z_imag\": -11.38828813392484, \"kind\": \"data\", \"fmt\": \"o\"}, {\"f\": 12.32846739442066, \"z_real\": 25.262302750148393, \"z_imag\": -10.269337666009646, \"kind\": \"data\", \"fmt\": \"o\"}, {\"f\": 15.199110829529332, \"z_real\": 23.73042213948566, \"z_imag\": -9.003941031049843, \"kind\": \"data\", \"fmt\": \"o\"}, {\"f\": 18.73817422860383, \"z_real\": 22.5856634969859, \"z_imag\": -7.732403058978394, \"kind\": \"data\", \"fmt\": \"o\"}, {\"f\": 23.10129700083158, \"z_real\": 21.762461112039045, \"z_imag\": -6.5482816015398155, \"kind\": \"data\", \"fmt\": \"o\"}, {\"f\": 28.48035868435805, \"z_real\": 21.18649031040925, \"z_imag\": -5.5011942558573335, \"kind\": \"data\", \"fmt\": \"o\"}, {\"f\": 35.111917342151344, \"z_real\": 20.790825215747013, \"z_imag\": -4.609029415636912, \"kind\": \"data\", \"fmt\": \"o\"}, {\"f\": 43.287612810830616, \"z_real\": 20.521881059442258, \"z_imag\": -3.870629814459132, \"kind\": \"data\", \"fmt\": \"o\"}, {\"f\": 53.366992312063125, \"z_real\": 20.33953561309155, \"z_imag\": -3.275367895315118, \"kind\": \"data\", \"fmt\": \"o\"}, {\"f\": 65.79332246575683, \"z_real\": 20.214833834549708, \"z_imag\": -2.8092618210546902, \"kind\": \"data\", \"fmt\": \"o\"}, {\"f\": 81.11308307896873, \"z_real\": 20.127149496021126, \"z_imag\": -2.458452018893335, \"kind\": \"data\", \"fmt\": \"o\"}, {\"f\": 100.0, \"z_real\": 20.061589025964473, \"z_imag\": -2.210972943324863, \"kind\": \"data\", \"fmt\": \"o\"}, {\"f\": 123.28467394420659, \"z_real\": 20.006839502108583, \"z_imag\": -2.0575217991691734, \"kind\": \"data\", \"fmt\": \"o\"}, {\"f\": 151.99110829529332, \"z_real\": 19.95340667691935, \"z_imag\": -1.9916568890719126, \"kind\": \"data\", \"fmt\": \"o\"}, {\"f\": 187.3817422860383, \"z_real\": 19.892102250572773, \"z_imag\": -2.0096400952715214, \"kind\": \"data\", \"fmt\": \"o\"}, {\"f\": 231.01297000831627, \"z_real\": 19.812634096178854, \"z_imag\": -2.1099684529071454, \"kind\": \"data\", \"fmt\": \"o\"}, {\"f\": 284.8035868435805, \"z_real\": 19.702199509836564, \"z_imag\": -2.2924933613550706, \"kind\": \"data\", \"fmt\": \"o\"}, {\"f\": 351.11917342151344, \"z_real\": 19.54409646438868, \"z_imag\": -2.556885322433299, \"kind\": \"data\", \"fmt\": \"o\"}, {\"f\": 432.87612810830615, \"z_real\": 19.31660673729371, \"z_imag\": -2.9000875309054446, \"kind\": \"data\", \"fmt\": \"o\"}, {\"f\": 533.6699231206312, \"z_real\": 18.992838665118086, \"z_imag\": -3.3124231501156043, \"kind\": \"data\", \"fmt\": \"o\"}, {\"f\": 657.9332246575682, \"z_real\": 18.542833053122436, \"z_imag\": -3.772446941586913, \"kind\": \"data\", \"fmt\": \"o\"}, {\"f\": 811.1308307896873, \"z_real\": 17.939675617655816, \"z_imag\": -4.241860782116913, \"kind\": \"data\", \"fmt\": \"o\"}, {\"f\": 1000.0, \"z_real\": 17.170581174023134, \"z_imag\": -4.663920926730304, \"kind\": \"data\", \"fmt\": \"o\"}, {\"f\": 1232.8467394420659, \"z_real\": 16.25052268727349, \"z_imag\": -4.970358379609199, \"kind\": \"data\", \"fmt\": \"o\"}, {\"f\": 1519.9110829529332, \"z_real\": 15.230556861128223, \"z_imag\": -5.099413238761208, \"kind\": \"data\", \"fmt\": \"o\"}, {\"f\": 1873.817422860383, \"z_real\": 14.191117215298938, \"z_imag\": -5.019024982853128, \"kind\": \"data\", \"fmt\": \"o\"}, {\"f\": 2310.129700083163, \"z_real\": 13.218889824235946, \"z_imag\": -4.74082816233825, \"kind\": \"data\", \"fmt\": \"o\"}, {\"f\": 2848.035868435805, \"z_real\": 12.379821625902375, \"z_imag\": -4.314286784041897, \"kind\": \"data\", \"fmt\": \"o\"}, {\"f\": 3511.1917342151346, \"z_real\": 11.704506438316711, \"z_imag\": -3.805537916830581, \"kind\": \"data\", \"fmt\": \"o\"}, {\"f\": 4328.7612810830615, \"z_real\": 11.190879759361186, \"z_imag\": -3.275623219255041, \"kind\": \"data\", \"fmt\": \"o\"}, {\"f\": 5336.699231206313, \"z_real\": 10.816789156040407, \"z_imag\": -2.768517521749584, \"kind\": \"data\", \"fmt\": \"o\"}, {\"f\": 6579.332246575683, \"z_real\": 10.552837478545449, \"z_imag\": -2.3094772557486696, \"kind\": \"data\", \"fmt\": \"o\"}, {\"f\": 8111.308307896872, \"z_real\": 10.370740532278958, \"z_imag\": -1.9090165473943763, \"kind\": \"data\", \"fmt\": \"o\"}, {\"f\": 10000.0, \"z_real\": 10.247055362432835, \"z_imag\": -1.5681464492053612, \"kind\": \"data\", \"fmt\": \"o\"}, {\"f\": 12328.467394420659, \"z_real\": 10.163931191297786, \"z_imag\": -1.2827024413800778, \"kind\": \"data\", \"fmt\": \"o\"}, {\"f\": 15199.11082952933, \"z_real\": 10.108463944042892, \"z_imag\": -1.046247418994167, \"kind\": \"data\", \"fmt\": \"o\"}, {\"f\": 18738.174228603868, \"z_real\": 10.071627763706802, \"z_imag\": -0.8517721366715123, \"kind\": \"data\", \"fmt\": \"o\"}, {\"f\": 23101.297000831626, \"z_real\": 10.047242026183149, \"z_imag\": -0.6925786132876283, \"kind\": \"data\", \"fmt\": \"o\"}, {\"f\": 28480.35868435805, \"z_real\": 10.031132404325556, \"z_imag\": -0.5626720733964231, \"kind\": \"data\", \"fmt\": \"o\"}, {\"f\": 35111.91734215135, \"z_real\": 10.02050487780286, \"z_imag\": -0.4568823705108129, \"kind\": \"data\", \"fmt\": \"o\"}, {\"f\": 43287.612810830615, \"z_real\": 10.013500308782385, \"z_imag\": -0.3708489024519831, \"kind\": \"data\", \"fmt\": \"o\"}, {\"f\": 53366.99231206313, \"z_real\": 10.008886405110603, \"z_imag\": -0.3009445720551909, \"kind\": \"data\", \"fmt\": \"o\"}, {\"f\": 65793.32246575682, \"z_real\": 10.005848438803357, \"z_imag\": -0.24417890663949482, \"kind\": \"data\", \"fmt\": \"o\"}, {\"f\": 81113.08307896872, \"z_real\": 10.003848652084116, \"z_imag\": -0.19810027638476463, \"kind\": \"data\", \"fmt\": \"o\"}, {\"f\": 100000.0, \"z_real\": 10.002532489450834, \"z_imag\": -0.16070618830749786, \"kind\": \"data\", \"fmt\": \"o\"}, {\"f\": 123284.67394420685, \"z_real\": 10.001666353292185, \"z_imag\": -0.13036492501568692, \"kind\": \"data\", \"fmt\": \"o\"}, {\"f\": 151991.10829529332, \"z_real\": 10.001096411685863, \"z_imag\": -0.10574897774404773, \"kind\": \"data\", \"fmt\": \"o\"}, {\"f\": 187381.74228603867, \"z_real\": 10.000721392729412, \"z_imag\": -0.08577944131451334, \"kind\": \"data\", \"fmt\": \"o\"}, {\"f\": 231012.9700083158, \"z_real\": 10.000474639956199, \"z_imag\": -0.06958004941820586, \"kind\": \"data\", \"fmt\": \"o\"}, {\"f\": 284803.5868435805, \"z_real\": 10.000312286466764, \"z_imag\": -0.05643943052431523, \"kind\": \"data\", \"fmt\": \"o\"}, {\"f\": 351119.17342151277, \"z_real\": 10.000205465836764, \"z_imag\": -0.04578024634666328, \"kind\": \"data\", \"fmt\": \"o\"}, {\"f\": 432876.12810830615, \"z_real\": 10.000135183750576, \"z_imag\": -0.03713402764776555, \"kind\": \"data\", \"fmt\": \"o\"}, {\"f\": 533669.9231206302, \"z_real\": 10.00008894229219, \"z_imag\": -0.030120692595660595, \"kind\": \"data\", \"fmt\": \"o\"}, {\"f\": 657933.2246575683, \"z_real\": 10.000058518267132, \"z_imag\": -0.02443189600227788, \"kind\": \"data\", \"fmt\": \"o\"}, {\"f\": 811130.8307896889, \"z_real\": 10.000038501189257, \"z_imag\": -0.019817503376769793, \"kind\": \"data\", \"fmt\": \"o\"}, {\"f\": 1000000.0, \"z_real\": 10.000025331244961, \"z_imag\": -0.016074608937959055, \"kind\": \"data\", \"fmt\": \"o\"}]}}, {\"mode\": \"vega-lite\"});\n",
              "</script>"
            ],
            "text/plain": [
              "alt.HConcatChart(...)"
            ]
          },
          "metadata": {},
          "execution_count": 8
        }
      ]
    },
    {
      "cell_type": "code",
      "source": [
        "# L-R-2RC circuit\n",
        "circuit = 'L0-R0-p(R1,C1)-p(R2,C2)'\n",
        "initial_guess = [0.000001,10, 20, 1e-5, 25, 1e-3]\n",
        "\n",
        "# Creating the circuit\n",
        "circuit = CustomCircuit(circuit, initial_guess=initial_guess)\n",
        "\n",
        "# Defining 100 frequency points between 1mHz to 1MHz\n",
        "frequencies = np.logspace(-3,6,100)\n",
        "\n",
        "# Calculating total Impedance of circuit for all frequencies\n",
        "Z_fit = circuit.predict(frequencies)\n",
        "\n",
        "# Showing the circuit, plots\n",
        "print(circuit)\n",
        "circuit.plot(f_data=frequencies, Z_data=Z_fit, kind='altair')"
      ],
      "metadata": {
        "colab": {
          "base_uri": "https://localhost:8080/",
          "height": 680
        },
        "outputId": "8fdde1e5-64d8-4ba4-c9e6-9f6acf3759a9",
        "id": "bbHUgkvo58oH"
      },
      "execution_count": 10,
      "outputs": [
        {
          "output_type": "stream",
          "name": "stdout",
          "text": [
            "\n",
            "Circuit string: L0-R0-p(R1,C1)-p(R2,C2)\n",
            "Fit: False\n",
            "\n",
            "Initial guesses:\n",
            "     L0 = 1.00e-06 [H]\n",
            "     R0 = 1.00e+01 [Ohm]\n",
            "     R1 = 2.00e+01 [Ohm]\n",
            "     C1 = 1.00e-05 [F]\n",
            "     R2 = 2.50e+01 [Ohm]\n",
            "     C2 = 1.00e-03 [F]\n",
            "\n"
          ]
        },
        {
          "output_type": "execute_result",
          "data": {
            "text/html": [
              "\n",
              "<div id=\"altair-viz-b89b20d43a5a400e9f9c364a1c34512b\"></div>\n",
              "<script type=\"text/javascript\">\n",
              "  var VEGA_DEBUG = (typeof VEGA_DEBUG == \"undefined\") ? {} : VEGA_DEBUG;\n",
              "  (function(spec, embedOpt){\n",
              "    let outputDiv = document.currentScript.previousElementSibling;\n",
              "    if (outputDiv.id !== \"altair-viz-b89b20d43a5a400e9f9c364a1c34512b\") {\n",
              "      outputDiv = document.getElementById(\"altair-viz-b89b20d43a5a400e9f9c364a1c34512b\");\n",
              "    }\n",
              "    const paths = {\n",
              "      \"vega\": \"https://cdn.jsdelivr.net/npm//vega@5?noext\",\n",
              "      \"vega-lib\": \"https://cdn.jsdelivr.net/npm//vega-lib?noext\",\n",
              "      \"vega-lite\": \"https://cdn.jsdelivr.net/npm//vega-lite@4.17.0?noext\",\n",
              "      \"vega-embed\": \"https://cdn.jsdelivr.net/npm//vega-embed@6?noext\",\n",
              "    };\n",
              "\n",
              "    function maybeLoadScript(lib, version) {\n",
              "      var key = `${lib.replace(\"-\", \"\")}_version`;\n",
              "      return (VEGA_DEBUG[key] == version) ?\n",
              "        Promise.resolve(paths[lib]) :\n",
              "        new Promise(function(resolve, reject) {\n",
              "          var s = document.createElement('script');\n",
              "          document.getElementsByTagName(\"head\")[0].appendChild(s);\n",
              "          s.async = true;\n",
              "          s.onload = () => {\n",
              "            VEGA_DEBUG[key] = version;\n",
              "            return resolve(paths[lib]);\n",
              "          };\n",
              "          s.onerror = () => reject(`Error loading script: ${paths[lib]}`);\n",
              "          s.src = paths[lib];\n",
              "        });\n",
              "    }\n",
              "\n",
              "    function showError(err) {\n",
              "      outputDiv.innerHTML = `<div class=\"error\" style=\"color:red;\">${err}</div>`;\n",
              "      throw err;\n",
              "    }\n",
              "\n",
              "    function displayChart(vegaEmbed) {\n",
              "      vegaEmbed(outputDiv, spec, embedOpt)\n",
              "        .catch(err => showError(`Javascript Error: ${err.message}<br>This usually means there's a typo in your chart specification. See the javascript console for the full traceback.`));\n",
              "    }\n",
              "\n",
              "    if(typeof define === \"function\" && define.amd) {\n",
              "      requirejs.config({paths});\n",
              "      require([\"vega-embed\"], displayChart, err => showError(`Error loading script: ${err.message}`));\n",
              "    } else {\n",
              "      maybeLoadScript(\"vega\", \"5\")\n",
              "        .then(() => maybeLoadScript(\"vega-lite\", \"4.17.0\"))\n",
              "        .then(() => maybeLoadScript(\"vega-embed\", \"6\"))\n",
              "        .catch(showError)\n",
              "        .then(() => displayChart(vegaEmbed));\n",
              "    }\n",
              "  })({\"config\": {\"view\": {\"continuousWidth\": 400, \"continuousHeight\": 300}, \"background\": \"#FFFFFF\"}, \"hconcat\": [{\"vconcat\": [{\"layer\": [{\"mark\": \"circle\", \"encoding\": {\"color\": {\"field\": \"kind\", \"type\": \"nominal\"}, \"size\": {\"condition\": {\"value\": 80, \"selection\": \"selector013\"}, \"value\": 30}, \"x\": {\"axis\": {\"title\": \"f [Hz]\"}, \"field\": \"f\", \"scale\": {\"nice\": false, \"type\": \"log\"}, \"type\": \"quantitative\"}, \"y\": {\"axis\": {\"title\": \"|Z| [\\u03a9]\"}, \"field\": \"mag\", \"type\": \"quantitative\"}}, \"height\": 175.0, \"selection\": {\"selector013\": {\"type\": \"single\", \"on\": \"mouseover\", \"nearest\": true, \"empty\": \"none\", \"fields\": [\"f\"]}, \"selector015\": {\"type\": \"interval\", \"bind\": \"scales\", \"encodings\": [\"x\", \"y\"]}}, \"transform\": [{\"calculate\": \"sqrt(pow(datum.z_real,2) + pow(datum.z_imag,2))\", \"as\": \"mag\"}, {\"calculate\": \"-(180/PI)*atan(datum.z_imag/datum.z_real)\", \"as\": \"neg_phase\"}], \"width\": 400}]}, {\"layer\": [{\"mark\": \"circle\", \"encoding\": {\"color\": {\"field\": \"kind\", \"type\": \"nominal\"}, \"size\": {\"condition\": {\"value\": 80, \"selection\": \"selector013\"}, \"value\": 30}, \"x\": {\"axis\": {\"title\": \"f [Hz]\"}, \"field\": \"f\", \"scale\": {\"nice\": false, \"type\": \"log\"}, \"type\": \"quantitative\"}, \"y\": {\"axis\": {\"title\": \"-\\u03d5 [\\u00b0]\"}, \"field\": \"neg_phase\", \"type\": \"quantitative\"}}, \"height\": 175.0, \"selection\": {\"selector013\": {\"type\": \"single\", \"on\": \"mouseover\", \"nearest\": true, \"empty\": \"none\", \"fields\": [\"f\"]}, \"selector015\": {\"type\": \"interval\", \"bind\": \"scales\", \"encodings\": [\"x\", \"y\"]}}, \"transform\": [{\"calculate\": \"sqrt(pow(datum.z_real,2) + pow(datum.z_imag,2))\", \"as\": \"mag\"}, {\"calculate\": \"-(180/PI)*atan(datum.z_imag/datum.z_real)\", \"as\": \"neg_phase\"}], \"width\": 400}]}]}, {\"layer\": [{\"mark\": \"circle\", \"encoding\": {\"color\": {\"field\": \"kind\", \"legend\": {\"title\": \"Legend\"}, \"type\": \"nominal\"}, \"size\": {\"condition\": {\"value\": 80, \"selection\": \"selector013\"}, \"value\": 30}, \"x\": {\"axis\": {\"title\": \"Z' [\\u03a9]\"}, \"field\": \"z_real\", \"scale\": {\"domain\": [10.000012666153147, 54.99999938311816], \"nice\": false, \"padding\": 5}, \"type\": \"quantitative\"}, \"y\": {\"axis\": {\"title\": \"-Z'' [\\u03a9]\"}, \"field\": \"neg_z_imag\", \"scale\": {\"domain\": [-6.267110668005909, 38.7328760489591], \"nice\": false, \"padding\": 5}, \"type\": \"quantitative\"}}, \"height\": 400, \"selection\": {\"selector013\": {\"type\": \"single\", \"on\": \"mouseover\", \"nearest\": true, \"empty\": \"none\", \"fields\": [\"f\"]}, \"selector014\": {\"type\": \"interval\", \"bind\": \"scales\", \"encodings\": [\"x\", \"y\"]}}, \"transform\": [{\"calculate\": \"-datum.z_imag\", \"as\": \"neg_z_imag\"}], \"width\": 400}]}], \"data\": {\"name\": \"data-0bbc1529096b6d8f4b240bd78dbe7c68\"}, \"$schema\": \"https://vega.github.io/schema/vega-lite/v4.17.0.json\", \"datasets\": {\"data-0bbc1529096b6d8f4b240bd78dbe7c68\": [{\"f\": 0.001, \"z_real\": 54.99999938311816, \"z_imag\": -0.003952117178136001, \"kind\": \"data\", \"fmt\": \"o\"}, {\"f\": 0.0012328467394420659, \"z_real\": 54.99999906239446, \"z_imag\": -0.004872354714851317, \"kind\": \"data\", \"fmt\": \"o\"}, {\"f\": 0.0015199110829529332, \"z_real\": 54.99999857492298, \"z_imag\": -0.006006866507233145, \"kind\": \"data\", \"fmt\": \"o\"}, {\"f\": 0.001873817422860383, \"z_real\": 54.999997834009704, \"z_imag\": -0.007405545569637869, \"kind\": \"data\", \"fmt\": \"o\"}, {\"f\": 0.0023101297000831605, \"z_real\": 54.99999670788749, \"z_imag\": -0.009129902300697608, \"kind\": \"data\", \"fmt\": \"o\"}, {\"f\": 0.002848035868435802, \"z_real\": 54.99999499628206, \"z_imag\": -0.011255769517160322, \"kind\": \"data\", \"fmt\": \"o\"}, {\"f\": 0.003511191734215131, \"z_real\": 54.99999239479445, \"z_imag\": -0.013876637314399452, \"kind\": \"data\", \"fmt\": \"o\"}, {\"f\": 0.004328761281083057, \"z_real\": 54.99998844076561, \"z_imag\": -0.017107764379031658, \"kind\": \"data\", \"fmt\": \"o\"}, {\"f\": 0.005336699231206312, \"z_real\": 54.99998243099577, \"z_imag\": -0.021091246496177718, \"kind\": \"data\", \"fmt\": \"o\"}, {\"f\": 0.006579332246575682, \"z_real\": 54.99997329668551, \"z_imag\": -0.02600226503394237, \"kind\": \"data\", \"fmt\": \"o\"}, {\"f\": 0.008111308307896872, \"z_real\": 54.999959413358894, \"z_imag\": -0.03205678997706011, \"kind\": \"data\", \"fmt\": \"o\"}, {\"f\": 0.01, \"z_real\": 54.99993831196642, \"z_imag\": -0.03952107585589129, \"kind\": \"data\", \"fmt\": \"o\"}, {\"f\": 0.012328467394420659, \"z_real\": 54.99990623979435, \"z_imag\": -0.048723367401931485, \"kind\": \"data\", \"fmt\": \"o\"}, {\"f\": 0.01519911082952934, \"z_real\": 54.99985749310213, \"z_imag\": -0.06006832826071827, \"kind\": \"data\", \"fmt\": \"o\"}, {\"f\": 0.01873817422860384, \"z_real\": 54.999783402828385, \"z_imag\": -0.07405482457479873, \"kind\": \"data\", \"fmt\": \"o\"}, {\"f\": 0.023101297000831605, \"z_real\": 54.999670793041076, \"z_imag\": -0.09129784040574349, \"kind\": \"data\", \"fmt\": \"o\"}, {\"f\": 0.02848035868435802, \"z_real\": 54.99949963811983, \"z_imag\": -0.11255547920813141, \"kind\": \"data\", \"fmt\": \"o\"}, {\"f\": 0.03511191734215131, \"z_real\": 54.99923950234559, \"z_imag\": -0.13876222087666992, \"kind\": \"data\", \"fmt\": \"o\"}, {\"f\": 0.04328761281083059, \"z_real\": 54.99884412946547, \"z_imag\": -0.17106986332373678, \"kind\": \"data\", \"fmt\": \"o\"}, {\"f\": 0.0533669923120631, \"z_real\": 54.99824322178921, \"z_imag\": -0.21089788614187388, \"kind\": \"data\", \"fmt\": \"o\"}, {\"f\": 0.06579332246575682, \"z_real\": 54.997329950866686, \"z_imag\": -0.25999533330063435, \"kind\": \"data\", \"fmt\": \"o\"}, {\"f\": 0.08111308307896872, \"z_real\": 54.99594198803854, \"z_imag\": -0.3205167154977905, \"kind\": \"data\", \"fmt\": \"o\"}, {\"f\": 0.1, \"z_real\": 54.993832703063575, \"z_imag\": -0.39511485675064156, \"kind\": \"data\", \"fmt\": \"o\"}, {\"f\": 0.12328467394420659, \"z_real\": 54.990627459013226, \"z_imag\": -0.4870539948146962, \"kind\": \"data\", \"fmt\": \"o\"}, {\"f\": 0.1519911082952933, \"z_real\": 54.98575734690849, \"z_imag\": -0.6003466628485314, \"kind\": \"data\", \"fmt\": \"o\"}, {\"f\": 0.1873817422860385, \"z_real\": 54.978358843094306, \"z_imag\": -0.7399176704131813, \"kind\": \"data\", \"fmt\": \"o\"}, {\"f\": 0.23101297000831605, \"z_real\": 54.967122161224715, \"z_imag\": -0.9117973578438657, \"kind\": \"data\", \"fmt\": \"o\"}, {\"f\": 0.2848035868435802, \"z_real\": 54.9500627491614, \"z_imag\": -1.1233432543029898, \"kind\": \"data\", \"fmt\": \"o\"}, {\"f\": 0.3511191734215131, \"z_real\": 54.92417855279314, \"z_imag\": -1.383482532767736, \"kind\": \"data\", \"fmt\": \"o\"}, {\"f\": 0.4328761281083057, \"z_real\": 54.88493955262102, \"z_imag\": -1.7029539701789662, \"kind\": \"data\", \"fmt\": \"o\"}, {\"f\": 0.5336699231206312, \"z_real\": 54.825535774212625, \"z_imag\": -2.0945017653561298, \"kind\": \"data\", \"fmt\": \"o\"}, {\"f\": 0.6579332246575682, \"z_real\": 54.7357884124563, \"z_imag\": -2.572924949419284, \"kind\": \"data\", \"fmt\": \"o\"}, {\"f\": 0.8111308307896873, \"z_real\": 54.60061613122368, \"z_imag\": -3.1548004444408244, \"kind\": \"data\", \"fmt\": \"o\"}, {\"f\": 1.0, \"z_real\": 54.39797181308411, \"z_imag\": -3.8575558298756705, \"kind\": \"data\", \"fmt\": \"o\"}, {\"f\": 1.232846739442066, \"z_real\": 54.09628405630353, \"z_imag\": -4.6973549048603, \"kind\": \"data\", \"fmt\": \"o\"}, {\"f\": 1.5199110829529348, \"z_real\": 53.65176817758159, \"z_imag\": -5.684997723564454, \"kind\": \"data\", \"fmt\": \"o\"}, {\"f\": 1.873817422860385, \"z_real\": 53.00669063583009, \"z_imag\": -6.818870793017816, \"kind\": \"data\", \"fmt\": \"o\"}, {\"f\": 2.31012970008316, \"z_real\": 52.09092535015965, \"z_imag\": -8.074335667882464, \"kind\": \"data\", \"fmt\": \"o\"}, {\"f\": 2.848035868435802, \"z_real\": 50.83067274179077, \"z_imag\": -9.390660061261409, \"kind\": \"data\", \"fmt\": \"o\"}, {\"f\": 3.511191734215131, \"z_real\": 49.16855648041222, \"z_imag\": -10.660599375652227, \"kind\": \"data\", \"fmt\": \"o\"}, {\"f\": 4.328761281083062, \"z_real\": 47.09522645300406, \"z_imag\": -11.733239754931663, \"kind\": \"data\", \"fmt\": \"o\"}, {\"f\": 5.336699231206313, \"z_real\": 44.68145069535575, \"z_imag\": -12.442105973490262, \"kind\": \"data\", \"fmt\": \"o\"}, {\"f\": 6.5793322465756825, \"z_real\": 42.08714580871101, \"z_imag\": -12.658529310488541, \"kind\": \"data\", \"fmt\": \"o\"}, {\"f\": 8.111308307896872, \"z_real\": 39.52759423422633, \"z_imag\": -12.345745566659222, \"kind\": \"data\", \"fmt\": \"o\"}, {\"f\": 10.0, \"z_real\": 37.20685320379747, \"z_imag\": -11.57668365992351, \"kind\": \"data\", \"fmt\": \"o\"}, {\"f\": 12.32846739442066, \"z_real\": 35.258103608099354, \"z_imag\": -10.501576636986982, \"kind\": \"data\", \"fmt\": \"o\"}, {\"f\": 15.199110829529332, \"z_real\": 33.72404069839263, \"z_imag\": -9.290211429003099, \"kind\": \"data\", \"fmt\": \"o\"}, {\"f\": 18.73817422860383, \"z_real\": 32.575966309542984, \"z_imag\": -8.085246928272017, \"kind\": \"data\", \"fmt\": \"o\"}, {\"f\": 23.10129700083158, \"z_real\": 31.747726949570193, \"z_imag\": -6.983127335198518, \"kind\": \"data\", \"fmt\": \"o\"}, {\"f\": 28.48035868435805, \"z_real\": 31.164106543576228, \"z_imag\": -6.036999034453008, \"kind\": \"data\", \"fmt\": \"o\"}, {\"f\": 35.111917342151344, \"z_real\": 30.756828917080483, \"z_imag\": -5.26904551109429, \"kind\": \"data\", \"fmt\": \"o\"}, {\"f\": 43.287612810830616, \"z_real\": 30.470267447043568, \"z_imag\": -4.683301439998707, \"kind\": \"data\", \"fmt\": \"o\"}, {\"f\": 53.366992312063125, \"z_real\": 30.2612205486142, \"z_imag\": -4.275348057217442, \"kind\": \"data\", \"fmt\": \"o\"}, {\"f\": 65.79332246575683, \"z_real\": 30.096108020811418, \"z_imag\": -4.038502038116537, \"kind\": \"data\", \"fmt\": \"o\"}, {\"f\": 81.11308307896873, \"z_real\": 29.94739977006224, \"z_imag\": -3.9672457891298647, \"kind\": \"data\", \"fmt\": \"o\"}, {\"f\": 100.0, \"z_real\": 29.78999467386272, \"z_imag\": -4.058699916083006, \"kind\": \"data\", \"fmt\": \"o\"}, {\"f\": 123.28467394420659, \"z_real\": 29.59770717974508, \"z_imag\": -4.312603796901472, \"kind\": \"data\", \"fmt\": \"o\"}, {\"f\": 151.99110829529332, \"z_real\": 29.339859773316746, \"z_imag\": -4.729849968045549, \"kind\": \"data\", \"fmt\": \"o\"}, {\"f\": 187.3817422860383, \"z_real\": 28.97814923943914, \"z_imag\": -5.309219167716574, \"kind\": \"data\", \"fmt\": \"o\"}, {\"f\": 231.01297000831627, \"z_real\": 28.464497210044925, \"z_imag\": -6.041695648496935, \"kind\": \"data\", \"fmt\": \"o\"}, {\"f\": 284.8035868435805, \"z_real\": 27.741588279193493, \"z_imag\": -6.901907780423157, \"kind\": \"data\", \"fmt\": \"o\"}, {\"f\": 351.11917342151344, \"z_real\": 26.74905336645992, \"z_imag\": -7.837473041091896, \"kind\": \"data\", \"fmt\": \"o\"}, {\"f\": 432.87612810830615, \"z_real\": 25.438679125796348, \"z_imag\": -8.760078774368703, \"kind\": \"data\", \"fmt\": \"o\"}, {\"f\": 533.6699231206312, \"z_real\": 23.799098076616765, \"z_imag\": -9.546527165029566, \"kind\": \"data\", \"fmt\": \"o\"}, {\"f\": 657.9332246575682, \"z_real\": 21.881854252305413, \"z_imag\": -10.05952813023409, \"kind\": \"data\", \"fmt\": \"o\"}, {\"f\": 811.1308307896873, \"z_real\": 19.810430803896516, \"z_imag\": -10.189278780342848, \"kind\": \"data\", \"fmt\": \"o\"}, {\"f\": 1000.0, \"z_real\": 17.755545905557184, \"z_imag\": -9.897498536385612, \"kind\": \"data\", \"fmt\": \"o\"}, {\"f\": 1232.8467394420659, \"z_real\": 15.882764580647326, \"z_imag\": -9.234132614218801, \"kind\": \"data\", \"fmt\": \"o\"}, {\"f\": 1519.9110829529332, \"z_real\": 14.303354763431619, \"z_imag\": -8.313630799426381, \"kind\": \"data\", \"fmt\": \"o\"}, {\"f\": 1873.817422860383, \"z_real\": 13.056218929645642, \"z_imag\": -7.268986648747729, \"kind\": \"data\", \"fmt\": \"o\"}, {\"f\": 2310.129700083163, \"z_real\": 12.121670587296533, \"z_imag\": -6.213025981862253, \"kind\": \"data\", \"fmt\": \"o\"}, {\"f\": 2848.035868435805, \"z_real\": 11.44846990581391, \"z_imag\": -5.221537918129193, \"kind\": \"data\", \"fmt\": \"o\"}, {\"f\": 3511.1917342151346, \"z_real\": 10.977201214405914, \"z_imag\": -4.334602385155012, \"kind\": \"data\", \"fmt\": \"o\"}, {\"f\": 4328.7612810830615, \"z_real\": 10.653859541757312, \"z_imag\": -3.5660621186967356, \"kind\": \"data\", \"fmt\": \"o\"}, {\"f\": 5336.699231206313, \"z_real\": 10.435060476808221, \"z_imag\": -2.913696118903403, \"kind\": \"data\", \"fmt\": \"o\"}, {\"f\": 6579.332246575683, \"z_real\": 10.288386271227191, \"z_imag\": -2.3669868841084516, \"kind\": \"data\", \"fmt\": \"o\"}, {\"f\": 8111.308307896872, \"z_real\": 10.190679257379122, \"z_imag\": -1.9120876006142422, \"kind\": \"data\", \"fmt\": \"o\"}, {\"f\": 10000.0, \"z_real\": 10.125864628756773, \"z_imag\": -1.534617883080543, \"kind\": \"data\", \"fmt\": \"o\"}, {\"f\": 12328.467394420659, \"z_real\": 10.08298914351452, \"z_imag\": -1.221045980213529, \"kind\": \"data\", \"fmt\": \"o\"}, {\"f\": 15199.11082952933, \"z_real\": 10.054678913126365, \"z_imag\": -0.9592431743312297, \"kind\": \"data\", \"fmt\": \"o\"}, {\"f\": 18738.174228603868, \"z_real\": 10.036008743322336, \"z_imag\": -0.7385911606126271, \"kind\": \"data\", \"fmt\": \"o\"}, {\"f\": 23101.297000831626, \"z_real\": 10.023705946045554, \"z_imag\": -0.5498669247129372, \"kind\": \"data\", \"fmt\": \"o\"}, {\"f\": 28480.35868435805, \"z_real\": 10.015603254864827, \"z_imag\": -0.3850284459536413, \"kind\": \"data\", \"fmt\": \"o\"}, {\"f\": 35111.91734215135, \"z_real\": 10.01026863971851, \"z_imag\": -0.2369643838261582, \"kind\": \"data\", \"fmt\": \"o\"}, {\"f\": 43287.612810830615, \"z_real\": 10.006757265818154, \"z_imag\": -0.09923694191606955, \"kind\": \"data\", \"fmt\": \"o\"}, {\"f\": 53366.99231206313, \"z_real\": 10.004446343479323, \"z_imag\": 0.03417141941988899, \"kind\": \"data\", \"fmt\": \"o\"}, {\"f\": 65793.32246575682, \"z_real\": 10.00292561955321, \"z_imag\": 0.16910664425546873, \"kind\": \"data\", \"fmt\": \"o\"}, {\"f\": 81113.08307896872, \"z_real\": 10.001924958612168, \"z_imag\": 0.3114916262975882, \"kind\": \"data\", \"fmt\": \"o\"}, {\"f\": 100000.0, \"z_real\": 10.001266535918804, \"z_imag\": 0.46758211616791023, \"kind\": \"data\", \"fmt\": \"o\"}, {\"f\": 123284.67394420685, \"z_real\": 10.00083331410956, \"z_imag\": 0.6442393943275574, \"kind\": \"data\", \"fmt\": \"o\"}, {\"f\": 151991.10829529332, \"z_real\": 10.000548272852239, \"z_imag\": 0.849230710630869, \"kind\": \"data\", \"fmt\": \"o\"}, {\"f\": 187381.74228603867, \"z_real\": 10.000360730307799, \"z_imag\": 1.0915701734904113, \"kind\": \"data\", \"fmt\": \"o\"}, {\"f\": 231012.9700083158, \"z_real\": 10.00023733791871, \"z_imag\": 1.3819147971314094, \"kind\": \"data\", \"fmt\": \"o\"}, {\"f\": 284803.5868435805, \"z_real\": 10.000156153135956, \"z_imag\": 1.733032972978215, \"kind\": \"data\", \"fmt\": \"o\"}, {\"f\": 351119.17342151277, \"z_real\": 10.000102738610623, \"z_imag\": 2.1603658866958573, \"kind\": \"data\", \"fmt\": \"o\"}, {\"f\": 432876.12810830615, \"z_real\": 10.000067595264143, \"z_imag\": 2.682706527556189, \"kind\": \"data\", \"fmt\": \"o\"}, {\"f\": 533669.9231206302, \"z_real\": 10.000044473221516, \"z_imag\": 3.3230261283102904, \"kind\": \"data\", \"fmt\": \"o\"}, {\"f\": 657933.2246575683, \"z_real\": 10.000029260432296, \"z_imag\": 4.109484368108479, \"kind\": \"data\", \"fmt\": \"o\"}, {\"f\": 811130.8307896889, \"z_real\": 10.000019251420207, \"z_imag\": 5.076667758185254, \"kind\": \"data\", \"fmt\": \"o\"}, {\"f\": 1000000.0, \"z_real\": 10.000012666153147, \"z_imag\": 6.267110668005909, \"kind\": \"data\", \"fmt\": \"o\"}]}}, {\"mode\": \"vega-lite\"});\n",
              "</script>"
            ],
            "text/plain": [
              "alt.HConcatChart(...)"
            ]
          },
          "metadata": {},
          "execution_count": 10
        }
      ]
    },
    {
      "cell_type": "code",
      "source": [
        "# C-R-2RC circuit\n",
        "circuit = 'C0-R0-p(R1,C1)-p(R2,C2)'\n",
        "initial_guess = [6,10, 10, 1e-5, 25, 1e-4]\n",
        "\n",
        "# Creating the circuit\n",
        "circuit = CustomCircuit(circuit, initial_guess=initial_guess)\n",
        "\n",
        "# Defining 100 frequency points between 1mHz to 1MHz\n",
        "frequencies = np.logspace(-3,6,100)\n",
        "\n",
        "# Calculating total Impedance of circuit for all frequencies\n",
        "Z_fit = circuit.predict(frequencies)\n",
        "\n",
        "# Showing the circuit, plots\n",
        "print(circuit)\n",
        "circuit.plot(f_data=frequencies, Z_data=Z_fit, kind='altair')"
      ],
      "metadata": {
        "id": "EPyXRSBvJPR8",
        "colab": {
          "base_uri": "https://localhost:8080/",
          "height": 684
        },
        "outputId": "0773137d-0e3f-46be-fe8d-382747f03c4e"
      },
      "execution_count": 44,
      "outputs": [
        {
          "output_type": "stream",
          "name": "stdout",
          "text": [
            "\n",
            "Circuit string: C0-R0-p(R1,C1)-p(R2,C2)\n",
            "Fit: False\n",
            "\n",
            "Initial guesses:\n",
            "     C0 = 6.00e+00 [F]\n",
            "     R0 = 1.00e+01 [Ohm]\n",
            "     R1 = 1.00e+01 [Ohm]\n",
            "     C1 = 1.00e-05 [F]\n",
            "     R2 = 2.50e+01 [Ohm]\n",
            "     C2 = 1.00e-04 [F]\n",
            "\n"
          ]
        },
        {
          "output_type": "execute_result",
          "data": {
            "text/html": [
              "\n",
              "<div id=\"altair-viz-a656561059b640efa1a1e26dfd4f17cb\"></div>\n",
              "<script type=\"text/javascript\">\n",
              "  var VEGA_DEBUG = (typeof VEGA_DEBUG == \"undefined\") ? {} : VEGA_DEBUG;\n",
              "  (function(spec, embedOpt){\n",
              "    let outputDiv = document.currentScript.previousElementSibling;\n",
              "    if (outputDiv.id !== \"altair-viz-a656561059b640efa1a1e26dfd4f17cb\") {\n",
              "      outputDiv = document.getElementById(\"altair-viz-a656561059b640efa1a1e26dfd4f17cb\");\n",
              "    }\n",
              "    const paths = {\n",
              "      \"vega\": \"https://cdn.jsdelivr.net/npm//vega@5?noext\",\n",
              "      \"vega-lib\": \"https://cdn.jsdelivr.net/npm//vega-lib?noext\",\n",
              "      \"vega-lite\": \"https://cdn.jsdelivr.net/npm//vega-lite@4.17.0?noext\",\n",
              "      \"vega-embed\": \"https://cdn.jsdelivr.net/npm//vega-embed@6?noext\",\n",
              "    };\n",
              "\n",
              "    function maybeLoadScript(lib, version) {\n",
              "      var key = `${lib.replace(\"-\", \"\")}_version`;\n",
              "      return (VEGA_DEBUG[key] == version) ?\n",
              "        Promise.resolve(paths[lib]) :\n",
              "        new Promise(function(resolve, reject) {\n",
              "          var s = document.createElement('script');\n",
              "          document.getElementsByTagName(\"head\")[0].appendChild(s);\n",
              "          s.async = true;\n",
              "          s.onload = () => {\n",
              "            VEGA_DEBUG[key] = version;\n",
              "            return resolve(paths[lib]);\n",
              "          };\n",
              "          s.onerror = () => reject(`Error loading script: ${paths[lib]}`);\n",
              "          s.src = paths[lib];\n",
              "        });\n",
              "    }\n",
              "\n",
              "    function showError(err) {\n",
              "      outputDiv.innerHTML = `<div class=\"error\" style=\"color:red;\">${err}</div>`;\n",
              "      throw err;\n",
              "    }\n",
              "\n",
              "    function displayChart(vegaEmbed) {\n",
              "      vegaEmbed(outputDiv, spec, embedOpt)\n",
              "        .catch(err => showError(`Javascript Error: ${err.message}<br>This usually means there's a typo in your chart specification. See the javascript console for the full traceback.`));\n",
              "    }\n",
              "\n",
              "    if(typeof define === \"function\" && define.amd) {\n",
              "      requirejs.config({paths});\n",
              "      require([\"vega-embed\"], displayChart, err => showError(`Error loading script: ${err.message}`));\n",
              "    } else {\n",
              "      maybeLoadScript(\"vega\", \"5\")\n",
              "        .then(() => maybeLoadScript(\"vega-lite\", \"4.17.0\"))\n",
              "        .then(() => maybeLoadScript(\"vega-embed\", \"6\"))\n",
              "        .catch(showError)\n",
              "        .then(() => displayChart(vegaEmbed));\n",
              "    }\n",
              "  })({\"config\": {\"view\": {\"continuousWidth\": 400, \"continuousHeight\": 300}, \"background\": \"#FFFFFF\"}, \"hconcat\": [{\"vconcat\": [{\"layer\": [{\"mark\": \"circle\", \"encoding\": {\"color\": {\"field\": \"kind\", \"type\": \"nominal\"}, \"size\": {\"condition\": {\"value\": 80, \"selection\": \"selector115\"}, \"value\": 30}, \"x\": {\"axis\": {\"title\": \"f [Hz]\"}, \"field\": \"f\", \"scale\": {\"nice\": false, \"type\": \"log\"}, \"type\": \"quantitative\"}, \"y\": {\"axis\": {\"title\": \"|Z| [\\u03a9]\"}, \"field\": \"mag\", \"type\": \"quantitative\"}}, \"height\": 175.0, \"selection\": {\"selector115\": {\"type\": \"single\", \"on\": \"mouseover\", \"nearest\": true, \"empty\": \"none\", \"fields\": [\"f\"]}, \"selector117\": {\"type\": \"interval\", \"bind\": \"scales\", \"encodings\": [\"x\", \"y\"]}}, \"transform\": [{\"calculate\": \"sqrt(pow(datum.z_real,2) + pow(datum.z_imag,2))\", \"as\": \"mag\"}, {\"calculate\": \"-(180/PI)*atan(datum.z_imag/datum.z_real)\", \"as\": \"neg_phase\"}], \"width\": 400}]}, {\"layer\": [{\"mark\": \"circle\", \"encoding\": {\"color\": {\"field\": \"kind\", \"type\": \"nominal\"}, \"size\": {\"condition\": {\"value\": 80, \"selection\": \"selector115\"}, \"value\": 30}, \"x\": {\"axis\": {\"title\": \"f [Hz]\"}, \"field\": \"f\", \"scale\": {\"nice\": false, \"type\": \"log\"}, \"type\": \"quantitative\"}, \"y\": {\"axis\": {\"title\": \"-\\u03d5 [\\u00b0]\"}, \"field\": \"neg_phase\", \"type\": \"quantitative\"}}, \"height\": 175.0, \"selection\": {\"selector115\": {\"type\": \"single\", \"on\": \"mouseover\", \"nearest\": true, \"empty\": \"none\", \"fields\": [\"f\"]}, \"selector117\": {\"type\": \"interval\", \"bind\": \"scales\", \"encodings\": [\"x\", \"y\"]}}, \"transform\": [{\"calculate\": \"sqrt(pow(datum.z_real,2) + pow(datum.z_imag,2))\", \"as\": \"mag\"}, {\"calculate\": \"-(180/PI)*atan(datum.z_imag/datum.z_real)\", \"as\": \"neg_phase\"}], \"width\": 400}]}]}, {\"layer\": [{\"mark\": \"circle\", \"encoding\": {\"color\": {\"field\": \"kind\", \"legend\": {\"title\": \"Legend\"}, \"type\": \"nominal\"}, \"size\": {\"condition\": {\"value\": 80, \"selection\": \"selector115\"}, \"value\": 30}, \"x\": {\"axis\": {\"title\": \"Z' [\\u03a9]\"}, \"field\": \"z_real\", \"scale\": {\"domain\": [10.000025431552931, 44.999999993827544], \"nice\": false, \"padding\": 5}, \"type\": \"quantitative\"}, \"y\": {\"axis\": {\"title\": \"-Z'' [\\u03a9]\"}, \"field\": \"neg_z_imag\", \"scale\": {\"domain\": [0.017507029945166105, 35.01748159221978], \"nice\": false, \"padding\": 5}, \"type\": \"quantitative\"}}, \"height\": 400, \"selection\": {\"selector115\": {\"type\": \"single\", \"on\": \"mouseover\", \"nearest\": true, \"empty\": \"none\", \"fields\": [\"f\"]}, \"selector116\": {\"type\": \"interval\", \"bind\": \"scales\", \"encodings\": [\"x\", \"y\"]}}, \"transform\": [{\"calculate\": \"-datum.z_imag\", \"as\": \"neg_z_imag\"}], \"width\": 400}]}], \"data\": {\"name\": \"data-624b866d48a6f410e235002402fc3ff3\"}, \"$schema\": \"https://vega.github.io/schema/vega-lite/v4.17.0.json\", \"datasets\": {\"data-624b866d48a6f410e235002402fc3ff3\": [{\"f\": 0.001, \"z_real\": 44.999999993827544, \"z_imag\": -26.526222830916133, \"kind\": \"data\", \"fmt\": \"o\"}, {\"f\": 0.0012328467394420659, \"z_real\": 44.99999999061842, \"z_imag\": -21.51640541972254, \"kind\": \"data\", \"fmt\": \"o\"}, {\"f\": 0.0015199110829529332, \"z_real\": 44.999999985740835, \"z_imag\": -17.452827239009594, \"kind\": \"data\", \"fmt\": \"o\"}, {\"f\": 0.001873817422860383, \"z_real\": 44.99999997832734, \"z_imag\": -14.156781993942731, \"kind\": \"data\", \"fmt\": \"o\"}, {\"f\": 0.0023101297000831605, \"z_real\": 44.99999996705949, \"z_imag\": -11.483317623269853, \"kind\": \"data\", \"fmt\": \"o\"}, {\"f\": 0.002848035868435802, \"z_real\": 44.99999994993335, \"z_imag\": -9.314861659867438, \"kind\": \"data\", \"fmt\": \"o\"}, {\"f\": 0.003511191734215131, \"z_real\": 44.99999992390314, \"z_imag\": -7.556050679310096, \"kind\": \"data\", \"fmt\": \"o\"}, {\"f\": 0.004328761281083057, \"z_real\": 44.999999884339545, \"z_imag\": -6.129536448175271, \"kind\": \"data\", \"fmt\": \"o\"}, {\"f\": 0.005336699231206312, \"z_real\": 44.9999998242064, \"z_imag\": -4.972584336675307, \"kind\": \"data\", \"fmt\": \"o\"}, {\"f\": 0.006579332246575682, \"z_real\": 44.99999973280936, \"z_imag\": -4.0343144020694455, \"kind\": \"data\", \"fmt\": \"o\"}, {\"f\": 0.008111308307896872, \"z_real\": 44.999999593893975, \"z_imag\": -3.273463812407536, \"kind\": \"data\", \"fmt\": \"o\"}, {\"f\": 0.01, \"z_real\": 44.99999938275496, \"z_imag\": -2.6565722074380838, \"kind\": \"data\", \"fmt\": \"o\"}, {\"f\": 0.012328467394420659, \"z_real\": 44.99999906184242, \"z_imag\": -2.1565101932617416, \"kind\": \"data\", \"fmt\": \"o\"}, {\"f\": 0.01519911082952934, \"z_real\": 44.99999857408393, \"z_imag\": -1.7512862574990558, \"kind\": \"data\", \"fmt\": \"o\"}, {\"f\": 0.01873817422860384, \"z_real\": 44.99999783273444, \"z_imag\": -1.4230796359977649, \"kind\": \"data\", \"fmt\": \"o\"}, {\"f\": 0.023101297000831605, \"z_real\": 44.9999967059492, \"z_imag\": -1.1574565989021992, \"kind\": \"data\", \"fmt\": \"o\"}, {\"f\": 0.02848035868435802, \"z_real\": 44.999994993336024, \"z_imag\": -0.9427356902408157, \"kind\": \"data\", \"fmt\": \"o\"}, {\"f\": 0.03511191734215131, \"z_real\": 44.99999239031673, \"z_imag\": -0.7694740057932808, \"kind\": \"data\", \"fmt\": \"o\"}, {\"f\": 0.04328761281083059, \"z_real\": 44.999988433959885, \"z_imag\": -0.630051916952308, \"kind\": \"data\", \"fmt\": \"o\"}, {\"f\": 0.0533669923120631, \"z_real\": 44.99998242065166, \"z_imag\": -0.518337977681711, \"kind\": \"data\", \"fmt\": \"o\"}, {\"f\": 0.06579332246575682, \"z_real\": 44.99997328096339, \"z_imag\": -0.42941927787481915, \"kind\": \"data\", \"fmt\": \"o\"}, {\"f\": 0.08111308307896872, \"z_real\": 44.99995938946266, \"z_imag\": -0.3593853844879217, \"kind\": \"data\", \"fmt\": \"o\"}, {\"f\": 0.1, \"z_real\": 44.99993827564627, \"z_imag\": -0.3051563682902266, \"kind\": \"data\", \"fmt\": \"o\"}, {\"f\": 0.12328467394420659, \"z_real\": 44.999906184590955, \"z_imag\": -0.2643473524879165, \"kind\": \"data\", \"fmt\": \"o\"}, {\"f\": 0.1519911082952933, \"z_real\": 44.99985740919789, \"z_imag\": -0.2351636249444598, \"kind\": \"data\", \"fmt\": \"o\"}, {\"f\": 0.1873817422860385, \"z_real\": 44.9997832753014, \"z_imag\": -0.21632169856034028, \"kind\": \"data\", \"fmt\": \"o\"}, {\"f\": 0.23101297000831605, \"z_real\": 44.99967059921139, \"z_imag\": -0.20699284312959873, \"kind\": \"data\", \"fmt\": \"o\"}, {\"f\": 0.2848035868435802, \"z_real\": 44.99949934351595, \"z_imag\": -0.20676659576711304, \"kind\": \"data\", \"fmt\": \"o\"}, {\"f\": 0.3511191734215131, \"z_real\": 44.999239054573906, \"z_imag\": -0.21563262724536558, \"kind\": \"data\", \"fmt\": \"o\"}, {\"f\": 0.4328761281083057, \"z_real\": 44.99884344889233, \"z_imag\": -0.23398013315856167, \"kind\": \"data\", \"fmt\": \"o\"}, {\"f\": 0.5336699231206312, \"z_real\": 44.99824218737861, \"z_imag\": -0.26261466018081947, \"kind\": \"data\", \"fmt\": \"o\"}, {\"f\": 0.6579332246575682, \"z_real\": 44.99732837865464, \"z_imag\": -0.3027929894713023, \"kind\": \"data\", \"fmt\": \"o\"}, {\"f\": 0.8111308307896873, \"z_real\": 44.99593959841626, \"z_imag\": -0.35627739047748624, \"kind\": \"data\", \"fmt\": \"o\"}, {\"f\": 1.0, \"z_real\": 44.99382907105071, \"z_imag\": -0.4254112176613161, \"kind\": \"data\", \"fmt\": \"o\"}, {\"f\": 1.232846739442066, \"z_real\": 44.99062193867785, \"z_imag\": -0.5132184011088067, \"kind\": \"data\", \"fmt\": \"o\"}, {\"f\": 1.5199110829529348, \"z_real\": 44.9857489564924, \"z_imag\": -0.6235297598788899, \"kind\": \"data\", \"fmt\": \"o\"}, {\"f\": 1.873817422860385, \"z_real\": 44.97834609041445, \"z_imag\": -0.7611389913422991, \"kind\": \"data\", \"fmt\": \"o\"}, {\"f\": 2.31012970008316, \"z_real\": 44.9671027783004, \"z_imag\": -0.9319901589657631, \"kind\": \"data\", \"fmt\": \"o\"}, {\"f\": 2.848035868435802, \"z_real\": 44.95003328887488, \"z_imag\": -1.1433955550087018, \"kind\": \"data\", \"fmt\": \"o\"}, {\"f\": 3.511191734215131, \"z_real\": 44.924133775857925, \"z_imag\": -1.4042761640232166, \"kind\": \"data\", \"fmt\": \"o\"}, {\"f\": 4.328761281083062, \"z_real\": 44.884871495847506, \"z_imag\": -1.7254033469563734, \"kind\": \"data\", \"fmt\": \"o\"}, {\"f\": 5.336699231206313, \"z_real\": 44.82543233439934, \"z_imag\": -2.1195940847326895, \"kind\": \"data\", \"fmt\": \"o\"}, {\"f\": 6.5793322465756825, \"z_real\": 44.73563119413342, \"z_imag\": -2.6017635757819533, \"kind\": \"data\", \"fmt\": \"o\"}, {\"f\": 8.111308307896872, \"z_real\": 44.60037717565258, \"z_imag\": -3.1886533778250215, \"kind\": \"data\", \"fmt\": \"o\"}, {\"f\": 10.0, \"z_real\": 44.39760862717712, \"z_imag\": -3.8979113665726794, \"kind\": \"data\", \"fmt\": \"o\"}, {\"f\": 12.32846739442066, \"z_real\": 44.09573205829359, \"z_imag\": -4.745986896172708, \"kind\": \"data\", \"fmt\": \"o\"}, {\"f\": 15.199110829529332, \"z_real\": 43.65092921804454, \"z_imag\": -5.744043224064789, \"kind\": \"data\", \"fmt\": \"o\"}, {\"f\": 18.73817422860383, \"z_real\": 43.00541555743251, \"z_imag\": -6.890923365928779, \"kind\": \"data\", \"fmt\": \"o\"}, {\"f\": 23.10129700083158, \"z_real\": 42.088987495669016, \"z_imag\": -8.162558175323511, \"kind\": \"data\", \"fmt\": \"o\"}, {\"f\": 28.48035868435805, \"z_real\": 40.82772772472644, \"z_imag\": -9.498921383630732, \"kind\": \"data\", \"fmt\": \"o\"}, {\"f\": 35.111917342151344, \"z_real\": 39.16408112339536, \"z_imag\": -10.79364010717456, \"kind\": \"data\", \"fmt\": \"o\"}, {\"f\": 43.287612810830616, \"z_real\": 37.08842617190025, \"z_imag\": -11.89687235663049, \"kind\": \"data\", \"fmt\": \"o\"}, {\"f\": 53.366992312063125, \"z_real\": 34.67111917520667, \"z_imag\": -12.64345481277137, \"kind\": \"data\", \"fmt\": \"o\"}, {\"f\": 65.79332246575683, \"z_real\": 32.0714527463452, \"z_imag\": -12.906314852643556, \"kind\": \"data\", \"fmt\": \"o\"}, {\"f\": 81.11308307896873, \"z_real\": 29.50376507969728, \"z_imag\": -12.650613511558694, \"kind\": \"data\", \"fmt\": \"o\"}, {\"f\": 100.0, \"z_real\": 27.17068780262175, \"z_imag\": -11.951571802201459, \"kind\": \"data\", \"fmt\": \"o\"}, {\"f\": 123.28467394420659, \"z_real\": 25.2032569632391, \"z_imag\": -10.962095594901873, \"kind\": \"data\", \"fmt\": \"o\"}, {\"f\": 151.99110829529332, \"z_real\": 23.640958025766402, \"z_imag\": -9.85498292518209, \"kind\": \"data\", \"fmt\": \"o\"}, {\"f\": 187.3817422860383, \"z_real\": 22.450328351668347, \"z_imag\": -8.776082807909429, \"kind\": \"data\", \"fmt\": \"o\"}, {\"f\": 231.01297000831627, \"z_real\": 21.55823027631087, \"z_imag\": -7.824824774755818, \"kind\": \"data\", \"fmt\": \"o\"}, {\"f\": 284.8035868435805, \"z_real\": 20.87940590046834, \"z_imag\": -7.056346226010251, \"kind\": \"data\", \"fmt\": \"o\"}, {\"f\": 351.11917342151344, \"z_real\": 20.331570623537754, \"z_imag\": -6.492352899119053, \"kind\": \"data\", \"fmt\": \"o\"}, {\"f\": 432.87612810830615, \"z_real\": 19.840473825536684, \"z_imag\": -6.131406527359102, \"kind\": \"data\", \"fmt\": \"o\"}, {\"f\": 533.6699231206312, \"z_real\": 19.340048170659788, \"z_imag\": -5.954717766216979, \"kind\": \"data\", \"fmt\": \"o\"}, {\"f\": 657.9332246575682, \"z_real\": 18.772386566124627, \"z_imag\": -5.92718397742323, \"kind\": \"data\", \"fmt\": \"o\"}, {\"f\": 811.1308307896873, \"z_real\": 18.09119208830364, \"z_imag\": -5.995815744670909, \"kind\": \"data\", \"fmt\": \"o\"}, {\"f\": 1000.0, \"z_real\": 17.270480205141723, \"z_imag\": -6.08992412012688, \"kind\": \"data\", \"fmt\": \"o\"}, {\"f\": 1232.8467394420659, \"z_real\": 16.316341369177977, \"z_imag\": -6.128809488500187, \"kind\": \"data\", \"fmt\": \"o\"}, {\"f\": 1519.9110829529332, \"z_real\": 15.273900983727525, \"z_imag\": -6.040018599117637, \"kind\": \"data\", \"fmt\": \"o\"}, {\"f\": 1873.817422860383, \"z_real\": 14.21965201897239, \"z_imag\": -5.782486716494819, \"kind\": \"data\", \"fmt\": \"o\"}, {\"f\": 2310.129700083163, \"z_real\": 13.237671300808525, \"z_imag\": -5.360366740505647, \"kind\": \"data\", \"fmt\": \"o\"}, {\"f\": 2848.035868435805, \"z_real\": 12.39218182388948, \"z_imag\": -4.816958466619482, \"kind\": \"data\", \"fmt\": \"o\"}, {\"f\": 3511.1917342151346, \"z_real\": 11.712640026593009, \"z_imag\": -4.213347746912747, \"kind\": \"data\", \"fmt\": \"o\"}, {\"f\": 4328.7612810830615, \"z_real\": 11.196231724975812, \"z_imag\": -3.6064516262409927, \"kind\": \"data\", \"fmt\": \"o\"}, {\"f\": 5336.699231206313, \"z_real\": 10.820310655122562, \"z_imag\": -3.0368846767394833, \"kind\": \"data\", \"fmt\": \"o\"}, {\"f\": 6579.332246575683, \"z_real\": 10.55515450369028, \"z_imag\": -2.5271698896632264, \"kind\": \"data\", \"fmt\": \"o\"}, {\"f\": 8111.308307896872, \"z_real\": 10.37226502941185, \"z_imag\": -2.085600031146912, \"kind\": \"data\", \"fmt\": \"o\"}, {\"f\": 10000.0, \"z_real\": 10.248058401092734, \"z_imag\": -1.71138210697528, \"kind\": \"data\", \"fmt\": \"o\"}, {\"f\": 12328.467394420659, \"z_real\": 10.164591132997936, \"z_imag\": -1.3988870872637453, \"kind\": \"data\", \"fmt\": \"o\"}, {\"f\": 15199.11082952933, \"z_real\": 10.108898145613704, \"z_imag\": -1.1404893214507887, \"kind\": \"data\", \"fmt\": \"o\"}, {\"f\": 18738.174228603868, \"z_real\": 10.071913441077946, \"z_imag\": -0.9282151584970705, \"kind\": \"data\", \"fmt\": \"o\"}, {\"f\": 23101.297000831626, \"z_real\": 10.047429983566692, \"z_imag\": -0.7545841768315453, \"kind\": \"data\", \"fmt\": \"o\"}, {\"f\": 28480.35868435805, \"z_real\": 10.031256068057466, \"z_imag\": -0.6129668426891208, \"kind\": \"data\", \"fmt\": \"o\"}, {\"f\": 35111.91734215135, \"z_real\": 10.02058624042122, \"z_imag\": -0.49767808590564755, \"kind\": \"data\", \"fmt\": \"o\"}, {\"f\": 43287.612810830615, \"z_real\": 10.013553840013047, \"z_imag\": -0.4039396062758612, \"kind\": \"data\", \"fmt\": \"o\"}, {\"f\": 53366.99231206313, \"z_real\": 10.008921625112132, \"z_imag\": -0.32778548418148185, \"kind\": \"data\", \"fmt\": \"o\"}, {\"f\": 65793.32246575682, \"z_real\": 10.005871611223927, \"z_imag\": -0.2659504097549269, \"kind\": \"data\", \"fmt\": \"o\"}, {\"f\": 81113.08307896872, \"z_real\": 10.003863897994437, \"z_imag\": -0.21575982007203956, \"kind\": \"data\", \"fmt\": \"o\"}, {\"f\": 100000.0, \"z_real\": 10.00254252024391, \"z_imag\": -0.17503039200015297, \"kind\": \"data\", \"fmt\": \"o\"}, {\"f\": 123284.67394420685, \"z_real\": 10.001672952885142, \"z_imag\": -0.14198373004522802, \"kind\": \"data\", \"fmt\": \"o\"}, {\"f\": 151991.10829529332, \"z_real\": 10.001100753777738, \"z_imag\": -0.11517334967460062, \"kind\": \"data\", \"fmt\": \"o\"}, {\"f\": 187381.74228603867, \"z_real\": 10.000724249536095, \"z_imag\": -0.0934238404574191, \"kind\": \"data\", \"fmt\": \"o\"}, {\"f\": 231012.9700083158, \"z_real\": 10.000476519544307, \"z_imag\": -0.07578065751762662, \"kind\": \"data\", \"fmt\": \"o\"}, {\"f\": 284803.5868435805, \"z_real\": 10.000313523110263, \"z_imag\": -0.06146893506842319, \"kind\": \"data\", \"fmt\": \"o\"}, {\"f\": 351119.17342151277, \"z_real\": 10.000206279465623, \"z_imag\": -0.04985983262338079, \"kind\": \"data\", \"fmt\": \"o\"}, {\"f\": 432876.12810830615, \"z_real\": 10.00013571906404, \"z_imag\": -0.04044310589498086, \"kind\": \"data\", \"fmt\": \"o\"}, {\"f\": 533669.9231206302, \"z_real\": 10.000089294492707, \"z_imag\": -0.03280478800551473, \"kind\": \"data\", \"fmt\": \"o\"}, {\"f\": 657933.2246575683, \"z_real\": 10.000058749991554, \"z_imag\": -0.026609048553754955, \"kind\": \"data\", \"fmt\": \"o\"}, {\"f\": 811130.8307896889, \"z_real\": 10.000038653648454, \"z_imag\": -0.021583458940882996, \"kind\": \"data\", \"fmt\": \"o\"}, {\"f\": 1000000.0, \"z_real\": 10.000025431552931, \"z_imag\": -0.017507029945166105, \"kind\": \"data\", \"fmt\": \"o\"}]}}, {\"mode\": \"vega-lite\"});\n",
              "</script>"
            ],
            "text/plain": [
              "alt.HConcatChart(...)"
            ]
          },
          "metadata": {},
          "execution_count": 44
        }
      ]
    },
    {
      "cell_type": "code",
      "source": [
        "# C-L-R-3RC circuit\n",
        "circuit = 'R0-C0-p(R3,L3)-R0-p(R1,C1)-p(R2,C2)-p(R3,C3)'\n",
        "initial_guess = [5,1.5,45,0.000001,10, 10, 1e-4, 20, 1e-3, 150, 1e-2]\n",
        "\n",
        "# Creating the circuit\n",
        "circuit = CustomCircuit(circuit, initial_guess=initial_guess)\n",
        "\n",
        "# Defining 100 frequency points between 1mHz to 1MHz\n",
        "frequencies = np.logspace(-3,6,100)\n",
        "\n",
        "# Calculating total Impedance of circuit for all frequencies\n",
        "Z_fit = circuit.predict(frequencies)\n",
        "\n",
        "# Showing the circuit, plots\n",
        "print(circuit)\n",
        "circuit.plot(f_data=frequencies, Z_data=Z_fit, kind='altair')"
      ],
      "metadata": {
        "colab": {
          "base_uri": "https://localhost:8080/",
          "height": 771
        },
        "id": "jfy305HH9UpS",
        "outputId": "5a3d3ace-71b9-4591-fca5-37de636a4fc6"
      },
      "execution_count": 46,
      "outputs": [
        {
          "output_type": "stream",
          "name": "stdout",
          "text": [
            "\n",
            "Circuit string: R0-C0-p(R3,L3)-R0-p(R1,C1)-p(R2,C2)-p(R3,C3)\n",
            "Fit: False\n",
            "\n",
            "Initial guesses:\n",
            "     R0 = 5.00e+00 [Ohm]\n",
            "     C0 = 1.50e+00 [F]\n",
            "     R3 = 4.50e+01 [Ohm]\n",
            "     L3 = 1.00e-06 [H]\n",
            "     R0 = 1.00e+01 [Ohm]\n",
            "     R1 = 1.00e+01 [Ohm]\n",
            "     C1 = 1.00e-04 [F]\n",
            "     R2 = 2.00e+01 [Ohm]\n",
            "     C2 = 1.00e-03 [F]\n",
            "     R3 = 1.50e+02 [Ohm]\n",
            "     C3 = 1.00e-02 [F]\n",
            "\n"
          ]
        },
        {
          "output_type": "execute_result",
          "data": {
            "text/html": [
              "\n",
              "<div id=\"altair-viz-9403fb9b0d6342339cd8b8c245d2a7ab\"></div>\n",
              "<script type=\"text/javascript\">\n",
              "  var VEGA_DEBUG = (typeof VEGA_DEBUG == \"undefined\") ? {} : VEGA_DEBUG;\n",
              "  (function(spec, embedOpt){\n",
              "    let outputDiv = document.currentScript.previousElementSibling;\n",
              "    if (outputDiv.id !== \"altair-viz-9403fb9b0d6342339cd8b8c245d2a7ab\") {\n",
              "      outputDiv = document.getElementById(\"altair-viz-9403fb9b0d6342339cd8b8c245d2a7ab\");\n",
              "    }\n",
              "    const paths = {\n",
              "      \"vega\": \"https://cdn.jsdelivr.net/npm//vega@5?noext\",\n",
              "      \"vega-lib\": \"https://cdn.jsdelivr.net/npm//vega-lib?noext\",\n",
              "      \"vega-lite\": \"https://cdn.jsdelivr.net/npm//vega-lite@4.17.0?noext\",\n",
              "      \"vega-embed\": \"https://cdn.jsdelivr.net/npm//vega-embed@6?noext\",\n",
              "    };\n",
              "\n",
              "    function maybeLoadScript(lib, version) {\n",
              "      var key = `${lib.replace(\"-\", \"\")}_version`;\n",
              "      return (VEGA_DEBUG[key] == version) ?\n",
              "        Promise.resolve(paths[lib]) :\n",
              "        new Promise(function(resolve, reject) {\n",
              "          var s = document.createElement('script');\n",
              "          document.getElementsByTagName(\"head\")[0].appendChild(s);\n",
              "          s.async = true;\n",
              "          s.onload = () => {\n",
              "            VEGA_DEBUG[key] = version;\n",
              "            return resolve(paths[lib]);\n",
              "          };\n",
              "          s.onerror = () => reject(`Error loading script: ${paths[lib]}`);\n",
              "          s.src = paths[lib];\n",
              "        });\n",
              "    }\n",
              "\n",
              "    function showError(err) {\n",
              "      outputDiv.innerHTML = `<div class=\"error\" style=\"color:red;\">${err}</div>`;\n",
              "      throw err;\n",
              "    }\n",
              "\n",
              "    function displayChart(vegaEmbed) {\n",
              "      vegaEmbed(outputDiv, spec, embedOpt)\n",
              "        .catch(err => showError(`Javascript Error: ${err.message}<br>This usually means there's a typo in your chart specification. See the javascript console for the full traceback.`));\n",
              "    }\n",
              "\n",
              "    if(typeof define === \"function\" && define.amd) {\n",
              "      requirejs.config({paths});\n",
              "      require([\"vega-embed\"], displayChart, err => showError(`Error loading script: ${err.message}`));\n",
              "    } else {\n",
              "      maybeLoadScript(\"vega\", \"5\")\n",
              "        .then(() => maybeLoadScript(\"vega-lite\", \"4.17.0\"))\n",
              "        .then(() => maybeLoadScript(\"vega-embed\", \"6\"))\n",
              "        .catch(showError)\n",
              "        .then(() => displayChart(vegaEmbed));\n",
              "    }\n",
              "  })({\"config\": {\"view\": {\"continuousWidth\": 400, \"continuousHeight\": 300}, \"background\": \"#FFFFFF\"}, \"hconcat\": [{\"vconcat\": [{\"layer\": [{\"mark\": \"circle\", \"encoding\": {\"color\": {\"field\": \"kind\", \"type\": \"nominal\"}, \"size\": {\"condition\": {\"value\": 80, \"selection\": \"selector121\"}, \"value\": 30}, \"x\": {\"axis\": {\"title\": \"f [Hz]\"}, \"field\": \"f\", \"scale\": {\"nice\": false, \"type\": \"log\"}, \"type\": \"quantitative\"}, \"y\": {\"axis\": {\"title\": \"|Z| [\\u03a9]\"}, \"field\": \"mag\", \"type\": \"quantitative\"}}, \"height\": 175.0, \"selection\": {\"selector121\": {\"type\": \"single\", \"on\": \"mouseover\", \"nearest\": true, \"empty\": \"none\", \"fields\": [\"f\"]}, \"selector123\": {\"type\": \"interval\", \"bind\": \"scales\", \"encodings\": [\"x\", \"y\"]}}, \"transform\": [{\"calculate\": \"sqrt(pow(datum.z_real,2) + pow(datum.z_imag,2))\", \"as\": \"mag\"}, {\"calculate\": \"-(180/PI)*atan(datum.z_imag/datum.z_real)\", \"as\": \"neg_phase\"}], \"width\": 400}]}, {\"layer\": [{\"mark\": \"circle\", \"encoding\": {\"color\": {\"field\": \"kind\", \"type\": \"nominal\"}, \"size\": {\"condition\": {\"value\": 80, \"selection\": \"selector121\"}, \"value\": 30}, \"x\": {\"axis\": {\"title\": \"f [Hz]\"}, \"field\": \"f\", \"scale\": {\"nice\": false, \"type\": \"log\"}, \"type\": \"quantitative\"}, \"y\": {\"axis\": {\"title\": \"-\\u03d5 [\\u00b0]\"}, \"field\": \"neg_phase\", \"type\": \"quantitative\"}}, \"height\": 175.0, \"selection\": {\"selector121\": {\"type\": \"single\", \"on\": \"mouseover\", \"nearest\": true, \"empty\": \"none\", \"fields\": [\"f\"]}, \"selector123\": {\"type\": \"interval\", \"bind\": \"scales\", \"encodings\": [\"x\", \"y\"]}}, \"transform\": [{\"calculate\": \"sqrt(pow(datum.z_real,2) + pow(datum.z_imag,2))\", \"as\": \"mag\"}, {\"calculate\": \"-(180/PI)*atan(datum.z_imag/datum.z_real)\", \"as\": \"neg_phase\"}], \"width\": 400}]}]}, {\"layer\": [{\"mark\": \"circle\", \"encoding\": {\"color\": {\"field\": \"kind\", \"legend\": {\"title\": \"Legend\"}, \"type\": \"nominal\"}, \"size\": {\"condition\": {\"value\": 80, \"selection\": \"selector121\"}, \"value\": 30}, \"x\": {\"axis\": {\"title\": \"Z' [\\u03a9]\"}, \"field\": \"z_real\", \"scale\": {\"domain\": [15.000945180127301, 194.9866769012517], \"nice\": false, \"padding\": 5}, \"type\": \"quantitative\"}, \"y\": {\"axis\": {\"title\": \"-Z'' [\\u03a9]\"}, \"field\": \"neg_z_imag\", \"scale\": {\"domain\": [-6.161267064367707, 173.8244646567567], \"nice\": false, \"padding\": 5}, \"type\": \"quantitative\"}}, \"height\": 400, \"selection\": {\"selector121\": {\"type\": \"single\", \"on\": \"mouseover\", \"nearest\": true, \"empty\": \"none\", \"fields\": [\"f\"]}, \"selector122\": {\"type\": \"interval\", \"bind\": \"scales\", \"encodings\": [\"x\", \"y\"]}}, \"transform\": [{\"calculate\": \"-datum.z_imag\", \"as\": \"neg_z_imag\"}], \"width\": 400}]}], \"data\": {\"name\": \"data-fcc0a6092cf28b75b6efffe2dffa0c8e\"}, \"$schema\": \"https://vega.github.io/schema/vega-lite/v4.17.0.json\", \"datasets\": {\"data-fcc0a6092cf28b75b6efffe2dffa0c8e\": [{\"f\": 0.001, \"z_real\": 194.9866769012517, \"z_imag\": -107.51946262409825, \"kind\": \"data\", \"fmt\": \"o\"}, {\"f\": 0.0012328467394420659, \"z_real\": 194.97975100958385, \"z_imag\": -87.80949082216326, \"kind\": \"data\", \"fmt\": \"o\"}, {\"f\": 0.0015199110829529332, \"z_real\": 194.9692254948385, \"z_imag\": -71.96108157071737, \"kind\": \"data\", \"fmt\": \"o\"}, {\"f\": 0.001873817422860383, \"z_real\": 194.95323047704693, \"z_imag\": -59.2771856639157, \"kind\": \"data\", \"fmt\": \"o\"}, {\"f\": 0.0023101297000831605, \"z_real\": 194.92892600473746, \"z_imag\": -49.19985631750621, \"kind\": \"data\", \"fmt\": \"o\"}, {\"f\": 0.002848035868435802, \"z_real\": 194.8920004510698, \"z_imag\": -41.28565518584848, \"kind\": \"data\", \"fmt\": \"o\"}, {\"f\": 0.003511191734215131, \"z_real\": 194.83591170960358, \"z_imag\": -35.18604473951657, \"kind\": \"data\", \"fmt\": \"o\"}, {\"f\": 0.004328761281083057, \"z_real\": 194.75074214555136, \"z_imag\": -30.631861918100793, \"kind\": \"data\", \"fmt\": \"o\"}, {\"f\": 0.005336699231206312, \"z_real\": 194.62147723224135, \"z_imag\": -27.42111082679892, \"kind\": \"data\", \"fmt\": \"o\"}, {\"f\": 0.006579332246575682, \"z_real\": 194.42543283939386, \"z_imag\": -25.40939095833893, \"kind\": \"data\", \"fmt\": \"o\"}, {\"f\": 0.008111308307896872, \"z_real\": 194.12844461769055, \"z_imag\": -24.5022712131357, \"kind\": \"data\", \"fmt\": \"o\"}, {\"f\": 0.01, \"z_real\": 193.67930278593468, \"z_imag\": -24.64878763820978, \"kind\": \"data\", \"fmt\": \"o\"}, {\"f\": 0.012328467394420659, \"z_real\": 193.00180423724882, \"z_imag\": -25.83491395818993, \"kind\": \"data\", \"fmt\": \"o\"}, {\"f\": 0.01519911082952934, \"z_real\": 191.98380892610163, \"z_imag\": -28.075225716592975, \"kind\": \"data\", \"fmt\": \"o\"}, {\"f\": 0.01873817422860384, \"z_real\": 190.46308589686555, \"z_imag\": -31.39994098805809, \"kind\": \"data\", \"fmt\": \"o\"}, {\"f\": 0.023101297000831605, \"z_real\": 188.211046891497, \"z_imag\": -35.833073027157695, \"kind\": \"data\", \"fmt\": \"o\"}, {\"f\": 0.02848035868435802, \"z_real\": 184.9186083562819, \"z_imag\": -41.35602703945921, \"kind\": \"data\", \"fmt\": \"o\"}, {\"f\": 0.03511191734215131, \"z_real\": 180.19450064540283, \"z_imag\": -47.85127688589378, \"kind\": \"data\", \"fmt\": \"o\"}, {\"f\": 0.04328761281083059, \"z_real\": 173.59532105907573, \"z_imag\": -55.02669806655683, \"kind\": \"data\", \"fmt\": \"o\"}, {\"f\": 0.0533669923120631, \"z_real\": 164.7136151622365, \"z_imag\": -62.33871044503764, \"kind\": \"data\", \"fmt\": \"o\"}, {\"f\": 0.06579332246575682, \"z_real\": 153.3403316692701, \"z_imag\": -68.96348394673821, \"kind\": \"data\", \"fmt\": \"o\"}, {\"f\": 0.08111308307896872, \"z_real\": 139.6698671519911, \"z_imag\": -73.8911537732338, \"kind\": \"data\", \"fmt\": \"o\"}, {\"f\": 0.1, \"z_real\": 124.43486629401542, \"z_imag\": -76.18718080876435, \"kind\": \"data\", \"fmt\": \"o\"}, {\"f\": 0.12328467394420659, \"z_real\": 108.82273046658814, \"z_imag\": -75.34132751636051, \"kind\": \"data\", \"fmt\": \"o\"}, {\"f\": 0.1519911082952933, \"z_real\": 94.14070110157769, \"z_imag\": -71.49314624073168, \"kind\": \"data\", \"fmt\": \"o\"}, {\"f\": 0.1873817422860385, \"z_real\": 81.40668834957542, \"z_imag\": -65.36364381480927, \"kind\": \"data\", \"fmt\": \"o\"}, {\"f\": 0.23101297000831605, \"z_real\": 71.11372196836292, \"z_imag\": -57.946626638494784, \"kind\": \"data\", \"fmt\": \"o\"}, {\"f\": 0.2848035868435802, \"z_real\": 63.255949025384695, \"z_imag\": -50.17688839587787, \"kind\": \"data\", \"fmt\": \"o\"}, {\"f\": 0.3511191734215131, \"z_real\": 57.512405692963505, \"z_imag\": -42.740056196296784, \"kind\": \"data\", \"fmt\": \"o\"}, {\"f\": 0.4328761281083057, \"z_real\": 53.442175662834174, \"z_imag\": -36.040127735043264, \"kind\": \"data\", \"fmt\": \"o\"}, {\"f\": 0.5336699231206312, \"z_real\": 50.61417812179482, \"z_imag\": -30.256303517588844, \"kind\": \"data\", \"fmt\": \"o\"}, {\"f\": 0.6579332246575682, \"z_real\": 48.66624308970266, \"z_imag\": -25.421906527632874, \"kind\": \"data\", \"fmt\": \"o\"}, {\"f\": 0.8111308307896873, \"z_real\": 47.31755761740669, \"z_imag\": -21.49067105037391, \"kind\": \"data\", \"fmt\": \"o\"}, {\"f\": 1.0, \"z_real\": 46.35857466151338, \"z_imag\": -18.381443258866533, \"kind\": \"data\", \"fmt\": \"o\"}, {\"f\": 1.232846739442066, \"z_real\": 45.63349583867988, \"z_imag\": -16.004000850083095, \"kind\": \"data\", \"fmt\": \"o\"}, {\"f\": 1.5199110829529348, \"z_real\": 45.022612118626206, \"z_imag\": -14.271345246738827, \"kind\": \"data\", \"fmt\": \"o\"}, {\"f\": 1.873817422860385, \"z_real\": 44.427346725276394, \"z_imag\": -13.102819812147363, \"kind\": \"data\", \"fmt\": \"o\"}, {\"f\": 2.31012970008316, \"z_real\": 43.759182365355656, \"z_imag\": -12.420695117431078, \"kind\": \"data\", \"fmt\": \"o\"}, {\"f\": 2.848035868435802, \"z_real\": 42.93380257775609, \"z_imag\": -12.14176979590118, \"kind\": \"data\", \"fmt\": \"o\"}, {\"f\": 3.511191734215131, \"z_real\": 41.872822471273025, \"z_imag\": -12.165907523487054, \"kind\": \"data\", \"fmt\": \"o\"}, {\"f\": 4.328761281083062, \"z_real\": 40.51594702396593, \"z_imag\": -12.365954619241865, \"kind\": \"data\", \"fmt\": \"o\"}, {\"f\": 5.336699231206313, \"z_real\": 38.84357962310749, \"z_imag\": -12.587576505131363, \"kind\": \"data\", \"fmt\": \"o\"}, {\"f\": 6.5793322465756825, \"z_real\": 36.901454413557154, \"z_imag\": -12.668939799721414, \"kind\": \"data\", \"fmt\": \"o\"}, {\"f\": 8.111308307896872, \"z_real\": 34.80864617584776, \"z_imag\": -12.481332678604907, \"kind\": \"data\", \"fmt\": \"o\"}, {\"f\": 10.0, \"z_real\": 32.73209452198905, \"z_imag\": -11.972398784935244, \"kind\": \"data\", \"fmt\": \"o\"}, {\"f\": 12.32846739442066, \"z_real\": 30.833561791036814, \"z_imag\": -11.182175049171661, \"kind\": \"data\", \"fmt\": \"o\"}, {\"f\": 15.199110829529332, \"z_real\": 29.219849706972788, \"z_imag\": -10.218794299101349, \"kind\": \"data\", \"fmt\": \"o\"}, {\"f\": 18.73817422860383, \"z_real\": 27.92401853600506, \"z_imag\": -9.211961765386352, \"kind\": \"data\", \"fmt\": \"o\"}, {\"f\": 23.10129700083158, \"z_real\": 26.91830771869299, \"z_imag\": -8.27357163816063, \"kind\": \"data\", \"fmt\": \"o\"}, {\"f\": 28.48035868435805, \"z_real\": 26.140141255261543, \"z_imag\": -7.479861809511618, \"kind\": \"data\", \"fmt\": \"o\"}, {\"f\": 35.111917342151344, \"z_real\": 25.51436945575832, \"z_imag\": -6.871167493828395, \"kind\": \"data\", \"fmt\": \"o\"}, {\"f\": 43.287612810830616, \"z_real\": 24.965907366901316, \"z_imag\": -6.458837718215585, \"kind\": \"data\", \"fmt\": \"o\"}, {\"f\": 53.366992312063125, \"z_real\": 24.424899421650554, \"z_imag\": -6.231522172284725, \"kind\": \"data\", \"fmt\": \"o\"}, {\"f\": 65.79332246575683, \"z_real\": 23.829245597475857, \"z_imag\": -6.157804176991362, \"kind\": \"data\", \"fmt\": \"o\"}, {\"f\": 81.11308307896873, \"z_real\": 23.12905624873248, \"z_imag\": -6.186102075432206, \"kind\": \"data\", \"fmt\": \"o\"}, {\"f\": 100.0, \"z_real\": 22.295591377113766, \"z_imag\": -6.2458941603175955, \"kind\": \"data\", \"fmt\": \"o\"}, {\"f\": 123.28467394420659, \"z_real\": 21.332949674117128, \"z_imag\": -6.256046223048672, \"kind\": \"data\", \"fmt\": \"o\"}, {\"f\": 151.99110829529332, \"z_real\": 20.284865920214866, \"z_imag\": -6.143428798826358, \"kind\": \"data\", \"fmt\": \"o\"}, {\"f\": 187.3817422860383, \"z_real\": 19.226882635105902, \"z_imag\": -5.866247785129018, \"kind\": \"data\", \"fmt\": \"o\"}, {\"f\": 231.01297000831627, \"z_real\": 18.242435705462224, \"z_imag\": -5.427963687119661, \"kind\": \"data\", \"fmt\": \"o\"}, {\"f\": 284.8035868435805, \"z_real\": 17.39531960883821, \"z_imag\": -4.871257713062315, \"kind\": \"data\", \"fmt\": \"o\"}, {\"f\": 351.11917342151344, \"z_real\": 16.714705877334342, \"z_imag\": -4.256680378126834, \"kind\": \"data\", \"fmt\": \"o\"}, {\"f\": 432.87612810830615, \"z_real\": 16.197591588907834, \"z_imag\": -3.6406929172062226, \"kind\": \"data\", \"fmt\": \"o\"}, {\"f\": 533.6699231206312, \"z_real\": 15.821205747161146, \"z_imag\": -3.0635242437647703, \"kind\": \"data\", \"fmt\": \"o\"}, {\"f\": 657.9332246575682, \"z_real\": 15.555743738393865, \"z_imag\": -2.5473706081824457, \"kind\": \"data\", \"fmt\": \"o\"}, {\"f\": 811.1308307896873, \"z_real\": 15.372653080839155, \"z_imag\": -2.100245652003992, \"kind\": \"data\", \"fmt\": \"o\"}, {\"f\": 1000.0, \"z_real\": 15.248314230900725, \"z_imag\": -1.7211142387127794, \"kind\": \"data\", \"fmt\": \"o\"}, {\"f\": 1232.8467394420659, \"z_real\": 15.164760216947291, \"z_imag\": -1.4041324068816061, \"kind\": \"data\", \"fmt\": \"o\"}, {\"f\": 1519.9110829529332, \"z_real\": 15.1090105447487, \"z_imag\": -1.1414778016935736, \"kind\": \"data\", \"fmt\": \"o\"}, {\"f\": 1873.817422860383, \"z_real\": 15.071989140800454, \"z_imag\": -0.9249898948819189, \"kind\": \"data\", \"fmt\": \"o\"}, {\"f\": 2310.129700083163, \"z_real\": 15.047482444847248, \"z_imag\": -0.7470031299388424, \"kind\": \"data\", \"fmt\": \"o\"}, {\"f\": 2848.035868435805, \"z_real\": 15.031294620059269, \"z_imag\": -0.6006965100652042, \"kind\": \"data\", \"fmt\": \"o\"}, {\"f\": 3511.1917342151346, \"z_real\": 15.020617739061512, \"z_imag\": -0.48017879207096364, \"kind\": \"data\", \"fmt\": \"o\"}, {\"f\": 4328.7612810830615, \"z_real\": 15.013583886998699, \"z_imag\": -0.3804417462647974, \"kind\": \"data\", \"fmt\": \"o\"}, {\"f\": 5336.699231206313, \"z_real\": 15.008955564062111, \"z_imag\": -0.29725566655608454, \"kind\": \"data\", \"fmt\": \"o\"}, {\"f\": 6579.332246575683, \"z_real\": 15.005915477952186, \"z_imag\": -0.22704600540626987, \"kind\": \"data\", \"fmt\": \"o\"}, {\"f\": 8111.308307896872, \"z_real\": 15.00392549391897, \"z_imag\": -0.16676991587600162, \"kind\": \"data\", \"fmt\": \"o\"}, {\"f\": 10000.0, \"z_real\": 15.002632799802315, \"z_imag\": -0.1138005522957977, \"kind\": \"data\", \"fmt\": \"o\"}, {\"f\": 12328.467394420659, \"z_real\": 15.001807971684105, \"z_imag\": -0.06582125846516217, \"kind\": \"data\", \"fmt\": \"o\"}, {\"f\": 15199.11082952933, \"z_real\": 15.001304523917813, \"z_imag\": -0.020728888508058325, \"kind\": \"data\", \"fmt\": \"o\"}, {\"f\": 18738.174228603868, \"z_real\": 15.0010330098605, \"z_imag\": 0.02345589225200108, \"kind\": \"data\", \"fmt\": \"o\"}, {\"f\": 23101.297000831626, \"z_real\": 15.000945180127301, \"z_imag\": 0.06867414063260677, \"kind\": \"data\", \"fmt\": \"o\"}, {\"f\": 28480.35868435805, \"z_real\": 15.001025429815778, \"z_imag\": 0.11691315071991056, \"kind\": \"data\", \"fmt\": \"o\"}, {\"f\": 35111.91734215135, \"z_real\": 15.001288034489344, \"z_imag\": 0.17029332296909117, \"kind\": \"data\", \"fmt\": \"o\"}, {\"f\": 43287.612810830615, \"z_real\": 15.001779691688439, \"z_imag\": 0.2311609930414699, \"kind\": \"data\", \"fmt\": \"o\"}, {\"f\": 53366.99231206313, \"z_real\": 15.002587821954661, \"z_imag\": 0.3021911312642115, \"kind\": \"data\", \"fmt\": \"o\"}, {\"f\": 65793.32246575682, \"z_real\": 15.00385610278474, \"z_imag\": 0.3865042309981228, \"kind\": \"data\", \"fmt\": \"o\"}, {\"f\": 81113.08307896872, \"z_real\": 15.00580998826847, \"z_imag\": 0.4878022209026953, \"kind\": \"data\", \"fmt\": \"o\"}, {\"f\": 100000.0, \"z_real\": 15.008796728737378, \"z_imag\": 0.6105288412698028, \"kind\": \"data\", \"fmt\": \"o\"}, {\"f\": 123284.67394420685, \"z_real\": 15.0133469512237, \"z_imag\": 0.7600605511235194, \"kind\": \"data\", \"fmt\": \"o\"}, {\"f\": 151991.10829529332, \"z_real\": 15.020268621875644, \"z_imag\": 0.9429345267255709, \"kind\": \"data\", \"fmt\": \"o\"}, {\"f\": 187381.74228603867, \"z_real\": 15.030789799644934, \"z_imag\": 1.1671203539799109, \"kind\": \"data\", \"fmt\": \"o\"}, {\"f\": 231012.9700083158, \"z_real\": 15.046774874425036, \"z_imag\": 1.4423409743268414, \"kind\": \"data\", \"fmt\": \"o\"}, {\"f\": 284803.5868435805, \"z_real\": 15.071051146586543, \"z_imag\": 1.780445099453185, \"kind\": \"data\", \"fmt\": \"o\"}, {\"f\": 351119.17342151277, \"z_real\": 15.10790015076555, \"z_imag\": 2.195825377500272, \"kind\": \"data\", \"fmt\": \"o\"}, {\"f\": 432876.12810830615, \"z_real\": 15.163792671353491, \"z_imag\": 2.705859866402568, \"kind\": \"data\", \"fmt\": \"o\"}, {\"f\": 533669.9231206302, \"z_real\": 15.248478911609059, \"z_imag\": 3.3313213131990382, \"kind\": \"data\", \"fmt\": \"o\"}, {\"f\": 657933.2246575683, \"z_real\": 15.376583981573855, \"z_imag\": 4.096636342806366, \"kind\": \"data\", \"fmt\": \"o\"}, {\"f\": 811130.8307896889, \"z_real\": 15.569894117554256, \"z_imag\": 5.029763770804692, \"kind\": \"data\", \"fmt\": \"o\"}, {\"f\": 1000000.0, \"z_real\": 15.86052210699022, \"z_imag\": 6.161267064367707, \"kind\": \"data\", \"fmt\": \"o\"}]}}, {\"mode\": \"vega-lite\"});\n",
              "</script>"
            ],
            "text/plain": [
              "alt.HConcatChart(...)"
            ]
          },
          "metadata": {},
          "execution_count": 46
        }
      ]
    },
    {
      "cell_type": "code",
      "source": [
        "# R circuit\n",
        "circuit = 'R0'\n",
        "initial_guess = [1]\n",
        "\n",
        "# Creating the circuit\n",
        "circuit = CustomCircuit(circuit, initial_guess=initial_guess)\n",
        "\n",
        "# Defining 100 frequency points between 1mHz to 1MHz\n",
        "frequencies = np.logspace(-3,6,100)\n",
        "\n",
        "# Calculating total Impedance of circuit for all frequencies\n",
        "Z_fit = circuit.predict(frequencies)\n",
        "\n",
        "# Showing the circuit, plots\n",
        "print(circuit)\n",
        "circuit.plot(f_data=frequencies, Z_data=Z_fit, kind='altair')"
      ],
      "metadata": {
        "colab": {
          "base_uri": "https://localhost:8080/",
          "height": 597
        },
        "id": "GfTQoH2wAfbZ",
        "outputId": "ec1c94c0-ea9d-4549-ae0b-ab4f54f0cbdc"
      },
      "execution_count": 48,
      "outputs": [
        {
          "output_type": "stream",
          "name": "stdout",
          "text": [
            "\n",
            "Circuit string: R0\n",
            "Fit: False\n",
            "\n",
            "Initial guesses:\n",
            "     R0 = 1.00e+00 [Ohm]\n",
            "\n"
          ]
        },
        {
          "output_type": "execute_result",
          "data": {
            "text/html": [
              "\n",
              "<div id=\"altair-viz-997c1729622d4b63addd4e4f0f928cf9\"></div>\n",
              "<script type=\"text/javascript\">\n",
              "  var VEGA_DEBUG = (typeof VEGA_DEBUG == \"undefined\") ? {} : VEGA_DEBUG;\n",
              "  (function(spec, embedOpt){\n",
              "    let outputDiv = document.currentScript.previousElementSibling;\n",
              "    if (outputDiv.id !== \"altair-viz-997c1729622d4b63addd4e4f0f928cf9\") {\n",
              "      outputDiv = document.getElementById(\"altair-viz-997c1729622d4b63addd4e4f0f928cf9\");\n",
              "    }\n",
              "    const paths = {\n",
              "      \"vega\": \"https://cdn.jsdelivr.net/npm//vega@5?noext\",\n",
              "      \"vega-lib\": \"https://cdn.jsdelivr.net/npm//vega-lib?noext\",\n",
              "      \"vega-lite\": \"https://cdn.jsdelivr.net/npm//vega-lite@4.17.0?noext\",\n",
              "      \"vega-embed\": \"https://cdn.jsdelivr.net/npm//vega-embed@6?noext\",\n",
              "    };\n",
              "\n",
              "    function maybeLoadScript(lib, version) {\n",
              "      var key = `${lib.replace(\"-\", \"\")}_version`;\n",
              "      return (VEGA_DEBUG[key] == version) ?\n",
              "        Promise.resolve(paths[lib]) :\n",
              "        new Promise(function(resolve, reject) {\n",
              "          var s = document.createElement('script');\n",
              "          document.getElementsByTagName(\"head\")[0].appendChild(s);\n",
              "          s.async = true;\n",
              "          s.onload = () => {\n",
              "            VEGA_DEBUG[key] = version;\n",
              "            return resolve(paths[lib]);\n",
              "          };\n",
              "          s.onerror = () => reject(`Error loading script: ${paths[lib]}`);\n",
              "          s.src = paths[lib];\n",
              "        });\n",
              "    }\n",
              "\n",
              "    function showError(err) {\n",
              "      outputDiv.innerHTML = `<div class=\"error\" style=\"color:red;\">${err}</div>`;\n",
              "      throw err;\n",
              "    }\n",
              "\n",
              "    function displayChart(vegaEmbed) {\n",
              "      vegaEmbed(outputDiv, spec, embedOpt)\n",
              "        .catch(err => showError(`Javascript Error: ${err.message}<br>This usually means there's a typo in your chart specification. See the javascript console for the full traceback.`));\n",
              "    }\n",
              "\n",
              "    if(typeof define === \"function\" && define.amd) {\n",
              "      requirejs.config({paths});\n",
              "      require([\"vega-embed\"], displayChart, err => showError(`Error loading script: ${err.message}`));\n",
              "    } else {\n",
              "      maybeLoadScript(\"vega\", \"5\")\n",
              "        .then(() => maybeLoadScript(\"vega-lite\", \"4.17.0\"))\n",
              "        .then(() => maybeLoadScript(\"vega-embed\", \"6\"))\n",
              "        .catch(showError)\n",
              "        .then(() => displayChart(vegaEmbed));\n",
              "    }\n",
              "  })({\"config\": {\"view\": {\"continuousWidth\": 400, \"continuousHeight\": 300}, \"background\": \"#FFFFFF\"}, \"hconcat\": [{\"vconcat\": [{\"layer\": [{\"mark\": \"circle\", \"encoding\": {\"color\": {\"field\": \"kind\", \"type\": \"nominal\"}, \"size\": {\"condition\": {\"value\": 80, \"selection\": \"selector127\"}, \"value\": 30}, \"x\": {\"axis\": {\"title\": \"f [Hz]\"}, \"field\": \"f\", \"scale\": {\"nice\": false, \"type\": \"log\"}, \"type\": \"quantitative\"}, \"y\": {\"axis\": {\"title\": \"|Z| [\\u03a9]\"}, \"field\": \"mag\", \"type\": \"quantitative\"}}, \"height\": 175.0, \"selection\": {\"selector127\": {\"type\": \"single\", \"on\": \"mouseover\", \"nearest\": true, \"empty\": \"none\", \"fields\": [\"f\"]}, \"selector129\": {\"type\": \"interval\", \"bind\": \"scales\", \"encodings\": [\"x\", \"y\"]}}, \"transform\": [{\"calculate\": \"sqrt(pow(datum.z_real,2) + pow(datum.z_imag,2))\", \"as\": \"mag\"}, {\"calculate\": \"-(180/PI)*atan(datum.z_imag/datum.z_real)\", \"as\": \"neg_phase\"}], \"width\": 400}]}, {\"layer\": [{\"mark\": \"circle\", \"encoding\": {\"color\": {\"field\": \"kind\", \"type\": \"nominal\"}, \"size\": {\"condition\": {\"value\": 80, \"selection\": \"selector127\"}, \"value\": 30}, \"x\": {\"axis\": {\"title\": \"f [Hz]\"}, \"field\": \"f\", \"scale\": {\"nice\": false, \"type\": \"log\"}, \"type\": \"quantitative\"}, \"y\": {\"axis\": {\"title\": \"-\\u03d5 [\\u00b0]\"}, \"field\": \"neg_phase\", \"type\": \"quantitative\"}}, \"height\": 175.0, \"selection\": {\"selector127\": {\"type\": \"single\", \"on\": \"mouseover\", \"nearest\": true, \"empty\": \"none\", \"fields\": [\"f\"]}, \"selector129\": {\"type\": \"interval\", \"bind\": \"scales\", \"encodings\": [\"x\", \"y\"]}}, \"transform\": [{\"calculate\": \"sqrt(pow(datum.z_real,2) + pow(datum.z_imag,2))\", \"as\": \"mag\"}, {\"calculate\": \"-(180/PI)*atan(datum.z_imag/datum.z_real)\", \"as\": \"neg_phase\"}], \"width\": 400}]}]}, {\"layer\": [{\"mark\": \"circle\", \"encoding\": {\"color\": {\"field\": \"kind\", \"legend\": {\"title\": \"Legend\"}, \"type\": \"nominal\"}, \"size\": {\"condition\": {\"value\": 80, \"selection\": \"selector127\"}, \"value\": 30}, \"x\": {\"axis\": {\"title\": \"Z' [\\u03a9]\"}, \"field\": \"z_real\", \"scale\": {\"domain\": [1, 1], \"nice\": false, \"padding\": 5}, \"type\": \"quantitative\"}, \"y\": {\"axis\": {\"title\": \"-Z'' [\\u03a9]\"}, \"field\": \"neg_z_imag\", \"scale\": {\"domain\": [0, 0], \"nice\": false, \"padding\": 5}, \"type\": \"quantitative\"}}, \"height\": 400, \"selection\": {\"selector127\": {\"type\": \"single\", \"on\": \"mouseover\", \"nearest\": true, \"empty\": \"none\", \"fields\": [\"f\"]}, \"selector128\": {\"type\": \"interval\", \"bind\": \"scales\", \"encodings\": [\"x\", \"y\"]}}, \"transform\": [{\"calculate\": \"-datum.z_imag\", \"as\": \"neg_z_imag\"}], \"width\": 400}]}], \"data\": {\"name\": \"data-a3a61c7d7afb6c7d908c66ca55eb5ffe\"}, \"$schema\": \"https://vega.github.io/schema/vega-lite/v4.17.0.json\", \"datasets\": {\"data-a3a61c7d7afb6c7d908c66ca55eb5ffe\": [{\"f\": 0.001, \"z_real\": 1, \"z_imag\": 0, \"kind\": \"data\", \"fmt\": \"o\"}, {\"f\": 0.0012328467394420659, \"z_real\": 1, \"z_imag\": 0, \"kind\": \"data\", \"fmt\": \"o\"}, {\"f\": 0.0015199110829529332, \"z_real\": 1, \"z_imag\": 0, \"kind\": \"data\", \"fmt\": \"o\"}, {\"f\": 0.001873817422860383, \"z_real\": 1, \"z_imag\": 0, \"kind\": \"data\", \"fmt\": \"o\"}, {\"f\": 0.0023101297000831605, \"z_real\": 1, \"z_imag\": 0, \"kind\": \"data\", \"fmt\": \"o\"}, {\"f\": 0.002848035868435802, \"z_real\": 1, \"z_imag\": 0, \"kind\": \"data\", \"fmt\": \"o\"}, {\"f\": 0.003511191734215131, \"z_real\": 1, \"z_imag\": 0, \"kind\": \"data\", \"fmt\": \"o\"}, {\"f\": 0.004328761281083057, \"z_real\": 1, \"z_imag\": 0, \"kind\": \"data\", \"fmt\": \"o\"}, {\"f\": 0.005336699231206312, \"z_real\": 1, \"z_imag\": 0, \"kind\": \"data\", \"fmt\": \"o\"}, {\"f\": 0.006579332246575682, \"z_real\": 1, \"z_imag\": 0, \"kind\": \"data\", \"fmt\": \"o\"}, {\"f\": 0.008111308307896872, \"z_real\": 1, \"z_imag\": 0, \"kind\": \"data\", \"fmt\": \"o\"}, {\"f\": 0.01, \"z_real\": 1, \"z_imag\": 0, \"kind\": \"data\", \"fmt\": \"o\"}, {\"f\": 0.012328467394420659, \"z_real\": 1, \"z_imag\": 0, \"kind\": \"data\", \"fmt\": \"o\"}, {\"f\": 0.01519911082952934, \"z_real\": 1, \"z_imag\": 0, \"kind\": \"data\", \"fmt\": \"o\"}, {\"f\": 0.01873817422860384, \"z_real\": 1, \"z_imag\": 0, \"kind\": \"data\", \"fmt\": \"o\"}, {\"f\": 0.023101297000831605, \"z_real\": 1, \"z_imag\": 0, \"kind\": \"data\", \"fmt\": \"o\"}, {\"f\": 0.02848035868435802, \"z_real\": 1, \"z_imag\": 0, \"kind\": \"data\", \"fmt\": \"o\"}, {\"f\": 0.03511191734215131, \"z_real\": 1, \"z_imag\": 0, \"kind\": \"data\", \"fmt\": \"o\"}, {\"f\": 0.04328761281083059, \"z_real\": 1, \"z_imag\": 0, \"kind\": \"data\", \"fmt\": \"o\"}, {\"f\": 0.0533669923120631, \"z_real\": 1, \"z_imag\": 0, \"kind\": \"data\", \"fmt\": \"o\"}, {\"f\": 0.06579332246575682, \"z_real\": 1, \"z_imag\": 0, \"kind\": \"data\", \"fmt\": \"o\"}, {\"f\": 0.08111308307896872, \"z_real\": 1, \"z_imag\": 0, \"kind\": \"data\", \"fmt\": \"o\"}, {\"f\": 0.1, \"z_real\": 1, \"z_imag\": 0, \"kind\": \"data\", \"fmt\": \"o\"}, {\"f\": 0.12328467394420659, \"z_real\": 1, \"z_imag\": 0, \"kind\": \"data\", \"fmt\": \"o\"}, {\"f\": 0.1519911082952933, \"z_real\": 1, \"z_imag\": 0, \"kind\": \"data\", \"fmt\": \"o\"}, {\"f\": 0.1873817422860385, \"z_real\": 1, \"z_imag\": 0, \"kind\": \"data\", \"fmt\": \"o\"}, {\"f\": 0.23101297000831605, \"z_real\": 1, \"z_imag\": 0, \"kind\": \"data\", \"fmt\": \"o\"}, {\"f\": 0.2848035868435802, \"z_real\": 1, \"z_imag\": 0, \"kind\": \"data\", \"fmt\": \"o\"}, {\"f\": 0.3511191734215131, \"z_real\": 1, \"z_imag\": 0, \"kind\": \"data\", \"fmt\": \"o\"}, {\"f\": 0.4328761281083057, \"z_real\": 1, \"z_imag\": 0, \"kind\": \"data\", \"fmt\": \"o\"}, {\"f\": 0.5336699231206312, \"z_real\": 1, \"z_imag\": 0, \"kind\": \"data\", \"fmt\": \"o\"}, {\"f\": 0.6579332246575682, \"z_real\": 1, \"z_imag\": 0, \"kind\": \"data\", \"fmt\": \"o\"}, {\"f\": 0.8111308307896873, \"z_real\": 1, \"z_imag\": 0, \"kind\": \"data\", \"fmt\": \"o\"}, {\"f\": 1.0, \"z_real\": 1, \"z_imag\": 0, \"kind\": \"data\", \"fmt\": \"o\"}, {\"f\": 1.232846739442066, \"z_real\": 1, \"z_imag\": 0, \"kind\": \"data\", \"fmt\": \"o\"}, {\"f\": 1.5199110829529348, \"z_real\": 1, \"z_imag\": 0, \"kind\": \"data\", \"fmt\": \"o\"}, {\"f\": 1.873817422860385, \"z_real\": 1, \"z_imag\": 0, \"kind\": \"data\", \"fmt\": \"o\"}, {\"f\": 2.31012970008316, \"z_real\": 1, \"z_imag\": 0, \"kind\": \"data\", \"fmt\": \"o\"}, {\"f\": 2.848035868435802, \"z_real\": 1, \"z_imag\": 0, \"kind\": \"data\", \"fmt\": \"o\"}, {\"f\": 3.511191734215131, \"z_real\": 1, \"z_imag\": 0, \"kind\": \"data\", \"fmt\": \"o\"}, {\"f\": 4.328761281083062, \"z_real\": 1, \"z_imag\": 0, \"kind\": \"data\", \"fmt\": \"o\"}, {\"f\": 5.336699231206313, \"z_real\": 1, \"z_imag\": 0, \"kind\": \"data\", \"fmt\": \"o\"}, {\"f\": 6.5793322465756825, \"z_real\": 1, \"z_imag\": 0, \"kind\": \"data\", \"fmt\": \"o\"}, {\"f\": 8.111308307896872, \"z_real\": 1, \"z_imag\": 0, \"kind\": \"data\", \"fmt\": \"o\"}, {\"f\": 10.0, \"z_real\": 1, \"z_imag\": 0, \"kind\": \"data\", \"fmt\": \"o\"}, {\"f\": 12.32846739442066, \"z_real\": 1, \"z_imag\": 0, \"kind\": \"data\", \"fmt\": \"o\"}, {\"f\": 15.199110829529332, \"z_real\": 1, \"z_imag\": 0, \"kind\": \"data\", \"fmt\": \"o\"}, {\"f\": 18.73817422860383, \"z_real\": 1, \"z_imag\": 0, \"kind\": \"data\", \"fmt\": \"o\"}, {\"f\": 23.10129700083158, \"z_real\": 1, \"z_imag\": 0, \"kind\": \"data\", \"fmt\": \"o\"}, {\"f\": 28.48035868435805, \"z_real\": 1, \"z_imag\": 0, \"kind\": \"data\", \"fmt\": \"o\"}, {\"f\": 35.111917342151344, \"z_real\": 1, \"z_imag\": 0, \"kind\": \"data\", \"fmt\": \"o\"}, {\"f\": 43.287612810830616, \"z_real\": 1, \"z_imag\": 0, \"kind\": \"data\", \"fmt\": \"o\"}, {\"f\": 53.366992312063125, \"z_real\": 1, \"z_imag\": 0, \"kind\": \"data\", \"fmt\": \"o\"}, {\"f\": 65.79332246575683, \"z_real\": 1, \"z_imag\": 0, \"kind\": \"data\", \"fmt\": \"o\"}, {\"f\": 81.11308307896873, \"z_real\": 1, \"z_imag\": 0, \"kind\": \"data\", \"fmt\": \"o\"}, {\"f\": 100.0, \"z_real\": 1, \"z_imag\": 0, \"kind\": \"data\", \"fmt\": \"o\"}, {\"f\": 123.28467394420659, \"z_real\": 1, \"z_imag\": 0, \"kind\": \"data\", \"fmt\": \"o\"}, {\"f\": 151.99110829529332, \"z_real\": 1, \"z_imag\": 0, \"kind\": \"data\", \"fmt\": \"o\"}, {\"f\": 187.3817422860383, \"z_real\": 1, \"z_imag\": 0, \"kind\": \"data\", \"fmt\": \"o\"}, {\"f\": 231.01297000831627, \"z_real\": 1, \"z_imag\": 0, \"kind\": \"data\", \"fmt\": \"o\"}, {\"f\": 284.8035868435805, \"z_real\": 1, \"z_imag\": 0, \"kind\": \"data\", \"fmt\": \"o\"}, {\"f\": 351.11917342151344, \"z_real\": 1, \"z_imag\": 0, \"kind\": \"data\", \"fmt\": \"o\"}, {\"f\": 432.87612810830615, \"z_real\": 1, \"z_imag\": 0, \"kind\": \"data\", \"fmt\": \"o\"}, {\"f\": 533.6699231206312, \"z_real\": 1, \"z_imag\": 0, \"kind\": \"data\", \"fmt\": \"o\"}, {\"f\": 657.9332246575682, \"z_real\": 1, \"z_imag\": 0, \"kind\": \"data\", \"fmt\": \"o\"}, {\"f\": 811.1308307896873, \"z_real\": 1, \"z_imag\": 0, \"kind\": \"data\", \"fmt\": \"o\"}, {\"f\": 1000.0, \"z_real\": 1, \"z_imag\": 0, \"kind\": \"data\", \"fmt\": \"o\"}, {\"f\": 1232.8467394420659, \"z_real\": 1, \"z_imag\": 0, \"kind\": \"data\", \"fmt\": \"o\"}, {\"f\": 1519.9110829529332, \"z_real\": 1, \"z_imag\": 0, \"kind\": \"data\", \"fmt\": \"o\"}, {\"f\": 1873.817422860383, \"z_real\": 1, \"z_imag\": 0, \"kind\": \"data\", \"fmt\": \"o\"}, {\"f\": 2310.129700083163, \"z_real\": 1, \"z_imag\": 0, \"kind\": \"data\", \"fmt\": \"o\"}, {\"f\": 2848.035868435805, \"z_real\": 1, \"z_imag\": 0, \"kind\": \"data\", \"fmt\": \"o\"}, {\"f\": 3511.1917342151346, \"z_real\": 1, \"z_imag\": 0, \"kind\": \"data\", \"fmt\": \"o\"}, {\"f\": 4328.7612810830615, \"z_real\": 1, \"z_imag\": 0, \"kind\": \"data\", \"fmt\": \"o\"}, {\"f\": 5336.699231206313, \"z_real\": 1, \"z_imag\": 0, \"kind\": \"data\", \"fmt\": \"o\"}, {\"f\": 6579.332246575683, \"z_real\": 1, \"z_imag\": 0, \"kind\": \"data\", \"fmt\": \"o\"}, {\"f\": 8111.308307896872, \"z_real\": 1, \"z_imag\": 0, \"kind\": \"data\", \"fmt\": \"o\"}, {\"f\": 10000.0, \"z_real\": 1, \"z_imag\": 0, \"kind\": \"data\", \"fmt\": \"o\"}, {\"f\": 12328.467394420659, \"z_real\": 1, \"z_imag\": 0, \"kind\": \"data\", \"fmt\": \"o\"}, {\"f\": 15199.11082952933, \"z_real\": 1, \"z_imag\": 0, \"kind\": \"data\", \"fmt\": \"o\"}, {\"f\": 18738.174228603868, \"z_real\": 1, \"z_imag\": 0, \"kind\": \"data\", \"fmt\": \"o\"}, {\"f\": 23101.297000831626, \"z_real\": 1, \"z_imag\": 0, \"kind\": \"data\", \"fmt\": \"o\"}, {\"f\": 28480.35868435805, \"z_real\": 1, \"z_imag\": 0, \"kind\": \"data\", \"fmt\": \"o\"}, {\"f\": 35111.91734215135, \"z_real\": 1, \"z_imag\": 0, \"kind\": \"data\", \"fmt\": \"o\"}, {\"f\": 43287.612810830615, \"z_real\": 1, \"z_imag\": 0, \"kind\": \"data\", \"fmt\": \"o\"}, {\"f\": 53366.99231206313, \"z_real\": 1, \"z_imag\": 0, \"kind\": \"data\", \"fmt\": \"o\"}, {\"f\": 65793.32246575682, \"z_real\": 1, \"z_imag\": 0, \"kind\": \"data\", \"fmt\": \"o\"}, {\"f\": 81113.08307896872, \"z_real\": 1, \"z_imag\": 0, \"kind\": \"data\", \"fmt\": \"o\"}, {\"f\": 100000.0, \"z_real\": 1, \"z_imag\": 0, \"kind\": \"data\", \"fmt\": \"o\"}, {\"f\": 123284.67394420685, \"z_real\": 1, \"z_imag\": 0, \"kind\": \"data\", \"fmt\": \"o\"}, {\"f\": 151991.10829529332, \"z_real\": 1, \"z_imag\": 0, \"kind\": \"data\", \"fmt\": \"o\"}, {\"f\": 187381.74228603867, \"z_real\": 1, \"z_imag\": 0, \"kind\": \"data\", \"fmt\": \"o\"}, {\"f\": 231012.9700083158, \"z_real\": 1, \"z_imag\": 0, \"kind\": \"data\", \"fmt\": \"o\"}, {\"f\": 284803.5868435805, \"z_real\": 1, \"z_imag\": 0, \"kind\": \"data\", \"fmt\": \"o\"}, {\"f\": 351119.17342151277, \"z_real\": 1, \"z_imag\": 0, \"kind\": \"data\", \"fmt\": \"o\"}, {\"f\": 432876.12810830615, \"z_real\": 1, \"z_imag\": 0, \"kind\": \"data\", \"fmt\": \"o\"}, {\"f\": 533669.9231206302, \"z_real\": 1, \"z_imag\": 0, \"kind\": \"data\", \"fmt\": \"o\"}, {\"f\": 657933.2246575683, \"z_real\": 1, \"z_imag\": 0, \"kind\": \"data\", \"fmt\": \"o\"}, {\"f\": 811130.8307896889, \"z_real\": 1, \"z_imag\": 0, \"kind\": \"data\", \"fmt\": \"o\"}, {\"f\": 1000000.0, \"z_real\": 1, \"z_imag\": 0, \"kind\": \"data\", \"fmt\": \"o\"}]}}, {\"mode\": \"vega-lite\"});\n",
              "</script>"
            ],
            "text/plain": [
              "alt.HConcatChart(...)"
            ]
          },
          "metadata": {},
          "execution_count": 48
        }
      ]
    },
    {
      "cell_type": "code",
      "source": [
        "# C circuit\n",
        "circuit = 'C0'\n",
        "initial_guess = [1]\n",
        "\n",
        "# Creating the circuit\n",
        "circuit = CustomCircuit(circuit, initial_guess=initial_guess)\n",
        "\n",
        "# Defining 100 frequency points between 1mHz to 1MHz\n",
        "frequencies = np.logspace(-3,6,100)\n",
        "\n",
        "# Calculating total Impedance of circuit for all frequencies\n",
        "Z_fit = circuit.predict(frequencies)\n",
        "\n",
        "# Showing the circuit, plots\n",
        "print(circuit)\n",
        "circuit.plot(f_data=frequencies, Z_data=Z_fit, kind='altair')"
      ],
      "metadata": {
        "colab": {
          "base_uri": "https://localhost:8080/",
          "height": 595
        },
        "id": "_KclJN2k9gao",
        "outputId": "89c3e044-317d-4863-d4be-1d7835e51db9"
      },
      "execution_count": 47,
      "outputs": [
        {
          "output_type": "stream",
          "name": "stdout",
          "text": [
            "\n",
            "Circuit string: C0\n",
            "Fit: False\n",
            "\n",
            "Initial guesses:\n",
            "     C0 = 1.00e+00 [F]\n",
            "\n"
          ]
        },
        {
          "output_type": "execute_result",
          "data": {
            "text/html": [
              "\n",
              "<div id=\"altair-viz-dad94badd8e9453caa095472b83ac997\"></div>\n",
              "<script type=\"text/javascript\">\n",
              "  var VEGA_DEBUG = (typeof VEGA_DEBUG == \"undefined\") ? {} : VEGA_DEBUG;\n",
              "  (function(spec, embedOpt){\n",
              "    let outputDiv = document.currentScript.previousElementSibling;\n",
              "    if (outputDiv.id !== \"altair-viz-dad94badd8e9453caa095472b83ac997\") {\n",
              "      outputDiv = document.getElementById(\"altair-viz-dad94badd8e9453caa095472b83ac997\");\n",
              "    }\n",
              "    const paths = {\n",
              "      \"vega\": \"https://cdn.jsdelivr.net/npm//vega@5?noext\",\n",
              "      \"vega-lib\": \"https://cdn.jsdelivr.net/npm//vega-lib?noext\",\n",
              "      \"vega-lite\": \"https://cdn.jsdelivr.net/npm//vega-lite@4.17.0?noext\",\n",
              "      \"vega-embed\": \"https://cdn.jsdelivr.net/npm//vega-embed@6?noext\",\n",
              "    };\n",
              "\n",
              "    function maybeLoadScript(lib, version) {\n",
              "      var key = `${lib.replace(\"-\", \"\")}_version`;\n",
              "      return (VEGA_DEBUG[key] == version) ?\n",
              "        Promise.resolve(paths[lib]) :\n",
              "        new Promise(function(resolve, reject) {\n",
              "          var s = document.createElement('script');\n",
              "          document.getElementsByTagName(\"head\")[0].appendChild(s);\n",
              "          s.async = true;\n",
              "          s.onload = () => {\n",
              "            VEGA_DEBUG[key] = version;\n",
              "            return resolve(paths[lib]);\n",
              "          };\n",
              "          s.onerror = () => reject(`Error loading script: ${paths[lib]}`);\n",
              "          s.src = paths[lib];\n",
              "        });\n",
              "    }\n",
              "\n",
              "    function showError(err) {\n",
              "      outputDiv.innerHTML = `<div class=\"error\" style=\"color:red;\">${err}</div>`;\n",
              "      throw err;\n",
              "    }\n",
              "\n",
              "    function displayChart(vegaEmbed) {\n",
              "      vegaEmbed(outputDiv, spec, embedOpt)\n",
              "        .catch(err => showError(`Javascript Error: ${err.message}<br>This usually means there's a typo in your chart specification. See the javascript console for the full traceback.`));\n",
              "    }\n",
              "\n",
              "    if(typeof define === \"function\" && define.amd) {\n",
              "      requirejs.config({paths});\n",
              "      require([\"vega-embed\"], displayChart, err => showError(`Error loading script: ${err.message}`));\n",
              "    } else {\n",
              "      maybeLoadScript(\"vega\", \"5\")\n",
              "        .then(() => maybeLoadScript(\"vega-lite\", \"4.17.0\"))\n",
              "        .then(() => maybeLoadScript(\"vega-embed\", \"6\"))\n",
              "        .catch(showError)\n",
              "        .then(() => displayChart(vegaEmbed));\n",
              "    }\n",
              "  })({\"config\": {\"view\": {\"continuousWidth\": 400, \"continuousHeight\": 300}, \"background\": \"#FFFFFF\"}, \"hconcat\": [{\"vconcat\": [{\"layer\": [{\"mark\": \"circle\", \"encoding\": {\"color\": {\"field\": \"kind\", \"type\": \"nominal\"}, \"size\": {\"condition\": {\"value\": 80, \"selection\": \"selector124\"}, \"value\": 30}, \"x\": {\"axis\": {\"title\": \"f [Hz]\"}, \"field\": \"f\", \"scale\": {\"nice\": false, \"type\": \"log\"}, \"type\": \"quantitative\"}, \"y\": {\"axis\": {\"title\": \"|Z| [\\u03a9]\"}, \"field\": \"mag\", \"type\": \"quantitative\"}}, \"height\": 175.0, \"selection\": {\"selector124\": {\"type\": \"single\", \"on\": \"mouseover\", \"nearest\": true, \"empty\": \"none\", \"fields\": [\"f\"]}, \"selector126\": {\"type\": \"interval\", \"bind\": \"scales\", \"encodings\": [\"x\", \"y\"]}}, \"transform\": [{\"calculate\": \"sqrt(pow(datum.z_real,2) + pow(datum.z_imag,2))\", \"as\": \"mag\"}, {\"calculate\": \"-(180/PI)*atan(datum.z_imag/datum.z_real)\", \"as\": \"neg_phase\"}], \"width\": 400}]}, {\"layer\": [{\"mark\": \"circle\", \"encoding\": {\"color\": {\"field\": \"kind\", \"type\": \"nominal\"}, \"size\": {\"condition\": {\"value\": 80, \"selection\": \"selector124\"}, \"value\": 30}, \"x\": {\"axis\": {\"title\": \"f [Hz]\"}, \"field\": \"f\", \"scale\": {\"nice\": false, \"type\": \"log\"}, \"type\": \"quantitative\"}, \"y\": {\"axis\": {\"title\": \"-\\u03d5 [\\u00b0]\"}, \"field\": \"neg_phase\", \"type\": \"quantitative\"}}, \"height\": 175.0, \"selection\": {\"selector124\": {\"type\": \"single\", \"on\": \"mouseover\", \"nearest\": true, \"empty\": \"none\", \"fields\": [\"f\"]}, \"selector126\": {\"type\": \"interval\", \"bind\": \"scales\", \"encodings\": [\"x\", \"y\"]}}, \"transform\": [{\"calculate\": \"sqrt(pow(datum.z_real,2) + pow(datum.z_imag,2))\", \"as\": \"mag\"}, {\"calculate\": \"-(180/PI)*atan(datum.z_imag/datum.z_real)\", \"as\": \"neg_phase\"}], \"width\": 400}]}]}, {\"layer\": [{\"mark\": \"circle\", \"encoding\": {\"color\": {\"field\": \"kind\", \"legend\": {\"title\": \"Legend\"}, \"type\": \"nominal\"}, \"size\": {\"condition\": {\"value\": 80, \"selection\": \"selector124\"}, \"value\": 30}, \"x\": {\"axis\": {\"title\": \"Z' [\\u03a9]\"}, \"field\": \"z_real\", \"scale\": {\"domain\": [0.0, 159.15494293274037], \"nice\": false, \"padding\": 5}, \"type\": \"quantitative\"}, \"y\": {\"axis\": {\"title\": \"-Z'' [\\u03a9]\"}, \"field\": \"neg_z_imag\", \"scale\": {\"domain\": [1.5915494309189535e-07, 159.15494309189532], \"nice\": false, \"padding\": 5}, \"type\": \"quantitative\"}}, \"height\": 400, \"selection\": {\"selector124\": {\"type\": \"single\", \"on\": \"mouseover\", \"nearest\": true, \"empty\": \"none\", \"fields\": [\"f\"]}, \"selector125\": {\"type\": \"interval\", \"bind\": \"scales\", \"encodings\": [\"x\", \"y\"]}}, \"transform\": [{\"calculate\": \"-datum.z_imag\", \"as\": \"neg_z_imag\"}], \"width\": 400}]}], \"data\": {\"name\": \"data-dfef44ee8b86bb90e6f99b19c6cc9f19\"}, \"$schema\": \"https://vega.github.io/schema/vega-lite/v4.17.0.json\", \"datasets\": {\"data-dfef44ee8b86bb90e6f99b19c6cc9f19\": [{\"f\": 0.001, \"z_real\": 0.0, \"z_imag\": -159.15494309189532, \"kind\": \"data\", \"fmt\": \"o\"}, {\"f\": 0.0012328467394420659, \"z_real\": 0.0, \"z_imag\": -129.09548121441446, \"kind\": \"data\", \"fmt\": \"o\"}, {\"f\": 0.0015199110829529332, \"z_real\": 0.0, \"z_imag\": -104.71332492864246, \"kind\": \"data\", \"fmt\": \"o\"}, {\"f\": 0.001873817422860383, \"z_real\": 0.0, \"z_imag\": -84.93620624412023, \"kind\": \"data\", \"fmt\": \"o\"}, {\"f\": 0.0023101297000831605, \"z_real\": 0.0, \"z_imag\": -68.89437553491739, \"kind\": \"data\", \"fmt\": \"o\"}, {\"f\": 0.002848035868435802, \"z_real\": 0.0, \"z_imag\": -55.88235206437424, \"kind\": \"data\", \"fmt\": \"o\"}, {\"f\": 0.003511191734215131, \"z_real\": 0.0, \"z_imag\": -45.327898656457684, \"kind\": \"data\", \"fmt\": \"o\"}, {\"f\": 0.004328761281083057, \"z_real\": 0.0, \"z_imag\": -36.76685609516326, \"kind\": \"data\", \"fmt\": \"o\"}, {\"f\": 0.005336699231206312, \"z_real\": 0.0, \"z_imag\": -29.82273052999463, \"kind\": \"data\", \"fmt\": \"o\"}, {\"f\": 0.006579332246575682, \"z_real\": 0.0, \"z_imag\": -24.190136191211508, \"kind\": \"data\", \"fmt\": \"o\"}, {\"f\": 0.008111308307896872, \"z_real\": 0.0, \"z_imag\": -19.621365265693072, \"kind\": \"data\", \"fmt\": \"o\"}, {\"f\": 0.01, \"z_real\": 0.0, \"z_imag\": -15.915494309189533, \"kind\": \"data\", \"fmt\": \"o\"}, {\"f\": 0.012328467394420659, \"z_real\": 0.0, \"z_imag\": -12.909548121441448, \"kind\": \"data\", \"fmt\": \"o\"}, {\"f\": 0.01519911082952934, \"z_real\": 0.0, \"z_imag\": -10.471332492864242, \"kind\": \"data\", \"fmt\": \"o\"}, {\"f\": 0.01873817422860384, \"z_real\": 0.0, \"z_imag\": -8.493620624412017, \"kind\": \"data\", \"fmt\": \"o\"}, {\"f\": 0.023101297000831605, \"z_real\": 0.0, \"z_imag\": -6.88943755349174, \"kind\": \"data\", \"fmt\": \"o\"}, {\"f\": 0.02848035868435802, \"z_real\": 0.0, \"z_imag\": -5.5882352064374246, \"kind\": \"data\", \"fmt\": \"o\"}, {\"f\": 0.03511191734215131, \"z_real\": 0.0, \"z_imag\": -4.532789865645769, \"kind\": \"data\", \"fmt\": \"o\"}, {\"f\": 0.04328761281083059, \"z_real\": 0.0, \"z_imag\": -3.676685609516325, \"kind\": \"data\", \"fmt\": \"o\"}, {\"f\": 0.0533669923120631, \"z_real\": 0.0, \"z_imag\": -2.9822730529994637, \"kind\": \"data\", \"fmt\": \"o\"}, {\"f\": 0.06579332246575682, \"z_real\": 0.0, \"z_imag\": -2.419013619121151, \"kind\": \"data\", \"fmt\": \"o\"}, {\"f\": 0.08111308307896872, \"z_real\": 0.0, \"z_imag\": -1.9621365265693074, \"kind\": \"data\", \"fmt\": \"o\"}, {\"f\": 0.1, \"z_real\": 0.0, \"z_imag\": -1.5915494309189535, \"kind\": \"data\", \"fmt\": \"o\"}, {\"f\": 0.12328467394420659, \"z_real\": 0.0, \"z_imag\": -1.2909548121441448, \"kind\": \"data\", \"fmt\": \"o\"}, {\"f\": 0.1519911082952933, \"z_real\": 0.0, \"z_imag\": -1.0471332492864247, \"kind\": \"data\", \"fmt\": \"o\"}, {\"f\": 0.1873817422860385, \"z_real\": 0.0, \"z_imag\": -0.8493620624412014, \"kind\": \"data\", \"fmt\": \"o\"}, {\"f\": 0.23101297000831605, \"z_real\": 0.0, \"z_imag\": -0.6889437553491738, \"kind\": \"data\", \"fmt\": \"o\"}, {\"f\": 0.2848035868435802, \"z_real\": 0.0, \"z_imag\": -0.5588235206437424, \"kind\": \"data\", \"fmt\": \"o\"}, {\"f\": 0.3511191734215131, \"z_real\": 0.0, \"z_imag\": -0.45327898656457677, \"kind\": \"data\", \"fmt\": \"o\"}, {\"f\": 0.4328761281083057, \"z_real\": 0.0, \"z_imag\": -0.36766856095163264, \"kind\": \"data\", \"fmt\": \"o\"}, {\"f\": 0.5336699231206312, \"z_real\": 0.0, \"z_imag\": -0.2982273052999463, \"kind\": \"data\", \"fmt\": \"o\"}, {\"f\": 0.6579332246575682, \"z_real\": 0.0, \"z_imag\": -0.24190136191211511, \"kind\": \"data\", \"fmt\": \"o\"}, {\"f\": 0.8111308307896873, \"z_real\": 0.0, \"z_imag\": -0.19621365265693072, \"kind\": \"data\", \"fmt\": \"o\"}, {\"f\": 1.0, \"z_real\": 0.0, \"z_imag\": -0.15915494309189535, \"kind\": \"data\", \"fmt\": \"o\"}, {\"f\": 1.232846739442066, \"z_real\": 0.0, \"z_imag\": -0.12909548121441447, \"kind\": \"data\", \"fmt\": \"o\"}, {\"f\": 1.5199110829529348, \"z_real\": 0.0, \"z_imag\": -0.10471332492864237, \"kind\": \"data\", \"fmt\": \"o\"}, {\"f\": 1.873817422860385, \"z_real\": 0.0, \"z_imag\": -0.08493620624412014, \"kind\": \"data\", \"fmt\": \"o\"}, {\"f\": 2.31012970008316, \"z_real\": 0.0, \"z_imag\": -0.0688943755349174, \"kind\": \"data\", \"fmt\": \"o\"}, {\"f\": 2.848035868435802, \"z_real\": 0.0, \"z_imag\": -0.05588235206437425, \"kind\": \"data\", \"fmt\": \"o\"}, {\"f\": 3.511191734215131, \"z_real\": 0.0, \"z_imag\": -0.04532789865645768, \"kind\": \"data\", \"fmt\": \"o\"}, {\"f\": 4.328761281083062, \"z_real\": 0.0, \"z_imag\": -0.036766856095163225, \"kind\": \"data\", \"fmt\": \"o\"}, {\"f\": 5.336699231206313, \"z_real\": 0.0, \"z_imag\": -0.02982273052999462, \"kind\": \"data\", \"fmt\": \"o\"}, {\"f\": 6.5793322465756825, \"z_real\": 0.0, \"z_imag\": -0.02419013619121151, \"kind\": \"data\", \"fmt\": \"o\"}, {\"f\": 8.111308307896872, \"z_real\": 0.0, \"z_imag\": -0.019621365265693073, \"kind\": \"data\", \"fmt\": \"o\"}, {\"f\": 10.0, \"z_real\": 0.0, \"z_imag\": -0.015915494309189534, \"kind\": \"data\", \"fmt\": \"o\"}, {\"f\": 12.32846739442066, \"z_real\": 0.0, \"z_imag\": -0.012909548121441447, \"kind\": \"data\", \"fmt\": \"o\"}, {\"f\": 15.199110829529332, \"z_real\": 0.0, \"z_imag\": -0.010471332492864246, \"kind\": \"data\", \"fmt\": \"o\"}, {\"f\": 18.73817422860383, \"z_real\": 0.0, \"z_imag\": -0.008493620624412022, \"kind\": \"data\", \"fmt\": \"o\"}, {\"f\": 23.10129700083158, \"z_real\": 0.0, \"z_imag\": -0.006889437553491747, \"kind\": \"data\", \"fmt\": \"o\"}, {\"f\": 28.48035868435805, \"z_real\": 0.0, \"z_imag\": -0.00558823520643742, \"kind\": \"data\", \"fmt\": \"o\"}, {\"f\": 35.111917342151344, \"z_real\": 0.0, \"z_imag\": -0.004532789865645763, \"kind\": \"data\", \"fmt\": \"o\"}, {\"f\": 43.287612810830616, \"z_real\": 0.0, \"z_imag\": -0.0036766856095163227, \"kind\": \"data\", \"fmt\": \"o\"}, {\"f\": 53.366992312063125, \"z_real\": 0.0, \"z_imag\": -0.002982273052999462, \"kind\": \"data\", \"fmt\": \"o\"}, {\"f\": 65.79332246575683, \"z_real\": 0.0, \"z_imag\": -0.0024190136191211504, \"kind\": \"data\", \"fmt\": \"o\"}, {\"f\": 81.11308307896873, \"z_real\": 0.0, \"z_imag\": -0.001962136526569307, \"kind\": \"data\", \"fmt\": \"o\"}, {\"f\": 100.0, \"z_real\": 0.0, \"z_imag\": -0.0015915494309189533, \"kind\": \"data\", \"fmt\": \"o\"}, {\"f\": 123.28467394420659, \"z_real\": 0.0, \"z_imag\": -0.0012909548121441447, \"kind\": \"data\", \"fmt\": \"o\"}, {\"f\": 151.99110829529332, \"z_real\": 0.0, \"z_imag\": -0.0010471332492864246, \"kind\": \"data\", \"fmt\": \"o\"}, {\"f\": 187.3817422860383, \"z_real\": 0.0, \"z_imag\": -0.0008493620624412024, \"kind\": \"data\", \"fmt\": \"o\"}, {\"f\": 231.01297000831627, \"z_real\": 0.0, \"z_imag\": -0.0006889437553491732, \"kind\": \"data\", \"fmt\": \"o\"}, {\"f\": 284.8035868435805, \"z_real\": 0.0, \"z_imag\": -0.0005588235206437419, \"kind\": \"data\", \"fmt\": \"o\"}, {\"f\": 351.11917342151344, \"z_real\": 0.0, \"z_imag\": -0.0004532789865645764, \"kind\": \"data\", \"fmt\": \"o\"}, {\"f\": 432.87612810830615, \"z_real\": 0.0, \"z_imag\": -0.0003676685609516323, \"kind\": \"data\", \"fmt\": \"o\"}, {\"f\": 533.6699231206312, \"z_real\": 0.0, \"z_imag\": -0.00029822730529994627, \"kind\": \"data\", \"fmt\": \"o\"}, {\"f\": 657.9332246575682, \"z_real\": 0.0, \"z_imag\": -0.0002419013619121151, \"kind\": \"data\", \"fmt\": \"o\"}, {\"f\": 811.1308307896873, \"z_real\": 0.0, \"z_imag\": -0.0001962136526569307, \"kind\": \"data\", \"fmt\": \"o\"}, {\"f\": 1000.0, \"z_real\": 0.0, \"z_imag\": -0.00015915494309189535, \"kind\": \"data\", \"fmt\": \"o\"}, {\"f\": 1232.8467394420659, \"z_real\": 0.0, \"z_imag\": -0.00012909548121441445, \"kind\": \"data\", \"fmt\": \"o\"}, {\"f\": 1519.9110829529332, \"z_real\": 0.0, \"z_imag\": -0.00010471332492864246, \"kind\": \"data\", \"fmt\": \"o\"}, {\"f\": 1873.817422860383, \"z_real\": 0.0, \"z_imag\": -8.493620624412024e-05, \"kind\": \"data\", \"fmt\": \"o\"}, {\"f\": 2310.129700083163, \"z_real\": 0.0, \"z_imag\": -6.889437553491733e-05, \"kind\": \"data\", \"fmt\": \"o\"}, {\"f\": 2848.035868435805, \"z_real\": 0.0, \"z_imag\": -5.58823520643742e-05, \"kind\": \"data\", \"fmt\": \"o\"}, {\"f\": 3511.1917342151346, \"z_real\": 0.0, \"z_imag\": -4.532789865645763e-05, \"kind\": \"data\", \"fmt\": \"o\"}, {\"f\": 4328.7612810830615, \"z_real\": 0.0, \"z_imag\": -3.676685609516323e-05, \"kind\": \"data\", \"fmt\": \"o\"}, {\"f\": 5336.699231206313, \"z_real\": 0.0, \"z_imag\": -2.982273052999462e-05, \"kind\": \"data\", \"fmt\": \"o\"}, {\"f\": 6579.332246575683, \"z_real\": 0.0, \"z_imag\": -2.4190136191211507e-05, \"kind\": \"data\", \"fmt\": \"o\"}, {\"f\": 8111.308307896872, \"z_real\": 0.0, \"z_imag\": -1.9621365265693072e-05, \"kind\": \"data\", \"fmt\": \"o\"}, {\"f\": 10000.0, \"z_real\": 0.0, \"z_imag\": -1.5915494309189534e-05, \"kind\": \"data\", \"fmt\": \"o\"}, {\"f\": 12328.467394420659, \"z_real\": 0.0, \"z_imag\": -1.2909548121441447e-05, \"kind\": \"data\", \"fmt\": \"o\"}, {\"f\": 15199.11082952933, \"z_real\": 0.0, \"z_imag\": -1.0471332492864247e-05, \"kind\": \"data\", \"fmt\": \"o\"}, {\"f\": 18738.174228603868, \"z_real\": 0.0, \"z_imag\": -8.493620624412005e-06, \"kind\": \"data\", \"fmt\": \"o\"}, {\"f\": 23101.297000831626, \"z_real\": 0.0, \"z_imag\": -6.889437553491733e-06, \"kind\": \"data\", \"fmt\": \"o\"}, {\"f\": 28480.35868435805, \"z_real\": 0.0, \"z_imag\": -5.588235206437419e-06, \"kind\": \"data\", \"fmt\": \"o\"}, {\"f\": 35111.91734215135, \"z_real\": 0.0, \"z_imag\": -4.532789865645763e-06, \"kind\": \"data\", \"fmt\": \"o\"}, {\"f\": 43287.612810830615, \"z_real\": 0.0, \"z_imag\": -3.6766856095163226e-06, \"kind\": \"data\", \"fmt\": \"o\"}, {\"f\": 53366.99231206313, \"z_real\": 0.0, \"z_imag\": -2.9822730529994623e-06, \"kind\": \"data\", \"fmt\": \"o\"}, {\"f\": 65793.32246575682, \"z_real\": 0.0, \"z_imag\": -2.419013619121151e-06, \"kind\": \"data\", \"fmt\": \"o\"}, {\"f\": 81113.08307896872, \"z_real\": 0.0, \"z_imag\": -1.9621365265693073e-06, \"kind\": \"data\", \"fmt\": \"o\"}, {\"f\": 100000.0, \"z_real\": 0.0, \"z_imag\": -1.5915494309189535e-06, \"kind\": \"data\", \"fmt\": \"o\"}, {\"f\": 123284.67394420685, \"z_real\": 0.0, \"z_imag\": -1.290954812144142e-06, \"kind\": \"data\", \"fmt\": \"o\"}, {\"f\": 151991.10829529332, \"z_real\": 0.0, \"z_imag\": -1.0471332492864247e-06, \"kind\": \"data\", \"fmt\": \"o\"}, {\"f\": 187381.74228603867, \"z_real\": 0.0, \"z_imag\": -8.493620624412007e-07, \"kind\": \"data\", \"fmt\": \"o\"}, {\"f\": 231012.9700083158, \"z_real\": 0.0, \"z_imag\": -6.889437553491746e-07, \"kind\": \"data\", \"fmt\": \"o\"}, {\"f\": 284803.5868435805, \"z_real\": 0.0, \"z_imag\": -5.588235206437419e-07, \"kind\": \"data\", \"fmt\": \"o\"}, {\"f\": 351119.17342151277, \"z_real\": 0.0, \"z_imag\": -4.5327898656457723e-07, \"kind\": \"data\", \"fmt\": \"o\"}, {\"f\": 432876.12810830615, \"z_real\": 0.0, \"z_imag\": -3.676685609516323e-07, \"kind\": \"data\", \"fmt\": \"o\"}, {\"f\": 533669.9231206302, \"z_real\": 0.0, \"z_imag\": -2.9822730529994687e-07, \"kind\": \"data\", \"fmt\": \"o\"}, {\"f\": 657933.2246575683, \"z_real\": 0.0, \"z_imag\": -2.4190136191211507e-07, \"kind\": \"data\", \"fmt\": \"o\"}, {\"f\": 811130.8307896889, \"z_real\": 0.0, \"z_imag\": -1.9621365265693032e-07, \"kind\": \"data\", \"fmt\": \"o\"}, {\"f\": 1000000.0, \"z_real\": 0.0, \"z_imag\": -1.5915494309189535e-07, \"kind\": \"data\", \"fmt\": \"o\"}]}}, {\"mode\": \"vega-lite\"});\n",
              "</script>"
            ],
            "text/plain": [
              "alt.HConcatChart(...)"
            ]
          },
          "metadata": {},
          "execution_count": 47
        }
      ]
    },
    {
      "cell_type": "code",
      "source": [
        "# L circuit\n",
        "circuit = 'L0'\n",
        "initial_guess = [0.001]\n",
        "\n",
        "# Creating the circuit\n",
        "circuit = CustomCircuit(circuit, initial_guess=initial_guess)\n",
        "\n",
        "# Defining 100 frequency points between 1mHz to 1MHz\n",
        "frequencies = np.logspace(-3,6,100)\n",
        "\n",
        "# Calculating total Impedance of circuit for all frequencies\n",
        "Z_fit = circuit.predict(frequencies)\n",
        "\n",
        "# Showing the circuit, plots\n",
        "print(circuit)\n",
        "circuit.plot(f_data=frequencies, Z_data=Z_fit, kind='altair')"
      ],
      "metadata": {
        "colab": {
          "base_uri": "https://localhost:8080/",
          "height": 597
        },
        "id": "Pg2A_LsWAn_w",
        "outputId": "000a69af-df15-43ac-f2ff-3600513e003e"
      },
      "execution_count": 50,
      "outputs": [
        {
          "output_type": "stream",
          "name": "stdout",
          "text": [
            "\n",
            "Circuit string: L0\n",
            "Fit: False\n",
            "\n",
            "Initial guesses:\n",
            "     L0 = 1.00e-03 [H]\n",
            "\n"
          ]
        },
        {
          "output_type": "execute_result",
          "data": {
            "text/html": [
              "\n",
              "<div id=\"altair-viz-0e0064ae246b467ab4a4c89149e7c6b0\"></div>\n",
              "<script type=\"text/javascript\">\n",
              "  var VEGA_DEBUG = (typeof VEGA_DEBUG == \"undefined\") ? {} : VEGA_DEBUG;\n",
              "  (function(spec, embedOpt){\n",
              "    let outputDiv = document.currentScript.previousElementSibling;\n",
              "    if (outputDiv.id !== \"altair-viz-0e0064ae246b467ab4a4c89149e7c6b0\") {\n",
              "      outputDiv = document.getElementById(\"altair-viz-0e0064ae246b467ab4a4c89149e7c6b0\");\n",
              "    }\n",
              "    const paths = {\n",
              "      \"vega\": \"https://cdn.jsdelivr.net/npm//vega@5?noext\",\n",
              "      \"vega-lib\": \"https://cdn.jsdelivr.net/npm//vega-lib?noext\",\n",
              "      \"vega-lite\": \"https://cdn.jsdelivr.net/npm//vega-lite@4.17.0?noext\",\n",
              "      \"vega-embed\": \"https://cdn.jsdelivr.net/npm//vega-embed@6?noext\",\n",
              "    };\n",
              "\n",
              "    function maybeLoadScript(lib, version) {\n",
              "      var key = `${lib.replace(\"-\", \"\")}_version`;\n",
              "      return (VEGA_DEBUG[key] == version) ?\n",
              "        Promise.resolve(paths[lib]) :\n",
              "        new Promise(function(resolve, reject) {\n",
              "          var s = document.createElement('script');\n",
              "          document.getElementsByTagName(\"head\")[0].appendChild(s);\n",
              "          s.async = true;\n",
              "          s.onload = () => {\n",
              "            VEGA_DEBUG[key] = version;\n",
              "            return resolve(paths[lib]);\n",
              "          };\n",
              "          s.onerror = () => reject(`Error loading script: ${paths[lib]}`);\n",
              "          s.src = paths[lib];\n",
              "        });\n",
              "    }\n",
              "\n",
              "    function showError(err) {\n",
              "      outputDiv.innerHTML = `<div class=\"error\" style=\"color:red;\">${err}</div>`;\n",
              "      throw err;\n",
              "    }\n",
              "\n",
              "    function displayChart(vegaEmbed) {\n",
              "      vegaEmbed(outputDiv, spec, embedOpt)\n",
              "        .catch(err => showError(`Javascript Error: ${err.message}<br>This usually means there's a typo in your chart specification. See the javascript console for the full traceback.`));\n",
              "    }\n",
              "\n",
              "    if(typeof define === \"function\" && define.amd) {\n",
              "      requirejs.config({paths});\n",
              "      require([\"vega-embed\"], displayChart, err => showError(`Error loading script: ${err.message}`));\n",
              "    } else {\n",
              "      maybeLoadScript(\"vega\", \"5\")\n",
              "        .then(() => maybeLoadScript(\"vega-lite\", \"4.17.0\"))\n",
              "        .then(() => maybeLoadScript(\"vega-embed\", \"6\"))\n",
              "        .catch(showError)\n",
              "        .then(() => displayChart(vegaEmbed));\n",
              "    }\n",
              "  })({\"config\": {\"view\": {\"continuousWidth\": 400, \"continuousHeight\": 300}, \"background\": \"#FFFFFF\"}, \"hconcat\": [{\"vconcat\": [{\"layer\": [{\"mark\": \"circle\", \"encoding\": {\"color\": {\"field\": \"kind\", \"type\": \"nominal\"}, \"size\": {\"condition\": {\"value\": 80, \"selection\": \"selector133\"}, \"value\": 30}, \"x\": {\"axis\": {\"title\": \"f [Hz]\"}, \"field\": \"f\", \"scale\": {\"nice\": false, \"type\": \"log\"}, \"type\": \"quantitative\"}, \"y\": {\"axis\": {\"title\": \"|Z| [\\u03a9]\"}, \"field\": \"mag\", \"type\": \"quantitative\"}}, \"height\": 175.0, \"selection\": {\"selector133\": {\"type\": \"single\", \"on\": \"mouseover\", \"nearest\": true, \"empty\": \"none\", \"fields\": [\"f\"]}, \"selector135\": {\"type\": \"interval\", \"bind\": \"scales\", \"encodings\": [\"x\", \"y\"]}}, \"transform\": [{\"calculate\": \"sqrt(pow(datum.z_real,2) + pow(datum.z_imag,2))\", \"as\": \"mag\"}, {\"calculate\": \"-(180/PI)*atan(datum.z_imag/datum.z_real)\", \"as\": \"neg_phase\"}], \"width\": 400}]}, {\"layer\": [{\"mark\": \"circle\", \"encoding\": {\"color\": {\"field\": \"kind\", \"type\": \"nominal\"}, \"size\": {\"condition\": {\"value\": 80, \"selection\": \"selector133\"}, \"value\": 30}, \"x\": {\"axis\": {\"title\": \"f [Hz]\"}, \"field\": \"f\", \"scale\": {\"nice\": false, \"type\": \"log\"}, \"type\": \"quantitative\"}, \"y\": {\"axis\": {\"title\": \"-\\u03d5 [\\u00b0]\"}, \"field\": \"neg_phase\", \"type\": \"quantitative\"}}, \"height\": 175.0, \"selection\": {\"selector133\": {\"type\": \"single\", \"on\": \"mouseover\", \"nearest\": true, \"empty\": \"none\", \"fields\": [\"f\"]}, \"selector135\": {\"type\": \"interval\", \"bind\": \"scales\", \"encodings\": [\"x\", \"y\"]}}, \"transform\": [{\"calculate\": \"sqrt(pow(datum.z_real,2) + pow(datum.z_imag,2))\", \"as\": \"mag\"}, {\"calculate\": \"-(180/PI)*atan(datum.z_imag/datum.z_real)\", \"as\": \"neg_phase\"}], \"width\": 400}]}]}, {\"layer\": [{\"mark\": \"circle\", \"encoding\": {\"color\": {\"field\": \"kind\", \"legend\": {\"title\": \"Legend\"}, \"type\": \"nominal\"}, \"size\": {\"condition\": {\"value\": 80, \"selection\": \"selector133\"}, \"value\": 30}, \"x\": {\"axis\": {\"title\": \"Z' [\\u03a9]\"}, \"field\": \"z_real\", \"scale\": {\"domain\": [0.0, 6283.185300896401], \"nice\": false, \"padding\": 5}, \"type\": \"quantitative\"}, \"y\": {\"axis\": {\"title\": \"-Z'' [\\u03a9]\"}, \"field\": \"neg_z_imag\", \"scale\": {\"domain\": [-6283.185307179586, -6.2831850300426595e-06], \"nice\": false, \"padding\": 5}, \"type\": \"quantitative\"}}, \"height\": 400, \"selection\": {\"selector133\": {\"type\": \"single\", \"on\": \"mouseover\", \"nearest\": true, \"empty\": \"none\", \"fields\": [\"f\"]}, \"selector134\": {\"type\": \"interval\", \"bind\": \"scales\", \"encodings\": [\"x\", \"y\"]}}, \"transform\": [{\"calculate\": \"-datum.z_imag\", \"as\": \"neg_z_imag\"}], \"width\": 400}]}], \"data\": {\"name\": \"data-3ea20872670ad1aec1689c969fc4d337\"}, \"$schema\": \"https://vega.github.io/schema/vega-lite/v4.17.0.json\", \"datasets\": {\"data-3ea20872670ad1aec1689c969fc4d337\": [{\"f\": 0.001, \"z_real\": 0.0, \"z_imag\": 6.283185307179587e-06, \"kind\": \"data\", \"fmt\": \"o\"}, {\"f\": 0.0012328467394420659, \"z_real\": 0.0, \"z_imag\": 7.746204519266648e-06, \"kind\": \"data\", \"fmt\": \"o\"}, {\"f\": 0.0015199110829529332, \"z_real\": 0.0, \"z_imag\": 9.549882984629284e-06, \"kind\": \"data\", \"fmt\": \"o\"}, {\"f\": 0.001873817422860383, \"z_real\": 0.0, \"z_imag\": 1.1773542099653477e-05, \"kind\": \"data\", \"fmt\": \"o\"}, {\"f\": 0.0023101297000831605, \"z_real\": 0.0, \"z_imag\": 1.45149729892417e-05, \"kind\": \"data\", \"fmt\": \"o\"}, {\"f\": 0.002848035868435802, \"z_real\": 0.0, \"z_imag\": 1.7894737122876286e-05, \"kind\": \"data\", \"fmt\": \"o\"}, {\"f\": 0.003511191734215131, \"z_real\": 0.0, \"z_imag\": 2.206146831511092e-05, \"kind\": \"data\", \"fmt\": \"o\"}, {\"f\": 0.004328761281083057, \"z_real\": 0.0, \"z_imag\": 2.719840927958895e-05, \"kind\": \"data\", \"fmt\": \"o\"}, {\"f\": 0.005336699231206312, \"z_real\": 0.0, \"z_imag\": 3.353147019835209e-05, \"kind\": \"data\", \"fmt\": \"o\"}, {\"f\": 0.006579332246575682, \"z_real\": 0.0, \"z_imag\": 4.133916370273719e-05, \"kind\": \"data\", \"fmt\": \"o\"}, {\"f\": 0.008111308307896872, \"z_real\": 0.0, \"z_imag\": 5.096485318218134e-05, \"kind\": \"data\", \"fmt\": \"o\"}, {\"f\": 0.01, \"z_real\": 0.0, \"z_imag\": 6.283185307179587e-05, \"kind\": \"data\", \"fmt\": \"o\"}, {\"f\": 0.012328467394420659, \"z_real\": 0.0, \"z_imag\": 7.746204519266647e-05, \"kind\": \"data\", \"fmt\": \"o\"}, {\"f\": 0.01519911082952934, \"z_real\": 0.0, \"z_imag\": 9.549882984629288e-05, \"kind\": \"data\", \"fmt\": \"o\"}, {\"f\": 0.01873817422860384, \"z_real\": 0.0, \"z_imag\": 0.00011773542099653483, \"kind\": \"data\", \"fmt\": \"o\"}, {\"f\": 0.023101297000831605, \"z_real\": 0.0, \"z_imag\": 0.00014514972989241698, \"kind\": \"data\", \"fmt\": \"o\"}, {\"f\": 0.02848035868435802, \"z_real\": 0.0, \"z_imag\": 0.00017894737122876284, \"kind\": \"data\", \"fmt\": \"o\"}, {\"f\": 0.03511191734215131, \"z_real\": 0.0, \"z_imag\": 0.0002206146831511092, \"kind\": \"data\", \"fmt\": \"o\"}, {\"f\": 0.04328761281083059, \"z_real\": 0.0, \"z_imag\": 0.0002719840927958896, \"kind\": \"data\", \"fmt\": \"o\"}, {\"f\": 0.0533669923120631, \"z_real\": 0.0, \"z_imag\": 0.0003353147019835208, \"kind\": \"data\", \"fmt\": \"o\"}, {\"f\": 0.06579332246575682, \"z_real\": 0.0, \"z_imag\": 0.00041339163702737187, \"kind\": \"data\", \"fmt\": \"o\"}, {\"f\": 0.08111308307896872, \"z_real\": 0.0, \"z_imag\": 0.0005096485318218134, \"kind\": \"data\", \"fmt\": \"o\"}, {\"f\": 0.1, \"z_real\": 0.0, \"z_imag\": 0.0006283185307179586, \"kind\": \"data\", \"fmt\": \"o\"}, {\"f\": 0.12328467394420659, \"z_real\": 0.0, \"z_imag\": 0.0007746204519266648, \"kind\": \"data\", \"fmt\": \"o\"}, {\"f\": 0.1519911082952933, \"z_real\": 0.0, \"z_imag\": 0.0009549882984629282, \"kind\": \"data\", \"fmt\": \"o\"}, {\"f\": 0.1873817422860385, \"z_real\": 0.0, \"z_imag\": 0.001177354209965349, \"kind\": \"data\", \"fmt\": \"o\"}, {\"f\": 0.23101297000831605, \"z_real\": 0.0, \"z_imag\": 0.0014514972989241699, \"kind\": \"data\", \"fmt\": \"o\"}, {\"f\": 0.2848035868435802, \"z_real\": 0.0, \"z_imag\": 0.0017894737122876286, \"kind\": \"data\", \"fmt\": \"o\"}, {\"f\": 0.3511191734215131, \"z_real\": 0.0, \"z_imag\": 0.0022061468315110926, \"kind\": \"data\", \"fmt\": \"o\"}, {\"f\": 0.4328761281083057, \"z_real\": 0.0, \"z_imag\": 0.002719840927958895, \"kind\": \"data\", \"fmt\": \"o\"}, {\"f\": 0.5336699231206312, \"z_real\": 0.0, \"z_imag\": 0.0033531470198352093, \"kind\": \"data\", \"fmt\": \"o\"}, {\"f\": 0.6579332246575682, \"z_real\": 0.0, \"z_imag\": 0.0041339163702737184, \"kind\": \"data\", \"fmt\": \"o\"}, {\"f\": 0.8111308307896873, \"z_real\": 0.0, \"z_imag\": 0.005096485318218134, \"kind\": \"data\", \"fmt\": \"o\"}, {\"f\": 1.0, \"z_real\": 0.0, \"z_imag\": 0.006283185307179587, \"kind\": \"data\", \"fmt\": \"o\"}, {\"f\": 1.232846739442066, \"z_real\": 0.0, \"z_imag\": 0.007746204519266648, \"kind\": \"data\", \"fmt\": \"o\"}, {\"f\": 1.5199110829529348, \"z_real\": 0.0, \"z_imag\": 0.009549882984629292, \"kind\": \"data\", \"fmt\": \"o\"}, {\"f\": 1.873817422860385, \"z_real\": 0.0, \"z_imag\": 0.011773542099653488, \"kind\": \"data\", \"fmt\": \"o\"}, {\"f\": 2.31012970008316, \"z_real\": 0.0, \"z_imag\": 0.014514972989241696, \"kind\": \"data\", \"fmt\": \"o\"}, {\"f\": 2.848035868435802, \"z_real\": 0.0, \"z_imag\": 0.017894737122876283, \"kind\": \"data\", \"fmt\": \"o\"}, {\"f\": 3.511191734215131, \"z_real\": 0.0, \"z_imag\": 0.02206146831511092, \"kind\": \"data\", \"fmt\": \"o\"}, {\"f\": 4.328761281083062, \"z_real\": 0.0, \"z_imag\": 0.027198409279588977, \"kind\": \"data\", \"fmt\": \"o\"}, {\"f\": 5.336699231206313, \"z_real\": 0.0, \"z_imag\": 0.033531470198352106, \"kind\": \"data\", \"fmt\": \"o\"}, {\"f\": 6.5793322465756825, \"z_real\": 0.0, \"z_imag\": 0.041339163702737186, \"kind\": \"data\", \"fmt\": \"o\"}, {\"f\": 8.111308307896872, \"z_real\": 0.0, \"z_imag\": 0.05096485318218134, \"kind\": \"data\", \"fmt\": \"o\"}, {\"f\": 10.0, \"z_real\": 0.0, \"z_imag\": 0.06283185307179587, \"kind\": \"data\", \"fmt\": \"o\"}, {\"f\": 12.32846739442066, \"z_real\": 0.0, \"z_imag\": 0.07746204519266649, \"kind\": \"data\", \"fmt\": \"o\"}, {\"f\": 15.199110829529332, \"z_real\": 0.0, \"z_imag\": 0.09549882984629283, \"kind\": \"data\", \"fmt\": \"o\"}, {\"f\": 18.73817422860383, \"z_real\": 0.0, \"z_imag\": 0.11773542099653478, \"kind\": \"data\", \"fmt\": \"o\"}, {\"f\": 23.10129700083158, \"z_real\": 0.0, \"z_imag\": 0.1451497298924168, \"kind\": \"data\", \"fmt\": \"o\"}, {\"f\": 28.48035868435805, \"z_real\": 0.0, \"z_imag\": 0.17894737122876303, \"kind\": \"data\", \"fmt\": \"o\"}, {\"f\": 35.111917342151344, \"z_real\": 0.0, \"z_imag\": 0.22061468315110944, \"kind\": \"data\", \"fmt\": \"o\"}, {\"f\": 43.287612810830616, \"z_real\": 0.0, \"z_imag\": 0.27198409279588975, \"kind\": \"data\", \"fmt\": \"o\"}, {\"f\": 53.366992312063125, \"z_real\": 0.0, \"z_imag\": 0.335314701983521, \"kind\": \"data\", \"fmt\": \"o\"}, {\"f\": 65.79332246575683, \"z_real\": 0.0, \"z_imag\": 0.4133916370273719, \"kind\": \"data\", \"fmt\": \"o\"}, {\"f\": 81.11308307896873, \"z_real\": 0.0, \"z_imag\": 0.5096485318218135, \"kind\": \"data\", \"fmt\": \"o\"}, {\"f\": 100.0, \"z_real\": 0.0, \"z_imag\": 0.6283185307179586, \"kind\": \"data\", \"fmt\": \"o\"}, {\"f\": 123.28467394420659, \"z_real\": 0.0, \"z_imag\": 0.7746204519266648, \"kind\": \"data\", \"fmt\": \"o\"}, {\"f\": 151.99110829529332, \"z_real\": 0.0, \"z_imag\": 0.9549882984629282, \"kind\": \"data\", \"fmt\": \"o\"}, {\"f\": 187.3817422860383, \"z_real\": 0.0, \"z_imag\": 1.1773542099653476, \"kind\": \"data\", \"fmt\": \"o\"}, {\"f\": 231.01297000831627, \"z_real\": 0.0, \"z_imag\": 1.4514972989241712, \"kind\": \"data\", \"fmt\": \"o\"}, {\"f\": 284.8035868435805, \"z_real\": 0.0, \"z_imag\": 1.7894737122876303, \"kind\": \"data\", \"fmt\": \"o\"}, {\"f\": 351.11917342151344, \"z_real\": 0.0, \"z_imag\": 2.206146831511094, \"kind\": \"data\", \"fmt\": \"o\"}, {\"f\": 432.87612810830615, \"z_real\": 0.0, \"z_imag\": 2.7198409279588973, \"kind\": \"data\", \"fmt\": \"o\"}, {\"f\": 533.6699231206312, \"z_real\": 0.0, \"z_imag\": 3.3531470198352094, \"kind\": \"data\", \"fmt\": \"o\"}, {\"f\": 657.9332246575682, \"z_real\": 0.0, \"z_imag\": 4.1339163702737185, \"kind\": \"data\", \"fmt\": \"o\"}, {\"f\": 811.1308307896873, \"z_real\": 0.0, \"z_imag\": 5.096485318218134, \"kind\": \"data\", \"fmt\": \"o\"}, {\"f\": 1000.0, \"z_real\": 0.0, \"z_imag\": 6.283185307179586, \"kind\": \"data\", \"fmt\": \"o\"}, {\"f\": 1232.8467394420659, \"z_real\": 0.0, \"z_imag\": 7.746204519266649, \"kind\": \"data\", \"fmt\": \"o\"}, {\"f\": 1519.9110829529332, \"z_real\": 0.0, \"z_imag\": 9.549882984629283, \"kind\": \"data\", \"fmt\": \"o\"}, {\"f\": 1873.817422860383, \"z_real\": 0.0, \"z_imag\": 11.773542099653476, \"kind\": \"data\", \"fmt\": \"o\"}, {\"f\": 2310.129700083163, \"z_real\": 0.0, \"z_imag\": 14.514972989241713, \"kind\": \"data\", \"fmt\": \"o\"}, {\"f\": 2848.035868435805, \"z_real\": 0.0, \"z_imag\": 17.8947371228763, \"kind\": \"data\", \"fmt\": \"o\"}, {\"f\": 3511.1917342151346, \"z_real\": 0.0, \"z_imag\": 22.061468315110947, \"kind\": \"data\", \"fmt\": \"o\"}, {\"f\": 4328.7612810830615, \"z_real\": 0.0, \"z_imag\": 27.198409279588976, \"kind\": \"data\", \"fmt\": \"o\"}, {\"f\": 5336.699231206313, \"z_real\": 0.0, \"z_imag\": 33.5314701983521, \"kind\": \"data\", \"fmt\": \"o\"}, {\"f\": 6579.332246575683, \"z_real\": 0.0, \"z_imag\": 41.33916370273719, \"kind\": \"data\", \"fmt\": \"o\"}, {\"f\": 8111.308307896872, \"z_real\": 0.0, \"z_imag\": 50.964853182181336, \"kind\": \"data\", \"fmt\": \"o\"}, {\"f\": 10000.0, \"z_real\": 0.0, \"z_imag\": 62.83185307179586, \"kind\": \"data\", \"fmt\": \"o\"}, {\"f\": 12328.467394420659, \"z_real\": 0.0, \"z_imag\": 77.46204519266648, \"kind\": \"data\", \"fmt\": \"o\"}, {\"f\": 15199.11082952933, \"z_real\": 0.0, \"z_imag\": 95.49882984629282, \"kind\": \"data\", \"fmt\": \"o\"}, {\"f\": 18738.174228603868, \"z_real\": 0.0, \"z_imag\": 117.735420996535, \"kind\": \"data\", \"fmt\": \"o\"}, {\"f\": 23101.297000831626, \"z_real\": 0.0, \"z_imag\": 145.14972989241713, \"kind\": \"data\", \"fmt\": \"o\"}, {\"f\": 28480.35868435805, \"z_real\": 0.0, \"z_imag\": 178.94737122876302, \"kind\": \"data\", \"fmt\": \"o\"}, {\"f\": 35111.91734215135, \"z_real\": 0.0, \"z_imag\": 220.61468315110946, \"kind\": \"data\", \"fmt\": \"o\"}, {\"f\": 43287.612810830615, \"z_real\": 0.0, \"z_imag\": 271.98409279588975, \"kind\": \"data\", \"fmt\": \"o\"}, {\"f\": 53366.99231206313, \"z_real\": 0.0, \"z_imag\": 335.314701983521, \"kind\": \"data\", \"fmt\": \"o\"}, {\"f\": 65793.32246575682, \"z_real\": 0.0, \"z_imag\": 413.39163702737187, \"kind\": \"data\", \"fmt\": \"o\"}, {\"f\": 81113.08307896872, \"z_real\": 0.0, \"z_imag\": 509.6485318218134, \"kind\": \"data\", \"fmt\": \"o\"}, {\"f\": 100000.0, \"z_real\": 0.0, \"z_imag\": 628.3185307179585, \"kind\": \"data\", \"fmt\": \"o\"}, {\"f\": 123284.67394420685, \"z_real\": 0.0, \"z_imag\": 774.6204519266664, \"kind\": \"data\", \"fmt\": \"o\"}, {\"f\": 151991.10829529332, \"z_real\": 0.0, \"z_imag\": 954.9882984629282, \"kind\": \"data\", \"fmt\": \"o\"}, {\"f\": 187381.74228603867, \"z_real\": 0.0, \"z_imag\": 1177.3542099653498, \"kind\": \"data\", \"fmt\": \"o\"}, {\"f\": 231012.9700083158, \"z_real\": 0.0, \"z_imag\": 1451.4972989241683, \"kind\": \"data\", \"fmt\": \"o\"}, {\"f\": 284803.5868435805, \"z_real\": 0.0, \"z_imag\": 1789.4737122876302, \"kind\": \"data\", \"fmt\": \"o\"}, {\"f\": 351119.17342151277, \"z_real\": 0.0, \"z_imag\": 2206.14683151109, \"kind\": \"data\", \"fmt\": \"o\"}, {\"f\": 432876.12810830615, \"z_real\": 0.0, \"z_imag\": 2719.8409279588973, \"kind\": \"data\", \"fmt\": \"o\"}, {\"f\": 533669.9231206302, \"z_real\": 0.0, \"z_imag\": 3353.147019835203, \"kind\": \"data\", \"fmt\": \"o\"}, {\"f\": 657933.2246575683, \"z_real\": 0.0, \"z_imag\": 4133.916370273719, \"kind\": \"data\", \"fmt\": \"o\"}, {\"f\": 811130.8307896889, \"z_real\": 0.0, \"z_imag\": 5096.485318218145, \"kind\": \"data\", \"fmt\": \"o\"}, {\"f\": 1000000.0, \"z_real\": 0.0, \"z_imag\": 6283.185307179586, \"kind\": \"data\", \"fmt\": \"o\"}]}}, {\"mode\": \"vega-lite\"});\n",
              "</script>"
            ],
            "text/plain": [
              "alt.HConcatChart(...)"
            ]
          },
          "metadata": {},
          "execution_count": 50
        }
      ]
    },
    {
      "cell_type": "code",
      "source": [
        "# RC series circuit\n",
        "circuit = 'R0-C0'\n",
        "initial_guess = [20,100]\n",
        "\n",
        "# Creating the circuit\n",
        "circuit = CustomCircuit(circuit, initial_guess=initial_guess)\n",
        "\n",
        "# Defining 100 frequency points between 1mHz to 1MHz\n",
        "frequencies = np.logspace(-3,6,100)\n",
        "\n",
        "# Calculating total Impedance of circuit for all frequencies\n",
        "Z_fit = circuit.predict(frequencies)\n",
        "\n",
        "# Showing the circuit, plots\n",
        "print(circuit)\n",
        "circuit.plot(f_data=frequencies, Z_data=Z_fit, kind='altair')"
      ],
      "metadata": {
        "colab": {
          "base_uri": "https://localhost:8080/",
          "height": 616
        },
        "id": "_m6t40FMAqxB",
        "outputId": "d9dfadcb-53c6-4f2e-c35f-f57ada975b1f"
      },
      "execution_count": 56,
      "outputs": [
        {
          "output_type": "stream",
          "name": "stdout",
          "text": [
            "\n",
            "Circuit string: R0-C0\n",
            "Fit: False\n",
            "\n",
            "Initial guesses:\n",
            "     R0 = 2.00e+01 [Ohm]\n",
            "     C0 = 1.00e+02 [F]\n",
            "\n"
          ]
        },
        {
          "output_type": "execute_result",
          "data": {
            "text/html": [
              "\n",
              "<div id=\"altair-viz-ba816de3da8b4d72ab1cb11c179d1de6\"></div>\n",
              "<script type=\"text/javascript\">\n",
              "  var VEGA_DEBUG = (typeof VEGA_DEBUG == \"undefined\") ? {} : VEGA_DEBUG;\n",
              "  (function(spec, embedOpt){\n",
              "    let outputDiv = document.currentScript.previousElementSibling;\n",
              "    if (outputDiv.id !== \"altair-viz-ba816de3da8b4d72ab1cb11c179d1de6\") {\n",
              "      outputDiv = document.getElementById(\"altair-viz-ba816de3da8b4d72ab1cb11c179d1de6\");\n",
              "    }\n",
              "    const paths = {\n",
              "      \"vega\": \"https://cdn.jsdelivr.net/npm//vega@5?noext\",\n",
              "      \"vega-lib\": \"https://cdn.jsdelivr.net/npm//vega-lib?noext\",\n",
              "      \"vega-lite\": \"https://cdn.jsdelivr.net/npm//vega-lite@4.17.0?noext\",\n",
              "      \"vega-embed\": \"https://cdn.jsdelivr.net/npm//vega-embed@6?noext\",\n",
              "    };\n",
              "\n",
              "    function maybeLoadScript(lib, version) {\n",
              "      var key = `${lib.replace(\"-\", \"\")}_version`;\n",
              "      return (VEGA_DEBUG[key] == version) ?\n",
              "        Promise.resolve(paths[lib]) :\n",
              "        new Promise(function(resolve, reject) {\n",
              "          var s = document.createElement('script');\n",
              "          document.getElementsByTagName(\"head\")[0].appendChild(s);\n",
              "          s.async = true;\n",
              "          s.onload = () => {\n",
              "            VEGA_DEBUG[key] = version;\n",
              "            return resolve(paths[lib]);\n",
              "          };\n",
              "          s.onerror = () => reject(`Error loading script: ${paths[lib]}`);\n",
              "          s.src = paths[lib];\n",
              "        });\n",
              "    }\n",
              "\n",
              "    function showError(err) {\n",
              "      outputDiv.innerHTML = `<div class=\"error\" style=\"color:red;\">${err}</div>`;\n",
              "      throw err;\n",
              "    }\n",
              "\n",
              "    function displayChart(vegaEmbed) {\n",
              "      vegaEmbed(outputDiv, spec, embedOpt)\n",
              "        .catch(err => showError(`Javascript Error: ${err.message}<br>This usually means there's a typo in your chart specification. See the javascript console for the full traceback.`));\n",
              "    }\n",
              "\n",
              "    if(typeof define === \"function\" && define.amd) {\n",
              "      requirejs.config({paths});\n",
              "      require([\"vega-embed\"], displayChart, err => showError(`Error loading script: ${err.message}`));\n",
              "    } else {\n",
              "      maybeLoadScript(\"vega\", \"5\")\n",
              "        .then(() => maybeLoadScript(\"vega-lite\", \"4.17.0\"))\n",
              "        .then(() => maybeLoadScript(\"vega-embed\", \"6\"))\n",
              "        .catch(showError)\n",
              "        .then(() => displayChart(vegaEmbed));\n",
              "    }\n",
              "  })({\"config\": {\"view\": {\"continuousWidth\": 400, \"continuousHeight\": 300}, \"background\": \"#FFFFFF\"}, \"hconcat\": [{\"vconcat\": [{\"layer\": [{\"mark\": \"circle\", \"encoding\": {\"color\": {\"field\": \"kind\", \"type\": \"nominal\"}, \"size\": {\"condition\": {\"value\": 80, \"selection\": \"selector151\"}, \"value\": 30}, \"x\": {\"axis\": {\"title\": \"f [Hz]\"}, \"field\": \"f\", \"scale\": {\"nice\": false, \"type\": \"log\"}, \"type\": \"quantitative\"}, \"y\": {\"axis\": {\"title\": \"|Z| [\\u03a9]\"}, \"field\": \"mag\", \"type\": \"quantitative\"}}, \"height\": 175.0, \"selection\": {\"selector151\": {\"type\": \"single\", \"on\": \"mouseover\", \"nearest\": true, \"empty\": \"none\", \"fields\": [\"f\"]}, \"selector153\": {\"type\": \"interval\", \"bind\": \"scales\", \"encodings\": [\"x\", \"y\"]}}, \"transform\": [{\"calculate\": \"sqrt(pow(datum.z_real,2) + pow(datum.z_imag,2))\", \"as\": \"mag\"}, {\"calculate\": \"-(180/PI)*atan(datum.z_imag/datum.z_real)\", \"as\": \"neg_phase\"}], \"width\": 400}]}, {\"layer\": [{\"mark\": \"circle\", \"encoding\": {\"color\": {\"field\": \"kind\", \"type\": \"nominal\"}, \"size\": {\"condition\": {\"value\": 80, \"selection\": \"selector151\"}, \"value\": 30}, \"x\": {\"axis\": {\"title\": \"f [Hz]\"}, \"field\": \"f\", \"scale\": {\"nice\": false, \"type\": \"log\"}, \"type\": \"quantitative\"}, \"y\": {\"axis\": {\"title\": \"-\\u03d5 [\\u00b0]\"}, \"field\": \"neg_phase\", \"type\": \"quantitative\"}}, \"height\": 175.0, \"selection\": {\"selector151\": {\"type\": \"single\", \"on\": \"mouseover\", \"nearest\": true, \"empty\": \"none\", \"fields\": [\"f\"]}, \"selector153\": {\"type\": \"interval\", \"bind\": \"scales\", \"encodings\": [\"x\", \"y\"]}}, \"transform\": [{\"calculate\": \"sqrt(pow(datum.z_real,2) + pow(datum.z_imag,2))\", \"as\": \"mag\"}, {\"calculate\": \"-(180/PI)*atan(datum.z_imag/datum.z_real)\", \"as\": \"neg_phase\"}], \"width\": 400}]}]}, {\"layer\": [{\"mark\": \"circle\", \"encoding\": {\"color\": {\"field\": \"kind\", \"legend\": {\"title\": \"Legend\"}, \"type\": \"nominal\"}, \"size\": {\"condition\": {\"value\": 80, \"selection\": \"selector151\"}, \"value\": 30}, \"x\": {\"axis\": {\"title\": \"Z' [\\u03a9]\"}, \"field\": \"z_real\", \"scale\": {\"domain\": [20.0, 21.591549429327404], \"nice\": false, \"padding\": 5}, \"type\": \"quantitative\"}, \"y\": {\"axis\": {\"title\": \"-Z'' [\\u03a9]\"}, \"field\": \"neg_z_imag\", \"scale\": {\"domain\": [1.5915494309189535e-09, 1.5915494309189535], \"nice\": false, \"padding\": 5}, \"type\": \"quantitative\"}}, \"height\": 400, \"selection\": {\"selector151\": {\"type\": \"single\", \"on\": \"mouseover\", \"nearest\": true, \"empty\": \"none\", \"fields\": [\"f\"]}, \"selector152\": {\"type\": \"interval\", \"bind\": \"scales\", \"encodings\": [\"x\", \"y\"]}}, \"transform\": [{\"calculate\": \"-datum.z_imag\", \"as\": \"neg_z_imag\"}], \"width\": 400}]}], \"data\": {\"name\": \"data-ba83c20c99ad4df018cfd7e80290aee1\"}, \"$schema\": \"https://vega.github.io/schema/vega-lite/v4.17.0.json\", \"datasets\": {\"data-ba83c20c99ad4df018cfd7e80290aee1\": [{\"f\": 0.001, \"z_real\": 20.0, \"z_imag\": -1.5915494309189535, \"kind\": \"data\", \"fmt\": \"o\"}, {\"f\": 0.0012328467394420659, \"z_real\": 20.0, \"z_imag\": -1.2909548121441448, \"kind\": \"data\", \"fmt\": \"o\"}, {\"f\": 0.0015199110829529332, \"z_real\": 20.0, \"z_imag\": -1.0471332492864247, \"kind\": \"data\", \"fmt\": \"o\"}, {\"f\": 0.001873817422860383, \"z_real\": 20.0, \"z_imag\": -0.8493620624412024, \"kind\": \"data\", \"fmt\": \"o\"}, {\"f\": 0.0023101297000831605, \"z_real\": 20.0, \"z_imag\": -0.6889437553491738, \"kind\": \"data\", \"fmt\": \"o\"}, {\"f\": 0.002848035868435802, \"z_real\": 20.0, \"z_imag\": -0.5588235206437424, \"kind\": \"data\", \"fmt\": \"o\"}, {\"f\": 0.003511191734215131, \"z_real\": 20.0, \"z_imag\": -0.4532789865645768, \"kind\": \"data\", \"fmt\": \"o\"}, {\"f\": 0.004328761281083057, \"z_real\": 20.0, \"z_imag\": -0.3676685609516326, \"kind\": \"data\", \"fmt\": \"o\"}, {\"f\": 0.005336699231206312, \"z_real\": 20.0, \"z_imag\": -0.2982273052999463, \"kind\": \"data\", \"fmt\": \"o\"}, {\"f\": 0.006579332246575682, \"z_real\": 20.0, \"z_imag\": -0.24190136191211511, \"kind\": \"data\", \"fmt\": \"o\"}, {\"f\": 0.008111308307896872, \"z_real\": 20.0, \"z_imag\": -0.19621365265693072, \"kind\": \"data\", \"fmt\": \"o\"}, {\"f\": 0.01, \"z_real\": 20.0, \"z_imag\": -0.15915494309189532, \"kind\": \"data\", \"fmt\": \"o\"}, {\"f\": 0.012328467394420659, \"z_real\": 20.0, \"z_imag\": -0.12909548121441447, \"kind\": \"data\", \"fmt\": \"o\"}, {\"f\": 0.01519911082952934, \"z_real\": 20.0, \"z_imag\": -0.10471332492864241, \"kind\": \"data\", \"fmt\": \"o\"}, {\"f\": 0.01873817422860384, \"z_real\": 20.0, \"z_imag\": -0.08493620624412018, \"kind\": \"data\", \"fmt\": \"o\"}, {\"f\": 0.023101297000831605, \"z_real\": 20.0, \"z_imag\": -0.0688943755349174, \"kind\": \"data\", \"fmt\": \"o\"}, {\"f\": 0.02848035868435802, \"z_real\": 20.0, \"z_imag\": -0.05588235206437425, \"kind\": \"data\", \"fmt\": \"o\"}, {\"f\": 0.03511191734215131, \"z_real\": 20.0, \"z_imag\": -0.045327898656457685, \"kind\": \"data\", \"fmt\": \"o\"}, {\"f\": 0.04328761281083059, \"z_real\": 20.0, \"z_imag\": -0.03676685609516325, \"kind\": \"data\", \"fmt\": \"o\"}, {\"f\": 0.0533669923120631, \"z_real\": 20.0, \"z_imag\": -0.029822730529994637, \"kind\": \"data\", \"fmt\": \"o\"}, {\"f\": 0.06579332246575682, \"z_real\": 20.0, \"z_imag\": -0.02419013619121151, \"kind\": \"data\", \"fmt\": \"o\"}, {\"f\": 0.08111308307896872, \"z_real\": 20.0, \"z_imag\": -0.019621365265693073, \"kind\": \"data\", \"fmt\": \"o\"}, {\"f\": 0.1, \"z_real\": 20.0, \"z_imag\": -0.015915494309189534, \"kind\": \"data\", \"fmt\": \"o\"}, {\"f\": 0.12328467394420659, \"z_real\": 20.0, \"z_imag\": -0.012909548121441447, \"kind\": \"data\", \"fmt\": \"o\"}, {\"f\": 0.1519911082952933, \"z_real\": 20.0, \"z_imag\": -0.010471332492864248, \"kind\": \"data\", \"fmt\": \"o\"}, {\"f\": 0.1873817422860385, \"z_real\": 20.0, \"z_imag\": -0.008493620624412014, \"kind\": \"data\", \"fmt\": \"o\"}, {\"f\": 0.23101297000831605, \"z_real\": 20.0, \"z_imag\": -0.0068894375534917385, \"kind\": \"data\", \"fmt\": \"o\"}, {\"f\": 0.2848035868435802, \"z_real\": 20.0, \"z_imag\": -0.005588235206437425, \"kind\": \"data\", \"fmt\": \"o\"}, {\"f\": 0.3511191734215131, \"z_real\": 20.0, \"z_imag\": -0.0045327898656457675, \"kind\": \"data\", \"fmt\": \"o\"}, {\"f\": 0.4328761281083057, \"z_real\": 20.0, \"z_imag\": -0.0036766856095163266, \"kind\": \"data\", \"fmt\": \"o\"}, {\"f\": 0.5336699231206312, \"z_real\": 20.0, \"z_imag\": -0.002982273052999463, \"kind\": \"data\", \"fmt\": \"o\"}, {\"f\": 0.6579332246575682, \"z_real\": 20.0, \"z_imag\": -0.002419013619121151, \"kind\": \"data\", \"fmt\": \"o\"}, {\"f\": 0.8111308307896873, \"z_real\": 20.0, \"z_imag\": -0.0019621365265693074, \"kind\": \"data\", \"fmt\": \"o\"}, {\"f\": 1.0, \"z_real\": 20.0, \"z_imag\": -0.0015915494309189533, \"kind\": \"data\", \"fmt\": \"o\"}, {\"f\": 1.232846739442066, \"z_real\": 20.0, \"z_imag\": -0.0012909548121441447, \"kind\": \"data\", \"fmt\": \"o\"}, {\"f\": 1.5199110829529348, \"z_real\": 20.0, \"z_imag\": -0.0010471332492864238, \"kind\": \"data\", \"fmt\": \"o\"}, {\"f\": 1.873817422860385, \"z_real\": 20.0, \"z_imag\": -0.0008493620624412014, \"kind\": \"data\", \"fmt\": \"o\"}, {\"f\": 2.31012970008316, \"z_real\": 20.0, \"z_imag\": -0.000688943755349174, \"kind\": \"data\", \"fmt\": \"o\"}, {\"f\": 2.848035868435802, \"z_real\": 20.0, \"z_imag\": -0.0005588235206437425, \"kind\": \"data\", \"fmt\": \"o\"}, {\"f\": 3.511191734215131, \"z_real\": 20.0, \"z_imag\": -0.00045327898656457677, \"kind\": \"data\", \"fmt\": \"o\"}, {\"f\": 4.328761281083062, \"z_real\": 20.0, \"z_imag\": -0.00036766856095163224, \"kind\": \"data\", \"fmt\": \"o\"}, {\"f\": 5.336699231206313, \"z_real\": 20.0, \"z_imag\": -0.0002982273052999462, \"kind\": \"data\", \"fmt\": \"o\"}, {\"f\": 6.5793322465756825, \"z_real\": 20.0, \"z_imag\": -0.0002419013619121151, \"kind\": \"data\", \"fmt\": \"o\"}, {\"f\": 8.111308307896872, \"z_real\": 20.0, \"z_imag\": -0.00019621365265693076, \"kind\": \"data\", \"fmt\": \"o\"}, {\"f\": 10.0, \"z_real\": 20.0, \"z_imag\": -0.00015915494309189535, \"kind\": \"data\", \"fmt\": \"o\"}, {\"f\": 12.32846739442066, \"z_real\": 20.0, \"z_imag\": -0.00012909548121441445, \"kind\": \"data\", \"fmt\": \"o\"}, {\"f\": 15.199110829529332, \"z_real\": 20.0, \"z_imag\": -0.00010471332492864246, \"kind\": \"data\", \"fmt\": \"o\"}, {\"f\": 18.73817422860383, \"z_real\": 20.0, \"z_imag\": -8.493620624412023e-05, \"kind\": \"data\", \"fmt\": \"o\"}, {\"f\": 23.10129700083158, \"z_real\": 20.0, \"z_imag\": -6.889437553491747e-05, \"kind\": \"data\", \"fmt\": \"o\"}, {\"f\": 28.48035868435805, \"z_real\": 20.0, \"z_imag\": -5.58823520643742e-05, \"kind\": \"data\", \"fmt\": \"o\"}, {\"f\": 35.111917342151344, \"z_real\": 20.0, \"z_imag\": -4.532789865645764e-05, \"kind\": \"data\", \"fmt\": \"o\"}, {\"f\": 43.287612810830616, \"z_real\": 20.0, \"z_imag\": -3.676685609516323e-05, \"kind\": \"data\", \"fmt\": \"o\"}, {\"f\": 53.366992312063125, \"z_real\": 20.0, \"z_imag\": -2.982273052999462e-05, \"kind\": \"data\", \"fmt\": \"o\"}, {\"f\": 65.79332246575683, \"z_real\": 20.0, \"z_imag\": -2.4190136191211507e-05, \"kind\": \"data\", \"fmt\": \"o\"}, {\"f\": 81.11308307896873, \"z_real\": 20.0, \"z_imag\": -1.962136526569307e-05, \"kind\": \"data\", \"fmt\": \"o\"}, {\"f\": 100.0, \"z_real\": 20.0, \"z_imag\": -1.5915494309189534e-05, \"kind\": \"data\", \"fmt\": \"o\"}, {\"f\": 123.28467394420659, \"z_real\": 20.0, \"z_imag\": -1.2909548121441447e-05, \"kind\": \"data\", \"fmt\": \"o\"}, {\"f\": 151.99110829529332, \"z_real\": 20.0, \"z_imag\": -1.0471332492864247e-05, \"kind\": \"data\", \"fmt\": \"o\"}, {\"f\": 187.3817422860383, \"z_real\": 20.0, \"z_imag\": -8.493620624412024e-06, \"kind\": \"data\", \"fmt\": \"o\"}, {\"f\": 231.01297000831627, \"z_real\": 20.0, \"z_imag\": -6.889437553491733e-06, \"kind\": \"data\", \"fmt\": \"o\"}, {\"f\": 284.8035868435805, \"z_real\": 20.0, \"z_imag\": -5.588235206437419e-06, \"kind\": \"data\", \"fmt\": \"o\"}, {\"f\": 351.11917342151344, \"z_real\": 20.0, \"z_imag\": -4.5327898656457635e-06, \"kind\": \"data\", \"fmt\": \"o\"}, {\"f\": 432.87612810830615, \"z_real\": 20.0, \"z_imag\": -3.6766856095163234e-06, \"kind\": \"data\", \"fmt\": \"o\"}, {\"f\": 533.6699231206312, \"z_real\": 20.0, \"z_imag\": -2.9822730529994628e-06, \"kind\": \"data\", \"fmt\": \"o\"}, {\"f\": 657.9332246575682, \"z_real\": 20.0, \"z_imag\": -2.419013619121151e-06, \"kind\": \"data\", \"fmt\": \"o\"}, {\"f\": 811.1308307896873, \"z_real\": 20.0, \"z_imag\": -1.9621365265693073e-06, \"kind\": \"data\", \"fmt\": \"o\"}, {\"f\": 1000.0, \"z_real\": 20.0, \"z_imag\": -1.5915494309189535e-06, \"kind\": \"data\", \"fmt\": \"o\"}, {\"f\": 1232.8467394420659, \"z_real\": 20.0, \"z_imag\": -1.2909548121441447e-06, \"kind\": \"data\", \"fmt\": \"o\"}, {\"f\": 1519.9110829529332, \"z_real\": 20.0, \"z_imag\": -1.0471332492864247e-06, \"kind\": \"data\", \"fmt\": \"o\"}, {\"f\": 1873.817422860383, \"z_real\": 20.0, \"z_imag\": -8.493620624412024e-07, \"kind\": \"data\", \"fmt\": \"o\"}, {\"f\": 2310.129700083163, \"z_real\": 20.0, \"z_imag\": -6.889437553491731e-07, \"kind\": \"data\", \"fmt\": \"o\"}, {\"f\": 2848.035868435805, \"z_real\": 20.0, \"z_imag\": -5.58823520643742e-07, \"kind\": \"data\", \"fmt\": \"o\"}, {\"f\": 3511.1917342151346, \"z_real\": 20.0, \"z_imag\": -4.532789865645763e-07, \"kind\": \"data\", \"fmt\": \"o\"}, {\"f\": 4328.7612810830615, \"z_real\": 20.0, \"z_imag\": -3.676685609516323e-07, \"kind\": \"data\", \"fmt\": \"o\"}, {\"f\": 5336.699231206313, \"z_real\": 20.0, \"z_imag\": -2.9822730529994623e-07, \"kind\": \"data\", \"fmt\": \"o\"}, {\"f\": 6579.332246575683, \"z_real\": 20.0, \"z_imag\": -2.4190136191211507e-07, \"kind\": \"data\", \"fmt\": \"o\"}, {\"f\": 8111.308307896872, \"z_real\": 20.0, \"z_imag\": -1.9621365265693074e-07, \"kind\": \"data\", \"fmt\": \"o\"}, {\"f\": 10000.0, \"z_real\": 20.0, \"z_imag\": -1.5915494309189535e-07, \"kind\": \"data\", \"fmt\": \"o\"}, {\"f\": 12328.467394420659, \"z_real\": 20.0, \"z_imag\": -1.2909548121441446e-07, \"kind\": \"data\", \"fmt\": \"o\"}, {\"f\": 15199.11082952933, \"z_real\": 20.0, \"z_imag\": -1.0471332492864247e-07, \"kind\": \"data\", \"fmt\": \"o\"}, {\"f\": 18738.174228603868, \"z_real\": 20.0, \"z_imag\": -8.493620624412005e-08, \"kind\": \"data\", \"fmt\": \"o\"}, {\"f\": 23101.297000831626, \"z_real\": 20.0, \"z_imag\": -6.889437553491733e-08, \"kind\": \"data\", \"fmt\": \"o\"}, {\"f\": 28480.35868435805, \"z_real\": 20.0, \"z_imag\": -5.5882352064374196e-08, \"kind\": \"data\", \"fmt\": \"o\"}, {\"f\": 35111.91734215135, \"z_real\": 20.0, \"z_imag\": -4.532789865645762e-08, \"kind\": \"data\", \"fmt\": \"o\"}, {\"f\": 43287.612810830615, \"z_real\": 20.0, \"z_imag\": -3.6766856095163227e-08, \"kind\": \"data\", \"fmt\": \"o\"}, {\"f\": 53366.99231206313, \"z_real\": 20.0, \"z_imag\": -2.9822730529994625e-08, \"kind\": \"data\", \"fmt\": \"o\"}, {\"f\": 65793.32246575682, \"z_real\": 20.0, \"z_imag\": -2.419013619121151e-08, \"kind\": \"data\", \"fmt\": \"o\"}, {\"f\": 81113.08307896872, \"z_real\": 20.0, \"z_imag\": -1.9621365265693074e-08, \"kind\": \"data\", \"fmt\": \"o\"}, {\"f\": 100000.0, \"z_real\": 20.0, \"z_imag\": -1.5915494309189534e-08, \"kind\": \"data\", \"fmt\": \"o\"}, {\"f\": 123284.67394420685, \"z_real\": 20.0, \"z_imag\": -1.2909548121441419e-08, \"kind\": \"data\", \"fmt\": \"o\"}, {\"f\": 151991.10829529332, \"z_real\": 20.0, \"z_imag\": -1.0471332492864247e-08, \"kind\": \"data\", \"fmt\": \"o\"}, {\"f\": 187381.74228603867, \"z_real\": 20.0, \"z_imag\": -8.493620624412007e-09, \"kind\": \"data\", \"fmt\": \"o\"}, {\"f\": 231012.9700083158, \"z_real\": 20.0, \"z_imag\": -6.889437553491746e-09, \"kind\": \"data\", \"fmt\": \"o\"}, {\"f\": 284803.5868435805, \"z_real\": 20.0, \"z_imag\": -5.58823520643742e-09, \"kind\": \"data\", \"fmt\": \"o\"}, {\"f\": 351119.17342151277, \"z_real\": 20.0, \"z_imag\": -4.532789865645772e-09, \"kind\": \"data\", \"fmt\": \"o\"}, {\"f\": 432876.12810830615, \"z_real\": 20.0, \"z_imag\": -3.676685609516323e-09, \"kind\": \"data\", \"fmt\": \"o\"}, {\"f\": 533669.9231206302, \"z_real\": 20.0, \"z_imag\": -2.9822730529994686e-09, \"kind\": \"data\", \"fmt\": \"o\"}, {\"f\": 657933.2246575683, \"z_real\": 20.0, \"z_imag\": -2.4190136191211507e-09, \"kind\": \"data\", \"fmt\": \"o\"}, {\"f\": 811130.8307896889, \"z_real\": 20.0, \"z_imag\": -1.9621365265693032e-09, \"kind\": \"data\", \"fmt\": \"o\"}, {\"f\": 1000000.0, \"z_real\": 20.0, \"z_imag\": -1.5915494309189535e-09, \"kind\": \"data\", \"fmt\": \"o\"}]}}, {\"mode\": \"vega-lite\"});\n",
              "</script>"
            ],
            "text/plain": [
              "alt.HConcatChart(...)"
            ]
          },
          "metadata": {},
          "execution_count": 56
        }
      ]
    },
    {
      "cell_type": "code",
      "source": [
        "# RC parallel circuit\n",
        "circuit = 'p(R0,C0)'\n",
        "initial_guess = [20,0.1]\n",
        "\n",
        "# Creating the circuit\n",
        "circuit = CustomCircuit(circuit, initial_guess=initial_guess)\n",
        "\n",
        "# Defining 100 frequency points between 1mHz to 1MHz\n",
        "frequencies = np.logspace(-3,6,100)\n",
        "\n",
        "# Calculating total Impedance of circuit for all frequencies\n",
        "Z_fit = circuit.predict(frequencies)\n",
        "\n",
        "# Showing the circuit, plots\n",
        "print(circuit)\n",
        "circuit.plot(f_data=frequencies, Z_data=Z_fit, kind='altair')"
      ],
      "metadata": {
        "colab": {
          "base_uri": "https://localhost:8080/",
          "height": 614
        },
        "id": "nFlCrqQOA0sJ",
        "outputId": "15e8fa6d-9f32-4fa7-e515-228c93bdb2dc"
      },
      "execution_count": 59,
      "outputs": [
        {
          "output_type": "stream",
          "name": "stdout",
          "text": [
            "\n",
            "Circuit string: p(R0,C0)\n",
            "Fit: False\n",
            "\n",
            "Initial guesses:\n",
            "     R0 = 2.00e+01 [Ohm]\n",
            "     C0 = 1.00e-01 [F]\n",
            "\n"
          ]
        },
        {
          "output_type": "execute_result",
          "data": {
            "text/html": [
              "\n",
              "<div id=\"altair-viz-b4149ed3bb1b4084b68963d9ee310724\"></div>\n",
              "<script type=\"text/javascript\">\n",
              "  var VEGA_DEBUG = (typeof VEGA_DEBUG == \"undefined\") ? {} : VEGA_DEBUG;\n",
              "  (function(spec, embedOpt){\n",
              "    let outputDiv = document.currentScript.previousElementSibling;\n",
              "    if (outputDiv.id !== \"altair-viz-b4149ed3bb1b4084b68963d9ee310724\") {\n",
              "      outputDiv = document.getElementById(\"altair-viz-b4149ed3bb1b4084b68963d9ee310724\");\n",
              "    }\n",
              "    const paths = {\n",
              "      \"vega\": \"https://cdn.jsdelivr.net/npm//vega@5?noext\",\n",
              "      \"vega-lib\": \"https://cdn.jsdelivr.net/npm//vega-lib?noext\",\n",
              "      \"vega-lite\": \"https://cdn.jsdelivr.net/npm//vega-lite@4.17.0?noext\",\n",
              "      \"vega-embed\": \"https://cdn.jsdelivr.net/npm//vega-embed@6?noext\",\n",
              "    };\n",
              "\n",
              "    function maybeLoadScript(lib, version) {\n",
              "      var key = `${lib.replace(\"-\", \"\")}_version`;\n",
              "      return (VEGA_DEBUG[key] == version) ?\n",
              "        Promise.resolve(paths[lib]) :\n",
              "        new Promise(function(resolve, reject) {\n",
              "          var s = document.createElement('script');\n",
              "          document.getElementsByTagName(\"head\")[0].appendChild(s);\n",
              "          s.async = true;\n",
              "          s.onload = () => {\n",
              "            VEGA_DEBUG[key] = version;\n",
              "            return resolve(paths[lib]);\n",
              "          };\n",
              "          s.onerror = () => reject(`Error loading script: ${paths[lib]}`);\n",
              "          s.src = paths[lib];\n",
              "        });\n",
              "    }\n",
              "\n",
              "    function showError(err) {\n",
              "      outputDiv.innerHTML = `<div class=\"error\" style=\"color:red;\">${err}</div>`;\n",
              "      throw err;\n",
              "    }\n",
              "\n",
              "    function displayChart(vegaEmbed) {\n",
              "      vegaEmbed(outputDiv, spec, embedOpt)\n",
              "        .catch(err => showError(`Javascript Error: ${err.message}<br>This usually means there's a typo in your chart specification. See the javascript console for the full traceback.`));\n",
              "    }\n",
              "\n",
              "    if(typeof define === \"function\" && define.amd) {\n",
              "      requirejs.config({paths});\n",
              "      require([\"vega-embed\"], displayChart, err => showError(`Error loading script: ${err.message}`));\n",
              "    } else {\n",
              "      maybeLoadScript(\"vega\", \"5\")\n",
              "        .then(() => maybeLoadScript(\"vega-lite\", \"4.17.0\"))\n",
              "        .then(() => maybeLoadScript(\"vega-embed\", \"6\"))\n",
              "        .catch(showError)\n",
              "        .then(() => displayChart(vegaEmbed));\n",
              "    }\n",
              "  })({\"config\": {\"view\": {\"continuousWidth\": 400, \"continuousHeight\": 300}, \"background\": \"#FFFFFF\"}, \"hconcat\": [{\"vconcat\": [{\"layer\": [{\"mark\": \"circle\", \"encoding\": {\"color\": {\"field\": \"kind\", \"type\": \"nominal\"}, \"size\": {\"condition\": {\"value\": 80, \"selection\": \"selector160\"}, \"value\": 30}, \"x\": {\"axis\": {\"title\": \"f [Hz]\"}, \"field\": \"f\", \"scale\": {\"nice\": false, \"type\": \"log\"}, \"type\": \"quantitative\"}, \"y\": {\"axis\": {\"title\": \"|Z| [\\u03a9]\"}, \"field\": \"mag\", \"type\": \"quantitative\"}}, \"height\": 175.0, \"selection\": {\"selector160\": {\"type\": \"single\", \"on\": \"mouseover\", \"nearest\": true, \"empty\": \"none\", \"fields\": [\"f\"]}, \"selector162\": {\"type\": \"interval\", \"bind\": \"scales\", \"encodings\": [\"x\", \"y\"]}}, \"transform\": [{\"calculate\": \"sqrt(pow(datum.z_real,2) + pow(datum.z_imag,2))\", \"as\": \"mag\"}, {\"calculate\": \"-(180/PI)*atan(datum.z_imag/datum.z_real)\", \"as\": \"neg_phase\"}], \"width\": 400}]}, {\"layer\": [{\"mark\": \"circle\", \"encoding\": {\"color\": {\"field\": \"kind\", \"type\": \"nominal\"}, \"size\": {\"condition\": {\"value\": 80, \"selection\": \"selector160\"}, \"value\": 30}, \"x\": {\"axis\": {\"title\": \"f [Hz]\"}, \"field\": \"f\", \"scale\": {\"nice\": false, \"type\": \"log\"}, \"type\": \"quantitative\"}, \"y\": {\"axis\": {\"title\": \"-\\u03d5 [\\u00b0]\"}, \"field\": \"neg_phase\", \"type\": \"quantitative\"}}, \"height\": 175.0, \"selection\": {\"selector160\": {\"type\": \"single\", \"on\": \"mouseover\", \"nearest\": true, \"empty\": \"none\", \"fields\": [\"f\"]}, \"selector162\": {\"type\": \"interval\", \"bind\": \"scales\", \"encodings\": [\"x\", \"y\"]}}, \"transform\": [{\"calculate\": \"sqrt(pow(datum.z_real,2) + pow(datum.z_imag,2))\", \"as\": \"mag\"}, {\"calculate\": \"-(180/PI)*atan(datum.z_imag/datum.z_real)\", \"as\": \"neg_phase\"}], \"width\": 400}]}]}, {\"layer\": [{\"mark\": \"circle\", \"encoding\": {\"color\": {\"field\": \"kind\", \"legend\": {\"title\": \"Legend\"}, \"type\": \"nominal\"}, \"size\": {\"condition\": {\"value\": 80, \"selection\": \"selector160\"}, \"value\": 30}, \"x\": {\"axis\": {\"title\": \"Z' [\\u03a9]\"}, \"field\": \"z_real\", \"scale\": {\"domain\": [1.2665147955292146e-13, 19.996842225247452], \"nice\": false, \"padding\": 5}, \"type\": \"quantitative\"}, \"y\": {\"axis\": {\"title\": \"-Z'' [\\u03a9]\"}, \"field\": \"neg_z_imag\", \"scale\": {\"domain\": [1.5915494309189436e-06, 19.996843816796755], \"nice\": false, \"padding\": 5}, \"type\": \"quantitative\"}}, \"height\": 400, \"selection\": {\"selector160\": {\"type\": \"single\", \"on\": \"mouseover\", \"nearest\": true, \"empty\": \"none\", \"fields\": [\"f\"]}, \"selector161\": {\"type\": \"interval\", \"bind\": \"scales\", \"encodings\": [\"x\", \"y\"]}}, \"transform\": [{\"calculate\": \"-datum.z_imag\", \"as\": \"neg_z_imag\"}], \"width\": 400}]}], \"data\": {\"name\": \"data-d1e3a65666cb8fbd19b831735763f698\"}, \"$schema\": \"https://vega.github.io/schema/vega-lite/v4.17.0.json\", \"datasets\": {\"data-d1e3a65666cb8fbd19b831735763f698\": [{\"f\": 0.001, \"z_real\": 19.996842225247452, \"z_imag\": -0.2512877305193263, \"kind\": \"data\", \"fmt\": \"o\"}, {\"f\": 0.0012328467394420659, \"z_real\": 19.995200857108678, \"z_imag\": -0.3097738304859592, \"kind\": \"data\", \"fmt\": \"o\"}, {\"f\": 0.0015199110829529332, \"z_real\": 19.99270663942406, \"z_imag\": -0.3818560179050415, \"kind\": \"data\", \"fmt\": \"o\"}, {\"f\": 0.001873817422860383, \"z_real\": 19.988916841739492, \"z_imag\": -0.47068070792538463, \"kind\": \"data\", \"fmt\": \"o\"}, {\"f\": 0.0023101297000831605, \"z_real\": 19.983159436908203, \"z_imag\": -0.5801100389328658, \"kind\": \"data\", \"fmt\": \"o\"}, {\"f\": 0.002848035868435802, \"z_real\": 19.97441504209059, \"z_imag\": -0.7148738127228741, \"kind\": \"data\", \"fmt\": \"o\"}, {\"f\": 0.003511191734215131, \"z_real\": 19.961138985189418, \"z_imag\": -0.8807440705105634, \"kind\": \"data\", \"fmt\": \"o\"}, {\"f\": 0.004328761281083057, \"z_real\": 19.940994321234633, \"z_imag\": -1.0847266499817971, \"kind\": \"data\", \"fmt\": \"o\"}, {\"f\": 0.005336699231206312, \"z_real\": 19.91045396823072, \"z_imag\": -1.3352535877427791, \"kind\": \"data\", \"fmt\": \"o\"}, {\"f\": 0.006579332246575682, \"z_real\": 19.86421407617875, \"z_imag\": -1.642339995042739, \"kind\": \"data\", \"fmt\": \"o\"}, {\"f\": 0.008111308307896872, \"z_real\": 19.794343402372018, \"z_imag\": -2.0176316106791394, \"kind\": \"data\", \"fmt\": \"o\"}, {\"f\": 0.01, \"z_real\": 19.68908247196997, \"z_imag\": -2.4742030739945773, \"kind\": \"data\", \"fmt\": \"o\"}, {\"f\": 0.012328467394420659, \"z_real\": 19.531221889884915, \"z_imag\": -3.0258567854045237, \"kind\": \"data\", \"fmt\": \"o\"}, {\"f\": 0.01519911082952934, \"z_real\": 19.296077063195234, \"z_imag\": -3.685505560318073, \"kind\": \"data\", \"fmt\": \"o\"}, {\"f\": 0.01873817422860384, \"z_real\": 18.949325872731222, \"z_imag\": -4.462013718453081, \"kind\": \"data\", \"fmt\": \"o\"}, {\"f\": 0.023101297000831605, \"z_real\": 18.445525877514964, \"z_imag\": -5.354726197689769, \"kind\": \"data\", \"fmt\": \"o\"}, {\"f\": 0.02848035868435802, \"z_real\": 17.729103168339638, \"z_imag\": -6.345152812435816, \"kind\": \"data\", \"fmt\": \"o\"}, {\"f\": 0.03511191734215131, \"z_real\": 16.74083759371793, \"z_imag\": -7.386549162844517, \"kind\": \"data\", \"fmt\": \"o\"}, {\"f\": 0.04328761281083059, \"z_real\": 15.433273088230393, \"z_imag\": -8.395209559547121, \"kind\": \"data\", \"fmt\": \"o\"}, {\"f\": 0.0533669923120631, \"z_real\": 13.795541001774989, \"z_imag\": -9.251695439423246, \"kind\": \"data\", \"fmt\": \"o\"}, {\"f\": 0.06579332246575682, \"z_real\": 11.879513820674937, \"z_imag\": -9.821783330836203, \"kind\": \"data\", \"fmt\": \"o\"}, {\"f\": 0.08111308307896872, \"z_real\": 9.808890906854115, \"z_imag\": -9.998173698957071, \"kind\": \"data\", \"fmt\": \"o\"}, {\"f\": 0.1, \"z_real\": 7.7545327347830275, \"z_imag\": -9.744633228646371, \"kind\": \"data\", \"fmt\": \"o\"}, {\"f\": 0.12328467394420659, \"z_real\": 5.882097972691648, \"z_imag\": -9.112786779766646, \"kind\": \"data\", \"fmt\": \"o\"}, {\"f\": 0.1519911082952933, \"z_real\": 4.302916175909411, \"z_imag\": -8.218469194520678, \"kind\": \"data\", \"fmt\": \"o\"}, {\"f\": 0.1873817422860385, \"z_real\": 3.0559303666111726, \"z_imag\": -7.195824964981233, \"kind\": \"data\", \"fmt\": \"o\"}, {\"f\": 0.23101297000831605, \"z_real\": 2.121480731339146, \"z_imag\": -6.158647102516887, \"kind\": \"data\", \"fmt\": \"o\"}, {\"f\": 0.2848035868435802, \"z_real\": 1.4483449929471557, \"z_imag\": -5.183550582404692, \"kind\": \"data\", \"fmt\": \"o\"}, {\"f\": 0.3511191734215131, \"z_real\": 0.977119029940224, \"z_imag\": -4.311336103823634, \"kind\": \"data\", \"fmt\": \"o\"}, {\"f\": 0.4328761281083057, \"z_real\": 0.6538054698059793, \"z_imag\": -3.556493751403391, \"kind\": \"data\", \"fmt\": \"o\"}, {\"f\": 0.5336699231206312, \"z_real\": 0.435024901048596, \"z_imag\": -2.9174049010104133, \"kind\": \"data\", \"fmt\": \"o\"}, {\"f\": 0.6579332246575682, \"z_real\": 0.2883628647415478, \"z_imag\": -2.384135934268221, \"kind\": \"data\", \"fmt\": \"o\"}, {\"f\": 0.8111308307896873, \"z_real\": 0.19066385746961156, \"z_imag\": -1.9434311006174205, \"kind\": \"data\", \"fmt\": \"o\"}, {\"f\": 1.0, \"z_real\": 0.12585449664251408, \"z_imag\": -1.581534248293454, \"kind\": \"data\", \"fmt\": \"o\"}, {\"f\": 1.232846739442066, \"z_real\": 0.08298247725899177, \"z_imag\": -1.2855984807270877, \"kind\": \"data\", \"fmt\": \"o\"}, {\"f\": 1.5199110829529348, \"z_real\": 0.05467452717496643, \"z_imag\": -1.0442706735217275, \"kind\": \"data\", \"fmt\": \"o\"}, {\"f\": 1.873817422860385, \"z_real\": 0.0360058576590172, \"z_imag\": -0.84783296196514, \"kind\": \"data\", \"fmt\": \"o\"}, {\"f\": 2.31012970008316, \"z_real\": 0.02370404747170725, \"z_imag\": -0.6881272175750673, \"kind\": \"data\", \"fmt\": \"o\"}, {\"f\": 2.848035868435802, \"z_real\": 0.015602005729979518, \"z_imag\": -0.5583875822551859, \"kind\": \"data\", \"fmt\": \"o\"}, {\"f\": 3.511191734215131, \"z_real\": 0.010267817871177698, \"z_imag\": -0.4530462772606329, \"kind\": \"data\", \"fmt\": \"o\"}, {\"f\": 4.328761281083062, \"z_real\": 0.006756725097481872, \"z_imag\": -0.3675443491819654, \"kind\": \"data\", \"fmt\": \"o\"}, {\"f\": 5.336699231206313, \"z_real\": 0.004445987721226197, \"z_imag\": -0.29816100955307123, \"kind\": \"data\", \"fmt\": \"o\"}, {\"f\": 6.5793322465756825, \"z_real\": 0.0029253854881371904, \"z_imag\": -0.24186597917543012, \"kind\": \"data\", \"fmt\": \"o\"}, {\"f\": 8.111308307896872, \"z_real\": 0.0019248046129792193, \"z_imag\": -0.19619476900974256, \"kind\": \"data\", \"fmt\": \"o\"}, {\"f\": 10.0, \"z_real\": 0.0012664345976214492, \"z_imag\": -0.15914486512557963, \"kind\": \"data\", \"fmt\": \"o\"}, {\"f\": 12.32846739442066, \"z_real\": 0.0008332474469872943, \"z_imag\": -0.1290901027904075, \"kind\": \"data\", \"fmt\": \"o\"}, {\"f\": 15.199110829529332, \"z_real\": 0.0005482289927172063, \"z_imag\": -0.10471045458460998, \"kind\": \"data\", \"fmt\": \"o\"}, {\"f\": 18.73817422860383, \"z_real\": 0.00036070145116301754, \"z_imag\": -0.0849346744134778, \"kind\": \"data\", \"fmt\": \"o\"}, {\"f\": 23.10129700083158, \"z_real\": 0.00023731893297009935, \"z_imag\": -0.06889355803793298, \"kind\": \"data\", \"fmt\": \"o\"}, {\"f\": 28.48035868435805, \"z_real\": 0.00015614064460777154, \"z_imag\": -0.0558819157890505, \"kind\": \"data\", \"fmt\": \"o\"}, {\"f\": 35.111917342151344, \"z_real\": 0.00010273039215112069, \"z_imag\": -0.045327665828817414, \"kind\": \"data\", \"fmt\": \"o\"}, {\"f\": 43.287612810830616, \"z_real\": 6.758985693591209e-05, \"z_imag\": -0.036766731841836056, \"kind\": \"data\", \"fmt\": \"o\"}, {\"f\": 53.366992312063125, \"z_real\": 4.446966393546328e-05, \"z_imag\": -0.0298226642196544, \"kind\": \"data\", \"fmt\": \"o\"}, {\"f\": 65.79332246575683, \"z_real\": 2.9258091645609077e-05, \"z_imag\": -0.024190100803350423, \"kind\": \"data\", \"fmt\": \"o\"}, {\"f\": 81.11308307896873, \"z_real\": 1.9249880216575078e-05, \"z_imag\": -0.01962134638024652, \"kind\": \"data\", \"fmt\": \"o\"}, {\"f\": 100.0, \"z_real\": 1.2665139934998664e-05, \"z_imag\": -0.015915484230591404, \"kind\": \"data\", \"fmt\": \"o\"}, {\"f\": 123.28467394420659, \"z_real\": 8.332818163196244e-06, \"z_imag\": -0.012909542742795592, \"kind\": \"data\", \"fmt\": \"o\"}, {\"f\": 151.99110829529332, \"z_real\": 5.482438705948607e-06, \"z_imag\": -0.010471329622442318, \"kind\": \"data\", \"fmt\": \"o\"}, {\"f\": 187.3817422860383, \"z_real\": 3.607078915020833e-06, \"z_imag\": -0.008493619092554031, \"kind\": \"data\", \"fmt\": \"o\"}, {\"f\": 231.01297000831627, \"z_real\": 2.373217208565078e-06, \"z_imag\": -0.006889436735985144, \"kind\": \"data\", \"fmt\": \"o\"}, {\"f\": 284.8035868435805, \"z_real\": 1.561418514221935e-06, \"z_imag\": -0.005588234770158723, \"kind\": \"data\", \"fmt\": \"o\"}, {\"f\": 351.11917342151344, \"z_real\": 1.0273091455368399e-06, \"z_imag\": -0.004532789632816938, \"kind\": \"data\", \"fmt\": \"o\"}, {\"f\": 432.87612810830615, \"z_real\": 6.759008307191234e-07, \"z_imag\": -0.00367668548526258, \"kind\": \"data\", \"fmt\": \"o\"}, {\"f\": 533.6699231206312, \"z_real\": 4.4469761824453793e-07, \"z_imag\": -0.002982272986688976, \"kind\": \"data\", \"fmt\": \"o\"}, {\"f\": 657.9332246575682, \"z_real\": 2.9258134019448833e-07, \"z_imag\": -0.0024190135837332386, \"kind\": \"data\", \"fmt\": \"o\"}, {\"f\": 811.1308307896873, \"z_real\": 1.9249898559208025e-07, \"z_imag\": -0.001962136507683842, \"kind\": \"data\", \"fmt\": \"o\"}, {\"f\": 1000.0, \"z_real\": 1.2665147875089238e-07, \"z_imag\": -0.001591549420840349, \"kind\": \"data\", \"fmt\": \"o\"}, {\"f\": 1232.8467394420659, \"z_real\": 8.33282160027266e-08, \"z_imag\": -0.0012909548067654964, \"kind\": \"data\", \"fmt\": \"o\"}, {\"f\": 1519.9110829529332, \"z_real\": 5.482440193777151e-08, \"z_imag\": -0.0010471332464160018, \"kind\": \"data\", \"fmt\": \"o\"}, {\"f\": 1873.817422860383, \"z_real\": 3.607079559066353e-08, \"z_imag\": -0.0008493620609093441, \"kind\": \"data\", \"fmt\": \"o\"}, {\"f\": 2310.129700083163, \"z_real\": 2.373217487357026e-08, \"z_imag\": -0.0006889437545316664, \"kind\": \"data\", \"fmt\": \"o\"}, {\"f\": 2848.035868435805, \"z_real\": 1.5614186349043193e-08, \"z_imag\": -0.0005588235202074632, \"kind\": \"data\", \"fmt\": \"o\"}, {\"f\": 3511.1917342151346, \"z_real\": 1.0273091977773644e-08, \"z_imag\": -0.0004532789863317474, \"kind\": \"data\", \"fmt\": \"o\"}, {\"f\": 4328.7612810830615, \"z_real\": 6.759008533327996e-09, \"z_imag\": -0.0003676685608273785, \"kind\": \"data\", \"fmt\": \"o\"}, {\"f\": 5336.699231206313, \"z_real\": 4.446976280334587e-09, \"z_imag\": -0.00029822730523363576, \"kind\": \"data\", \"fmt\": \"o\"}, {\"f\": 6579.332246575683, \"z_real\": 2.925813444318784e-09, \"z_imag\": -0.00024190136187672714, \"kind\": \"data\", \"fmt\": \"o\"}, {\"f\": 8111.308307896872, \"z_real\": 1.9249898742634535e-09, \"z_imag\": -0.00019621365263804526, \"kind\": \"data\", \"fmt\": \"o\"}, {\"f\": 10000.0, \"z_real\": 1.266514795449019e-09, \"z_imag\": -0.00015915494308181672, \"kind\": \"data\", \"fmt\": \"o\"}, {\"f\": 12328.467394420659, \"z_real\": 8.332821634643438e-10, \"z_imag\": -0.0001290954812090358, \"kind\": \"data\", \"fmt\": \"o\"}, {\"f\": 15199.11082952933, \"z_real\": 5.482440208655442e-10, \"z_imag\": -0.00010471332492577204, \"kind\": \"data\", \"fmt\": \"o\"}, {\"f\": 18738.174228603868, \"z_real\": 3.607079565506794e-10, \"z_imag\": -8.49362062425882e-05, \"kind\": \"data\", \"fmt\": \"o\"}, {\"f\": 23101.297000831626, \"z_real\": 2.3732174901449464e-10, \"z_imag\": -6.889437553409981e-05, \"kind\": \"data\", \"fmt\": \"o\"}, {\"f\": 28480.35868435805, \"z_real\": 1.561418636111143e-10, \"z_imag\": -5.588235206393791e-05, \"kind\": \"data\", \"fmt\": \"o\"}, {\"f\": 35111.91734215135, \"z_real\": 1.0273091982997697e-10, \"z_imag\": -4.5327898656224794e-05, \"kind\": \"data\", \"fmt\": \"o\"}, {\"f\": 43287.612810830615, \"z_real\": 6.759008535589363e-11, \"z_imag\": -3.676685609503897e-05, \"kind\": \"data\", \"fmt\": \"o\"}, {\"f\": 53366.99231206313, \"z_real\": 4.446976281313479e-11, \"z_imag\": -2.9822730529928312e-05, \"kind\": \"data\", \"fmt\": \"o\"}, {\"f\": 65793.32246575682, \"z_real\": 2.925813444742524e-11, \"z_imag\": -2.4190136191176118e-05, \"kind\": \"data\", \"fmt\": \"o\"}, {\"f\": 81113.08307896872, \"z_real\": 1.92498987444688e-11, \"z_imag\": -1.9621365265674187e-05, \"kind\": \"data\", \"fmt\": \"o\"}, {\"f\": 100000.0, \"z_real\": 1.2665147955284201e-11, \"z_imag\": -1.5915494309179454e-05, \"kind\": \"data\", \"fmt\": \"o\"}, {\"f\": 123284.67394420685, \"z_real\": 8.332821634987114e-12, \"z_imag\": -1.2909548121436041e-05, \"kind\": \"data\", \"fmt\": \"o\"}, {\"f\": 151991.10829529332, \"z_real\": 5.482440208804225e-12, \"z_imag\": -1.0471332492861375e-05, \"kind\": \"data\", \"fmt\": \"o\"}, {\"f\": 187381.74228603867, \"z_real\": 3.6070795655712002e-12, \"z_imag\": -8.493620624410475e-06, \"kind\": \"data\", \"fmt\": \"o\"}, {\"f\": 231012.9700083158, \"z_real\": 2.3732174901728355e-12, \"z_imag\": -6.889437553490928e-06, \"kind\": \"data\", \"fmt\": \"o\"}, {\"f\": 284803.5868435805, \"z_real\": 1.5614186361232116e-12, \"z_imag\": -5.588235206436983e-06, \"kind\": \"data\", \"fmt\": \"o\"}, {\"f\": 351119.17342151277, \"z_real\": 1.027309198304998e-12, \"z_imag\": -4.532789865645539e-06, \"kind\": \"data\", \"fmt\": \"o\"}, {\"f\": 432876.12810830615, \"z_real\": 6.759008535611978e-13, \"z_imag\": -3.676685609516198e-06, \"kind\": \"data\", \"fmt\": \"o\"}, {\"f\": 533669.9231206302, \"z_real\": 4.4469762813232866e-13, \"z_imag\": -2.982273052999402e-06, \"kind\": \"data\", \"fmt\": \"o\"}, {\"f\": 657933.2246575683, \"z_real\": 2.9258134447467607e-13, \"z_imag\": -2.419013619121115e-06, \"kind\": \"data\", \"fmt\": \"o\"}, {\"f\": 811130.8307896889, \"z_real\": 1.9249898744487065e-13, \"z_imag\": -1.9621365265692845e-06, \"kind\": \"data\", \"fmt\": \"o\"}, {\"f\": 1000000.0, \"z_real\": 1.2665147955292146e-13, \"z_imag\": -1.5915494309189436e-06, \"kind\": \"data\", \"fmt\": \"o\"}]}}, {\"mode\": \"vega-lite\"});\n",
              "</script>"
            ],
            "text/plain": [
              "alt.HConcatChart(...)"
            ]
          },
          "metadata": {},
          "execution_count": 59
        }
      ]
    },
    {
      "cell_type": "code",
      "source": [
        "# RL parallel circuit\n",
        "circuit = 'p(R0,L0)'\n",
        "initial_guess = [20,0.001]\n",
        "\n",
        "# Creating the circuit\n",
        "circuit = CustomCircuit(circuit, initial_guess=initial_guess)\n",
        "\n",
        "# Defining 100 frequency points between 1mHz to 1MHz\n",
        "frequencies = np.logspace(-3,6,100)\n",
        "\n",
        "# Calculating total Impedance of circuit for all frequencies\n",
        "Z_fit = circuit.predict(frequencies)\n",
        "\n",
        "# Showing the circuit, plots\n",
        "print(circuit)\n",
        "circuit.plot(f_data=frequencies, Z_data=Z_fit, kind='altair')"
      ],
      "metadata": {
        "colab": {
          "base_uri": "https://localhost:8080/",
          "height": 618
        },
        "id": "Bj_91OUMBD4R",
        "outputId": "4ec02205-70ee-4acb-9a4d-1e6d7e4d3455"
      },
      "execution_count": 60,
      "outputs": [
        {
          "output_type": "stream",
          "name": "stdout",
          "text": [
            "\n",
            "Circuit string: p(R0,L0)\n",
            "Fit: False\n",
            "\n",
            "Initial guesses:\n",
            "     R0 = 2.00e+01 [Ohm]\n",
            "     L0 = 1.00e-03 [H]\n",
            "\n"
          ]
        },
        {
          "output_type": "execute_result",
          "data": {
            "text/html": [
              "\n",
              "<div id=\"altair-viz-8210b52ed25e436ea017bd45edf3204a\"></div>\n",
              "<script type=\"text/javascript\">\n",
              "  var VEGA_DEBUG = (typeof VEGA_DEBUG == \"undefined\") ? {} : VEGA_DEBUG;\n",
              "  (function(spec, embedOpt){\n",
              "    let outputDiv = document.currentScript.previousElementSibling;\n",
              "    if (outputDiv.id !== \"altair-viz-8210b52ed25e436ea017bd45edf3204a\") {\n",
              "      outputDiv = document.getElementById(\"altair-viz-8210b52ed25e436ea017bd45edf3204a\");\n",
              "    }\n",
              "    const paths = {\n",
              "      \"vega\": \"https://cdn.jsdelivr.net/npm//vega@5?noext\",\n",
              "      \"vega-lib\": \"https://cdn.jsdelivr.net/npm//vega-lib?noext\",\n",
              "      \"vega-lite\": \"https://cdn.jsdelivr.net/npm//vega-lite@4.17.0?noext\",\n",
              "      \"vega-embed\": \"https://cdn.jsdelivr.net/npm//vega-embed@6?noext\",\n",
              "    };\n",
              "\n",
              "    function maybeLoadScript(lib, version) {\n",
              "      var key = `${lib.replace(\"-\", \"\")}_version`;\n",
              "      return (VEGA_DEBUG[key] == version) ?\n",
              "        Promise.resolve(paths[lib]) :\n",
              "        new Promise(function(resolve, reject) {\n",
              "          var s = document.createElement('script');\n",
              "          document.getElementsByTagName(\"head\")[0].appendChild(s);\n",
              "          s.async = true;\n",
              "          s.onload = () => {\n",
              "            VEGA_DEBUG[key] = version;\n",
              "            return resolve(paths[lib]);\n",
              "          };\n",
              "          s.onerror = () => reject(`Error loading script: ${paths[lib]}`);\n",
              "          s.src = paths[lib];\n",
              "        });\n",
              "    }\n",
              "\n",
              "    function showError(err) {\n",
              "      outputDiv.innerHTML = `<div class=\"error\" style=\"color:red;\">${err}</div>`;\n",
              "      throw err;\n",
              "    }\n",
              "\n",
              "    function displayChart(vegaEmbed) {\n",
              "      vegaEmbed(outputDiv, spec, embedOpt)\n",
              "        .catch(err => showError(`Javascript Error: ${err.message}<br>This usually means there's a typo in your chart specification. See the javascript console for the full traceback.`));\n",
              "    }\n",
              "\n",
              "    if(typeof define === \"function\" && define.amd) {\n",
              "      requirejs.config({paths});\n",
              "      require([\"vega-embed\"], displayChart, err => showError(`Error loading script: ${err.message}`));\n",
              "    } else {\n",
              "      maybeLoadScript(\"vega\", \"5\")\n",
              "        .then(() => maybeLoadScript(\"vega-lite\", \"4.17.0\"))\n",
              "        .then(() => maybeLoadScript(\"vega-embed\", \"6\"))\n",
              "        .catch(showError)\n",
              "        .then(() => displayChart(vegaEmbed));\n",
              "    }\n",
              "  })({\"config\": {\"view\": {\"continuousWidth\": 400, \"continuousHeight\": 300}, \"background\": \"#FFFFFF\"}, \"hconcat\": [{\"vconcat\": [{\"layer\": [{\"mark\": \"circle\", \"encoding\": {\"color\": {\"field\": \"kind\", \"type\": \"nominal\"}, \"size\": {\"condition\": {\"value\": 80, \"selection\": \"selector163\"}, \"value\": 30}, \"x\": {\"axis\": {\"title\": \"f [Hz]\"}, \"field\": \"f\", \"scale\": {\"nice\": false, \"type\": \"log\"}, \"type\": \"quantitative\"}, \"y\": {\"axis\": {\"title\": \"|Z| [\\u03a9]\"}, \"field\": \"mag\", \"type\": \"quantitative\"}}, \"height\": 175.0, \"selection\": {\"selector163\": {\"type\": \"single\", \"on\": \"mouseover\", \"nearest\": true, \"empty\": \"none\", \"fields\": [\"f\"]}, \"selector165\": {\"type\": \"interval\", \"bind\": \"scales\", \"encodings\": [\"x\", \"y\"]}}, \"transform\": [{\"calculate\": \"sqrt(pow(datum.z_real,2) + pow(datum.z_imag,2))\", \"as\": \"mag\"}, {\"calculate\": \"-(180/PI)*atan(datum.z_imag/datum.z_real)\", \"as\": \"neg_phase\"}], \"width\": 400}]}, {\"layer\": [{\"mark\": \"circle\", \"encoding\": {\"color\": {\"field\": \"kind\", \"type\": \"nominal\"}, \"size\": {\"condition\": {\"value\": 80, \"selection\": \"selector163\"}, \"value\": 30}, \"x\": {\"axis\": {\"title\": \"f [Hz]\"}, \"field\": \"f\", \"scale\": {\"nice\": false, \"type\": \"log\"}, \"type\": \"quantitative\"}, \"y\": {\"axis\": {\"title\": \"-\\u03d5 [\\u00b0]\"}, \"field\": \"neg_phase\", \"type\": \"quantitative\"}}, \"height\": 175.0, \"selection\": {\"selector163\": {\"type\": \"single\", \"on\": \"mouseover\", \"nearest\": true, \"empty\": \"none\", \"fields\": [\"f\"]}, \"selector165\": {\"type\": \"interval\", \"bind\": \"scales\", \"encodings\": [\"x\", \"y\"]}}, \"transform\": [{\"calculate\": \"sqrt(pow(datum.z_real,2) + pow(datum.z_imag,2))\", \"as\": \"mag\"}, {\"calculate\": \"-(180/PI)*atan(datum.z_imag/datum.z_real)\", \"as\": \"neg_phase\"}], \"width\": 400}]}]}, {\"layer\": [{\"mark\": \"circle\", \"encoding\": {\"color\": {\"field\": \"kind\", \"legend\": {\"title\": \"Legend\"}, \"type\": \"nominal\"}, \"size\": {\"condition\": {\"value\": 80, \"selection\": \"selector163\"}, \"value\": 30}, \"x\": {\"axis\": {\"title\": \"Z' [\\u03a9]\"}, \"field\": \"z_real\", \"scale\": {\"domain\": [1.9739208802176766e-12, 19.999797359685893], \"nice\": false, \"padding\": 5}, \"type\": \"quantitative\"}, \"y\": {\"axis\": {\"title\": \"-Z'' [\\u03a9]\"}, \"field\": \"neg_z_imag\", \"scale\": {\"domain\": [-9.952073853255023, 10.047723506428895], \"nice\": false, \"padding\": 5}, \"type\": \"quantitative\"}}, \"height\": 400, \"selection\": {\"selector163\": {\"type\": \"single\", \"on\": \"mouseover\", \"nearest\": true, \"empty\": \"none\", \"fields\": [\"f\"]}, \"selector164\": {\"type\": \"interval\", \"bind\": \"scales\", \"encodings\": [\"x\", \"y\"]}}, \"transform\": [{\"calculate\": \"-datum.z_imag\", \"as\": \"neg_z_imag\"}], \"width\": 400}]}], \"data\": {\"name\": \"data-ae7bbcf0e7a391e8ddf86b260b5d27da\"}, \"$schema\": \"https://vega.github.io/schema/vega-lite/v4.17.0.json\", \"datasets\": {\"data-ae7bbcf0e7a391e8ddf86b260b5d27da\": [{\"f\": 0.001, \"z_real\": 1.9739208802176766e-12, \"z_imag\": 6.283185307178966e-06, \"kind\": \"data\", \"fmt\": \"o\"}, {\"f\": 0.0012328467394420659, \"z_real\": 3.000184222714902e-12, \"z_imag\": 7.746204519265486e-06, \"kind\": \"data\", \"fmt\": \"o\"}, {\"f\": 0.0015199110829529332, \"z_real\": 4.5600132510045555e-12, \"z_imag\": 9.549882984627106e-06, \"kind\": \"data\", \"fmt\": \"o\"}, {\"f\": 0.001873817422860383, \"z_real\": 6.930814678613238e-12, \"z_imag\": 1.1773542099649396e-05, \"kind\": \"data\", \"fmt\": \"o\"}, {\"f\": 0.0023101297000831605, \"z_real\": 1.0534222043915257e-11, \"z_imag\": 1.4514972989234052e-05, \"kind\": \"data\", \"fmt\": \"o\"}, {\"f\": 0.002848035868435802, \"z_real\": 1.601108083482951e-11, \"z_imag\": 1.7894737122861957e-05, \"kind\": \"data\", \"fmt\": \"o\"}, {\"f\": 0.003511191734215131, \"z_real\": 2.4335419210902553e-11, \"z_imag\": 2.206146831508408e-05, \"kind\": \"data\", \"fmt\": \"o\"}, {\"f\": 0.004328761281083057, \"z_real\": 3.6987673366933113e-11, \"z_imag\": 2.7198409279538652e-05, \"kind\": \"data\", \"fmt\": \"o\"}, {\"f\": 0.005336699231206312, \"z_real\": 5.6217974682990696e-11, \"z_imag\": 3.353147019825783e-05, \"kind\": \"data\", \"fmt\": \"o\"}, {\"f\": 0.006579332246575682, \"z_real\": 8.544632278172017e-11, \"z_imag\": 4.133916370256058e-05, \"kind\": \"data\", \"fmt\": \"o\"}, {\"f\": 0.008111308307896872, \"z_real\": 1.2987081299322168e-10, \"z_imag\": 5.09648531818504e-05, \"kind\": \"data\", \"fmt\": \"o\"}, {\"f\": 0.01, \"z_real\": 1.9739208801983902e-10, \"z_imag\": 6.283185307117575e-05, \"kind\": \"data\", \"fmt\": \"o\"}, {\"f\": 0.012328467394420659, \"z_real\": 3.000184222670347e-10, \"z_imag\": 7.746204519150448e-05, \"kind\": \"data\", \"fmt\": \"o\"}, {\"f\": 0.01519911082952934, \"z_real\": 4.560013250901631e-10, \"z_imag\": 9.549882984411549e-05, \"kind\": \"data\", \"fmt\": \"o\"}, {\"f\": 0.01873817422860384, \"z_real\": 6.930814678375467e-10, \"z_imag\": 0.00011773542099245482, \"kind\": \"data\", \"fmt\": \"o\"}, {\"f\": 0.023101297000831605, \"z_real\": 1.0534222043365954e-09, \"z_imag\": 0.00014514972988477178, \"kind\": \"data\", \"fmt\": \"o\"}, {\"f\": 0.02848035868435802, \"z_real\": 1.6011080833560558e-09, \"z_imag\": 0.00017894737121443714, \"kind\": \"data\", \"fmt\": \"o\"}, {\"f\": 0.03511191734215131, \"z_real\": 2.433541920797109e-09, \"z_imag\": 0.00022061468312426543, \"kind\": \"data\", \"fmt\": \"o\"}, {\"f\": 0.04328761281083059, \"z_real\": 3.698767336016111e-09, \"z_imag\": 0.00027198409274558933, \"kind\": \"data\", \"fmt\": \"o\"}, {\"f\": 0.0533669923120631, \"z_real\": 5.6217974667346395e-09, \"z_imag\": 0.00033531470188926727, \"kind\": \"data\", \"fmt\": \"o\"}, {\"f\": 0.06579332246575682, \"z_real\": 8.544632274557982e-09, \"z_imag\": 0.0004133916368507579, \"kind\": \"data\", \"fmt\": \"o\"}, {\"f\": 0.08111308307896872, \"z_real\": 1.2987081290973281e-08, \"z_imag\": 0.000509648531490871, \"kind\": \"data\", \"fmt\": \"o\"}, {\"f\": 0.1, \"z_real\": 1.9739208782696903e-08, \"z_imag\": 0.0006283185300978331, \"kind\": \"data\", \"fmt\": \"o\"}, {\"f\": 0.12328467394420659, \"z_real\": 3.0001842182148e-08, \"z_imag\": 0.0007746204507646627, \"kind\": \"data\", \"fmt\": \"o\"}, {\"f\": 0.1519911082952933, \"z_real\": 4.5600132406087355e-08, \"z_imag\": 0.0009549882962855488, \"kind\": \"data\", \"fmt\": \"o\"}, {\"f\": 0.1873817422860385, \"z_real\": 6.930814654597559e-08, \"z_imag\": 0.001177354205885337, \"kind\": \"data\", \"fmt\": \"o\"}, {\"f\": 0.23101297000831605, \"z_real\": 1.0534221988435889e-07, \"z_imag\": 0.0014514972912789725, \"kind\": \"data\", \"fmt\": \"o\"}, {\"f\": 0.2848035868435802, \"z_real\": 1.601108070666498e-07, \"z_imag\": 0.0017894736979619246, \"kind\": \"data\", \"fmt\": \"o\"}, {\"f\": 0.3511191734215131, \"z_real\": 2.433541891482586e-07, \"z_imag\": 0.002206146804667339, \"kind\": \"data\", \"fmt\": \"o\"}, {\"f\": 0.4328761281083057, \"z_real\": 3.6987672682957534e-07, \"z_imag\": 0.002719840877658602, \"kind\": \"data\", \"fmt\": \"o\"}, {\"f\": 0.5336699231206312, \"z_real\": 5.621797310291843e-07, \"z_imag\": 0.0033531469255816443, \"kind\": \"data\", \"fmt\": \"o\"}, {\"f\": 0.6579332246575682, \"z_real\": 8.544631913154831e-07, \"z_imag\": 0.00413391619365975, \"kind\": \"data\", \"fmt\": \"o\"}, {\"f\": 0.8111308307896873, \"z_real\": 1.2987080456085148e-06, \"z_imag\": 0.00509648498727581, \"kind\": \"data\", \"fmt\": \"o\"}, {\"f\": 1.0, \"z_real\": 1.973920685399709e-06, \"z_imag\": 0.006283184687054115, \"kind\": \"data\", \"fmt\": \"o\"}, {\"f\": 1.232846739442066, \"z_real\": 3.0001837726601513e-06, \"z_imag\": 0.007746203357264793, \"kind\": \"data\", \"fmt\": \"o\"}, {\"f\": 1.5199110829529348, \"z_real\": 4.560012211319798e-06, \"z_imag\": 0.00954988080725014, \"kind\": \"data\", \"fmt\": \"o\"}, {\"f\": 1.873817422860385, \"z_real\": 6.930812276806881e-06, \"z_imag\": 0.011773538019642982, \"kind\": \"data\", \"fmt\": \"o\"}, {\"f\": 2.31012970008316, \"z_real\": 1.0534216495432019e-05, \"z_imag\": 0.0145149653440483, \"kind\": \"data\", \"fmt\": \"o\"}, {\"f\": 2.848035868435802, \"z_real\": 1.6011068017117112e-05, \"z_imag\": 0.01789472279718362, \"kind\": \"data\", \"fmt\": \"o\"}, {\"f\": 3.511191734215131, \"z_real\": 2.4335389600336774e-05, \"z_imag\": 0.022061441471389588, \"kind\": \"data\", \"fmt\": \"o\"}, {\"f\": 4.328761281083062, \"z_real\": 3.698760496272904e-05, \"z_imag\": 0.027198358979388073, \"kind\": \"data\", \"fmt\": \"o\"}, {\"f\": 5.336699231206313, \"z_real\": 5.621781666055909e-05, \"z_imag\": 0.03353137594504991, \"kind\": \"data\", \"fmt\": \"o\"}, {\"f\": 6.5793322465756825, \"z_real\": 8.544595772994097e-05, \"z_imag\": 0.04133898708951547, \"kind\": \"data\", \"fmt\": \"o\"}, {\"f\": 8.111308307896872, \"z_real\": 0.0001298699696781377, \"z_imag\": 0.05096452224198447, \"kind\": \"data\", \"fmt\": \"o\"}, {\"f\": 10.0, \"z_real\": 0.00019739013985919408, \"z_imag\": 0.06283123295238259, \"kind\": \"data\", \"fmt\": \"o\"}, {\"f\": 12.32846739442066, \"z_real\": 0.0003000139217863615, \"z_imag\": 0.07746088320806808, \"kind\": \"data\", \"fmt\": \"o\"}, {\"f\": 15.199110829529332, \"z_real\": 0.0004559909284771786, \"z_imag\": 0.09549665251628833, \"kind\": \"data\", \"fmt\": \"o\"}, {\"f\": 18.73817422860383, \"z_real\": 0.0006930574505978054, \"z_imag\": 0.11773134112599873, \"kind\": \"data\", \"fmt\": \"o\"}, {\"f\": 23.10129700083158, \"z_real\": 0.001053366722397341, \"z_imag\": 0.14514208509765514, \"kind\": \"data\", \"fmt\": \"o\"}, {\"f\": 28.48035868435805, \"z_real\": 0.001600979916389955, \"z_imag\": 0.17893304667139162, \"kind\": \"data\", \"fmt\": \"o\"}, {\"f\": 35.111917342151344, \"z_real\": 0.002433245850804108, \"z_imag\": 0.22058784266298925, \"kind\": \"data\", \"fmt\": \"o\"}, {\"f\": 43.287612810830616, \"z_real\": 0.003698083419192193, \"z_imag\": 0.2719338018026971, \"kind\": \"data\", \"fmt\": \"o\"}, {\"f\": 53.366992312063125, \"z_real\": 0.005620217682038062, \"z_imag\": 0.3352204749026642, \"kind\": \"data\", \"fmt\": \"o\"}, {\"f\": 65.79332246575683, \"z_real\": 0.008540983300128827, \"z_imag\": 0.41321509847395876, \"kind\": \"data\", \"fmt\": \"o\"}, {\"f\": 81.11308307896873, \"z_real\": 0.012978653557960797, \"z_imag\": 0.5093178042352715, \"kind\": \"data\", \"fmt\": \"o\"}, {\"f\": 100.0, \"z_real\": 0.019719746192797438, \"z_imag\": 0.6276990166202592, \"kind\": \"data\", \"fmt\": \"o\"}, {\"f\": 123.28467394420659, \"z_real\": 0.029956904111614995, \"z_imag\": 0.7734601903966017, \"kind\": \"data\", \"fmt\": \"o\"}, {\"f\": 151.99110829529332, \"z_real\": 0.04549640041567169, \"z_imag\": 0.9528158719619707, \"kind\": \"data\", \"fmt\": \"o\"}, {\"f\": 187.3817422860383, \"z_real\": 0.06906879527608949, \"z_imag\": 1.1732882881205706, \"kind\": \"data\", \"fmt\": \"o\"}, {\"f\": 231.01297000831627, \"z_real\": 0.1047902784088069, \"z_imag\": 1.4438921586209763, \"kind\": \"data\", \"fmt\": \"o\"}, {\"f\": 284.8035868435805, \"z_real\": 0.15883921459610315, \"z_imag\": 1.7752617823376236, \"kind\": \"data\", \"fmt\": \"o\"}, {\"f\": 351.11917342151344, \"z_real\": 0.24042872520027267, \"z_imag\": 2.1796257779958523, \"kind\": \"data\", \"fmt\": \"o\"}, {\"f\": 432.87612810830615, \"z_real\": 0.3631605026442156, \"z_imag\": 2.670453988033404, \"kind\": \"data\", \"fmt\": \"o\"}, {\"f\": 533.6699231206312, \"z_real\": 0.5468094859136867, \"z_imag\": 3.2614703899297544, \"kind\": \"data\", \"fmt\": \"o\"}, {\"f\": 657.9332246575682, \"z_real\": 0.8194535802589796, \"z_imag\": 3.9645387417681177, \"kind\": \"data\", \"fmt\": \"o\"}, {\"f\": 811.1308307896873, \"z_real\": 1.2195182186801194, \"z_imag\": 4.785722483377996, \"kind\": \"data\", \"fmt\": \"o\"}, {\"f\": 1000.0, \"z_real\": 1.796603247074493, \"z_imag\": 5.718765750937107, \"kind\": \"data\", \"fmt\": \"o\"}, {\"f\": 1232.8467394420659, \"z_real\": 2.6088349498977688, \"z_imag\": 6.735776065320705, \"kind\": \"data\", \"fmt\": \"o\"}, {\"f\": 1519.9110829529332, \"z_real\": 3.7133638360874155, \"z_imag\": 7.776773478929836, \"kind\": \"data\", \"fmt\": \"o\"}, {\"f\": 1873.817422860383, \"z_real\": 5.147125893758452, \"z_imag\": 8.743546929534391, \"kind\": \"data\", \"fmt\": \"o\"}, {\"f\": 2310.129700083163, \"z_real\": 6.899944612158949, \"z_imag\": 9.507347505604162, \"kind\": \"data\", \"fmt\": \"o\"}, {\"f\": 2848.035868435805, \"z_real\": 8.892307847284, \"z_imag\": 9.938461555734438, \"kind\": \"data\", \"fmt\": \"o\"}, {\"f\": 3511.1917342151346, \"z_real\": 10.97786809916149, \"z_imag\": 9.952073853255023, \"kind\": \"data\", \"fmt\": \"o\"}, {\"f\": 4328.7612810830615, \"z_real\": 12.98093822107821, \"z_imag\": 9.545365751091733, \"kind\": \"data\", \"fmt\": \"o\"}, {\"f\": 5336.699231206313, \"z_real\": 14.751894134384063, \"z_imag\": 8.798835271534882, \"kind\": \"data\", \"fmt\": \"o\"}, {\"f\": 6579.332246575683, \"z_real\": 16.206600766660795, \"z_imag\": 7.84079759484235, \"kind\": \"data\", \"fmt\": \"o\"}, {\"f\": 8111.308307896872, \"z_real\": 17.331034695756003, \"z_imag\": 6.801171243956567, \"kind\": \"data\", \"fmt\": \"o\"}, {\"f\": 10000.0, \"z_real\": 18.160006632992495, \"z_imag\": 5.780509644444724, \"kind\": \"data\", \"fmt\": \"o\"}, {\"f\": 12328.467394420659, \"z_real\": 18.750071957855596, \"z_imag\": 4.841099124408533, \"kind\": \"data\", \"fmt\": \"o\"}, {\"f\": 15199.11082952933, \"z_real\": 19.159666204888197, \"z_imag\": 4.012544705673576, \"kind\": \"data\", \"fmt\": \"o\"}, {\"f\": 18738.174228603868, \"z_real\": 19.43905427636544, \"z_imag\": 3.3021590464160377, \"kind\": \"data\", \"fmt\": \"o\"}, {\"f\": 23101.297000831626, \"z_real\": 19.627360046807922, \"z_imag\": 2.704429427647635, \"kind\": \"data\", \"fmt\": \"o\"}, {\"f\": 28480.35868435805, \"z_real\": 19.753255193731263, \"z_imag\": 2.2077167223070373, \"kind\": \"data\", \"fmt\": \"o\"}, {\"f\": 35111.91734215135, \"z_real\": 19.836970382873357, \"z_imag\": 1.7983363663320702, \"kind\": \"data\", \"fmt\": \"o\"}, {\"f\": 43287.612810830615, \"z_real\": 19.89243747624315, \"z_imag\": 1.4627647721421275, \"kind\": \"data\", \"fmt\": \"o\"}, {\"f\": 53366.99231206313, \"z_real\": 19.929100609824005, \"z_imag\": 1.1886803943838655, \"kind\": \"data\", \"fmt\": \"o\"}, {\"f\": 65793.32246575682, \"z_real\": 19.953296301930237, \"z_imag\": 0.9653459100145787, \"kind\": \"data\", \"fmt\": \"o\"}, {\"f\": 81113.08307896872, \"z_real\": 19.96924752057802, \"z_imag\": 0.7836477993645942, \"kind\": \"data\", \"fmt\": \"o\"}, {\"f\": 100000.0, \"z_real\": 19.97975627445387, \"z_imag\": 0.6359753945701289, \"kind\": \"data\", \"fmt\": \"o\"}, {\"f\": 123284.67394420685, \"z_real\": 19.986676367260426, \"z_imag\": 0.5160379207016489, \"kind\": \"data\", \"fmt\": \"o\"}, {\"f\": 151991.10829529332, \"z_real\": 19.991231941294515, \"z_imag\": 0.41866967319852566, \"kind\": \"data\", \"fmt\": \"o\"}, {\"f\": 187381.74228603867, \"z_real\": 19.994230337625584, \"z_imag\": 0.3396468143298018, \"kind\": \"data\", \"fmt\": \"o\"}, {\"f\": 231012.9700083158, \"z_real\": 19.996203572795515, \"z_imag\": 0.2755251916433665, \"kind\": \"data\", \"fmt\": \"o\"}, {\"f\": 284803.5868435805, \"z_real\": 19.99750204221083, \"z_imag\": 0.22350148990617347, \"kind\": \"data\", \"fmt\": \"o\"}, {\"f\": 351119.17342151277, \"z_real\": 19.998356440358226, \"z_imag\": 0.18129669480485525, \"kind\": \"data\", \"fmt\": \"o\"}, {\"f\": 432876.12810830615, \"z_real\": 19.998918617106913, \"z_imag\": 0.14705947257081012, \"kind\": \"data\", \"fmt\": \"o\"}, {\"f\": 533669.9231206302, \"z_real\": 19.99928850910685, \"z_imag\": 0.11928667839974252, \"kind\": \"data\", \"fmt\": \"o\"}, {\"f\": 657933.2246575683, \"z_real\": 19.999531880805876, \"z_imag\": 0.09675827999143412, \"kind\": \"data\", \"fmt\": \"o\"}, {\"f\": 811130.8307896889, \"z_real\": 19.999692006363166, \"z_imag\": 0.07848425241164256, \"kind\": \"data\", \"fmt\": \"o\"}, {\"f\": 1000000.0, \"z_real\": 19.999797359685893, \"z_imag\": 0.06366133221260493, \"kind\": \"data\", \"fmt\": \"o\"}]}}, {\"mode\": \"vega-lite\"});\n",
              "</script>"
            ],
            "text/plain": [
              "alt.HConcatChart(...)"
            ]
          },
          "metadata": {},
          "execution_count": 60
        }
      ]
    },
    {
      "cell_type": "code",
      "source": [],
      "metadata": {
        "id": "Kt-UOeX0BV-5"
      },
      "execution_count": null,
      "outputs": []
    }
  ]
}